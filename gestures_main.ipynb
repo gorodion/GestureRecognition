{
 "cells": [
  {
   "cell_type": "markdown",
   "metadata": {
    "id": "Ec70vkUKbUmA"
   },
   "source": [
    "# Introduction"
   ]
  },
  {
   "cell_type": "markdown",
   "metadata": {
    "id": "otaI65s_bdAN"
   },
   "source": [
    "in this notebook, I will describe the pipeline of my solution to the gesture recognition problem ✌🏻. You can find more information about the task [here](https://boosters.pro/championship/machinescansee2021/overview). \n",
    "\n",
    "My [Github Repo](https://github.com/gorodion/GestureRecognition) 🌟\n",
    "\n",
    "Let's go!"
   ]
  },
  {
   "cell_type": "markdown",
   "metadata": {
    "id": "nJ3uq0cUpDAM"
   },
   "source": [
    "# Converting hand datasets"
   ]
  },
  {
   "cell_type": "markdown",
   "metadata": {
    "id": "ssp6kk5h3n7x"
   },
   "source": [
    "In the first part we will download hand datasets and convert it to csv format"
   ]
  },
  {
   "cell_type": "markdown",
   "metadata": {
    "id": "N1gRVsa8FqqD"
   },
   "source": [
    "You can find the result of the converting [here](https://drive.google.com/file/d/14zGOEpDfGEb_Chd4fbPYyAj0JoKcBrVS/view?usp=sharing)"
   ]
  },
  {
   "cell_type": "markdown",
   "metadata": {
    "id": "CPL48Muz3yGb"
   },
   "source": [
    "## Import"
   ]
  },
  {
   "cell_type": "code",
   "execution_count": 1,
   "metadata": {
    "id": "XmRmi66IAB2G"
   },
   "outputs": [],
   "source": [
    "from tqdm.notebook import tqdm\n",
    "import cv2 as cv\n",
    "import matplotlib.pyplot as plt\n",
    "from pathlib import Path\n",
    "import skimage.io\n",
    "import pandas as pd\n",
    "import scipy.io\n",
    "\n",
    "def read(path, as_gray=False):\n",
    "    return skimage.io.imread(path, as_gray=as_gray)\n",
    "\n",
    "def show(img):\n",
    "    plt.imshow(img)\n",
    "    plt.grid()\n",
    "    plt.axis('off')\n",
    "    plt.show()\n",
    "    \n",
    "plt.rcParams['figure.figsize'] = (8, 8)\n",
    "plt.style.use('dark_background')"
   ]
  },
  {
   "cell_type": "code",
   "execution_count": 2,
   "metadata": {
    "id": "YliBkMwS61xN"
   },
   "outputs": [],
   "source": [
    "HAND_DIR = Path('hand_detection')\n",
    "HAND_DATA = HAND_DIR / 'data'\n",
    "\n",
    "for path in (HAND_DIR, HAND_DATA):\n",
    "    path.mkdir(parents=True, exist_ok=True)"
   ]
  },
  {
   "cell_type": "markdown",
   "metadata": {
    "id": "-2WyzkpE4a5L"
   },
   "source": [
    "## Downloading dataset"
   ]
  },
  {
   "cell_type": "markdown",
   "metadata": {
    "id": "DPSM757T3_s0"
   },
   "source": [
    "You can find first dataset [here](https://www.robots.ox.ac.uk/~vgg/data/hands/)"
   ]
  },
  {
   "cell_type": "code",
   "execution_count": 3,
   "metadata": {
    "colab": {
     "base_uri": "https://localhost:8080/"
    },
    "id": "rEbGKjLQ-l2P",
    "outputId": "79426185-0883-4635-903e-f6fcdc4e896a"
   },
   "outputs": [
    {
     "name": "stdout",
     "output_type": "stream",
     "text": [
      "--2021-07-27 20:20:39--  https://www.robots.ox.ac.uk/~vgg/data/hands/downloads/hand_dataset.tar.gz\n",
      "Resolving www.robots.ox.ac.uk (www.robots.ox.ac.uk)... 129.67.94.2\n",
      "Connecting to www.robots.ox.ac.uk (www.robots.ox.ac.uk)|129.67.94.2|:443... connected.\n",
      "HTTP request sent, awaiting response... 200 OK\n",
      "Length: 250468306 (239M) [application/x-gzip]\n",
      "Saving to: ‘hand_dataset.tar.gz’\n",
      "\n",
      "hand_dataset.tar.gz 100%[===================>] 238.86M  31.0MB/s    in 8.4s    \n",
      "\n",
      "2021-07-27 20:20:47 (28.6 MB/s) - ‘hand_dataset.tar.gz’ saved [250468306/250468306]\n",
      "\n"
     ]
    }
   ],
   "source": [
    "!wget -O hand_dataset.tar.gz https://www.robots.ox.ac.uk/~vgg/data/hands/downloads/hand_dataset.tar.gz\n",
    "!tar xzf hand_dataset.tar.gz -C $HAND_DATA"
   ]
  },
  {
   "cell_type": "markdown",
   "metadata": {
    "id": "mlwzq2mJ_SrP"
   },
   "source": [
    "And second one [here](https://www3.cs.stonybrook.edu/~cvl/projects/hand_det_attention/) (we only take COCO-Hand dataset)"
   ]
  },
  {
   "cell_type": "code",
   "execution_count": 4,
   "metadata": {
    "colab": {
     "base_uri": "https://localhost:8080/"
    },
    "id": "_V7-J0N0_Rpb",
    "outputId": "637a735b-15ac-4124-8027-4c38fb129d86"
   },
   "outputs": [
    {
     "name": "stdout",
     "output_type": "stream",
     "text": [
      "--2021-07-27 20:20:51--  http://vision.cs.stonybrook.edu/~supreeth/COCO-Hand.zip\n",
      "Resolving vision.cs.stonybrook.edu (vision.cs.stonybrook.edu)... 130.245.4.232\n",
      "Connecting to vision.cs.stonybrook.edu (vision.cs.stonybrook.edu)|130.245.4.232|:80... connected.\n",
      "HTTP request sent, awaiting response... 200 OK\n",
      "Length: 1296190351 (1.2G) [application/zip]\n",
      "Saving to: ‘coco-hands.zip’\n",
      "\n",
      "coco-hands.zip      100%[===================>]   1.21G  58.9MB/s    in 41s     \n",
      "\n",
      "2021-07-27 20:21:32 (30.2 MB/s) - ‘coco-hands.zip’ saved [1296190351/1296190351]\n",
      "\n"
     ]
    }
   ],
   "source": [
    "!wget -O coco-hands.zip http://vision.cs.stonybrook.edu/~supreeth/COCO-Hand.zip\n",
    "!unzip -q coco-hands.zip -d $HAND_DATA"
   ]
  },
  {
   "cell_type": "markdown",
   "metadata": {
    "id": "3sHl9yYE-bfF"
   },
   "source": [
    "## Converting datasets"
   ]
  },
  {
   "cell_type": "markdown",
   "metadata": {
    "id": "d08T9FPv_fYa"
   },
   "source": [
    "### First dataset"
   ]
  },
  {
   "cell_type": "code",
   "execution_count": 5,
   "metadata": {
    "id": "2psdo9aoFEdf"
   },
   "outputs": [],
   "source": [
    "def extract_resolutions(images_path: Path):\n",
    "    resols = []\n",
    "    for i in tqdm(list(images_path.glob(f'*.jpg'))):\n",
    "        resols.append((i.name, *read(i).shape[:2]))\n",
    "\n",
    "    resols = pd.DataFrame(resols, columns=['id', 'height', 'width'])\n",
    "    return resols\n",
    "\n",
    "def convert2csv(images_path, annot_path, save_path):\n",
    "    tqdm.write('Extracting annotations')\n",
    "\n",
    "    annot = []\n",
    "    for i in tqdm(list(annot_path.glob(f'*.mat'))):\n",
    "        mat = scipy.io.loadmat(i)\n",
    "        filename = i.name.replace('.mat', '.jpg')\n",
    "        for i in mat['boxes'][0]:\n",
    "            box = list(i[0][0])[:4]\n",
    "            xmin = round(min(x[0][1] for x in box))\n",
    "            xmax = round(max(x[0][1] for x in box))\n",
    "            ymin = round(min(x[0][0] for x in box))\n",
    "            ymax = round(max(x[0][0] for x in box))\n",
    "            annot.append((filename, xmin, ymin, xmax, ymax))\n",
    "\n",
    "    df = pd.DataFrame(annot, columns=['id', 'xmin', 'ymin', 'xmax', 'ymax'])\n",
    "    \n",
    "    tqdm.write('Extracting resolutions')\n",
    "    resols = extract_resolutions(images_path)\n",
    "\n",
    "    # merging\n",
    "    df = pd.merge(df, resols, how='left')\n",
    "\n",
    "    df.to_csv(save_path, index=False)\n",
    "    return df"
   ]
  },
  {
   "cell_type": "code",
   "execution_count": 6,
   "metadata": {
    "colab": {
     "base_uri": "https://localhost:8080/",
     "height": 461,
     "referenced_widgets": [
      "a4fffa1bb5e84b8fadddbda625cd711d",
      "cf73c3896c614a0bba70d0c55792edb5",
      "ec07c2ef4353469ca8d8ca72523f3a96",
      "06d6fafcdf144312bdedb05d899d6194",
      "18c6594363d54cd29d5837d0a9ad34f6",
      "ddbc6067332b4ebea1bf587558b3f343",
      "aaa8201b369f4c85b22b60b1ba2e88b0",
      "609f61487eca4ebd9b64b2a350cd9d87",
      "cc6b0d164c1c4df5a6996558c7ad7757",
      "b0025c3c93d24f01a49f64bde54c461f",
      "7004211ed8e542c98c5b4fd04a5f3964",
      "1690f4b7f2d94d6e95c71eeab9bac0f6",
      "10a027e94d544643979ca5b6aed5c96b",
      "623ef2d922ad44f9b5d158717ead2641",
      "d5678d639930438e95882c94825ea14b",
      "13e6ca70c2c7486483d2352880f0a7d8",
      "a69d28c0435744db8b83efde796aae90",
      "66e09f2223c7480cb3b662fa7aff4add",
      "2022344673c04164a8ed308a2e4ca336",
      "0a330b775f124f0f86c0f150143818e4",
      "93bbc583f62d45068983f63c06d18f20",
      "f355ba254c1745418b25fb844dca9f2c",
      "893b6d56af6f4cee8c153ff8e48443f6",
      "365a86407a8e40dcb9f2cfa555098f9b",
      "0c5cb81f504c47aa890a0c7bdc8332d0",
      "640d7650f18f4002abbca9cdfeebd4ff",
      "9e94530b07ca4f0bbd21da7342c947b7",
      "3791922669f44d4b9ea53d4b5c953b77",
      "a04c2d15a56145bf9cb728e7551ceab1",
      "1fcb94943be64e9a968f824123222378",
      "30ac6f8b99f84e5280748a6ba3e10409",
      "b3ed87e382b14733a3e0803b7ec4ac14",
      "37cb69b53d9c4d9d8d3335b864e1f907",
      "91ed6b72331e45028a50c999057436bf",
      "bd3ca28ea5434e09b1c03d5f6ae2bc65",
      "dc419456e76346dfb858e20c8cb144a0",
      "1f5a6229335d4dd18100061e43ba2a5d",
      "052d210ecb174a709c4e231bb8f924e9",
      "2f889b2e4eb746809b8da1e4175f6108",
      "b1902ab8c2ed47219983a1f45a6d83f7",
      "74e1e5f80c8a410f96d252f574ad0f37",
      "64bcc9e5bddf4b5d8cf2fe6242736163",
      "1430b043f5b745338fcadb3ad7e334fe",
      "4646a0993aef4c8a9a07c0b0bcace810",
      "55a470bdebcd42e8a8e8ed31dc5c3c68",
      "62ffc69166404f5da6bcf8ac848e3463",
      "17dc73fc23fb403ab0c978600ab05ed8",
      "6e757176800d48eaa919d44b4364b7a5"
     ]
    },
    "id": "E1TE4q94rp5Y",
    "outputId": "c104ed7f-ee8e-436e-a1fb-9ad8f732c93d"
   },
   "outputs": [
    {
     "name": "stdout",
     "output_type": "stream",
     "text": [
      "training dataset converting..\n",
      "Extracting annotations\n"
     ]
    },
    {
     "data": {
      "application/vnd.jupyter.widget-view+json": {
       "model_id": "a4fffa1bb5e84b8fadddbda625cd711d",
       "version_major": 2,
       "version_minor": 0
      },
      "text/plain": [
       "HBox(children=(FloatProgress(value=0.0, max=4069.0), HTML(value='')))"
      ]
     },
     "metadata": {
      "tags": []
     },
     "output_type": "display_data"
    },
    {
     "name": "stdout",
     "output_type": "stream",
     "text": [
      "\n",
      "Extracting resolutions\n"
     ]
    },
    {
     "data": {
      "application/vnd.jupyter.widget-view+json": {
       "model_id": "cc6b0d164c1c4df5a6996558c7ad7757",
       "version_major": 2,
       "version_minor": 0
      },
      "text/plain": [
       "HBox(children=(FloatProgress(value=0.0, max=4069.0), HTML(value='')))"
      ]
     },
     "metadata": {
      "tags": []
     },
     "output_type": "display_data"
    },
    {
     "name": "stdout",
     "output_type": "stream",
     "text": [
      "\n",
      "validation dataset converting..\n",
      "Extracting annotations\n"
     ]
    },
    {
     "data": {
      "application/vnd.jupyter.widget-view+json": {
       "model_id": "a69d28c0435744db8b83efde796aae90",
       "version_major": 2,
       "version_minor": 0
      },
      "text/plain": [
       "HBox(children=(FloatProgress(value=0.0, max=738.0), HTML(value='')))"
      ]
     },
     "metadata": {
      "tags": []
     },
     "output_type": "display_data"
    },
    {
     "name": "stdout",
     "output_type": "stream",
     "text": [
      "\n",
      "Extracting resolutions\n"
     ]
    },
    {
     "data": {
      "application/vnd.jupyter.widget-view+json": {
       "model_id": "0c5cb81f504c47aa890a0c7bdc8332d0",
       "version_major": 2,
       "version_minor": 0
      },
      "text/plain": [
       "HBox(children=(FloatProgress(value=0.0, max=738.0), HTML(value='')))"
      ]
     },
     "metadata": {
      "tags": []
     },
     "output_type": "display_data"
    },
    {
     "name": "stdout",
     "output_type": "stream",
     "text": [
      "\n",
      "test dataset converting..\n",
      "Extracting annotations\n"
     ]
    },
    {
     "data": {
      "application/vnd.jupyter.widget-view+json": {
       "model_id": "37cb69b53d9c4d9d8d3335b864e1f907",
       "version_major": 2,
       "version_minor": 0
      },
      "text/plain": [
       "HBox(children=(FloatProgress(value=0.0, max=821.0), HTML(value='')))"
      ]
     },
     "metadata": {
      "tags": []
     },
     "output_type": "display_data"
    },
    {
     "name": "stdout",
     "output_type": "stream",
     "text": [
      "\n",
      "Extracting resolutions\n"
     ]
    },
    {
     "data": {
      "application/vnd.jupyter.widget-view+json": {
       "model_id": "74e1e5f80c8a410f96d252f574ad0f37",
       "version_major": 2,
       "version_minor": 0
      },
      "text/plain": [
       "HBox(children=(FloatProgress(value=0.0, max=821.0), HTML(value='')))"
      ]
     },
     "metadata": {
      "tags": []
     },
     "output_type": "display_data"
    },
    {
     "name": "stdout",
     "output_type": "stream",
     "text": [
      "\n"
     ]
    }
   ],
   "source": [
    "data_subdir = HAND_DATA / 'hand_dataset'\n",
    "\n",
    "for part in ('training', 'validation', 'test'):\n",
    "    print(part, 'dataset converting..')\n",
    "    subdir = data_subdir / f'{part}_dataset/{part}_data'\n",
    "    images_path = subdir / 'images'\n",
    "    annot_path = subdir / 'annotations'\n",
    "    save_path = subdir / 'annotations.csv'\n",
    "    convert2csv(images_path, annot_path, save_path)"
   ]
  },
  {
   "cell_type": "markdown",
   "metadata": {
    "id": "8XgFtOvl_lQP"
   },
   "source": [
    "### Second dataset"
   ]
  },
  {
   "cell_type": "markdown",
   "metadata": {
    "id": "rgufRLTSUe-m"
   },
   "source": [
    "Extract annotations"
   ]
  },
  {
   "cell_type": "code",
   "execution_count": 7,
   "metadata": {
    "id": "J8TaRVm75zeD"
   },
   "outputs": [],
   "source": [
    "coco_path = HAND_DATA / 'COCO-Hand/COCO-Hand-S'\n",
    "annot = pd.read_csv(coco_path / 'COCO-Hand-S_annotations.txt', header=None)\n",
    "annot = annot.iloc[:, :5]\n",
    "annot.columns = ['id', 'xmin', 'xmax', 'ymin', 'ymax']\n",
    "annot = annot[['id', 'xmin', 'ymin', 'xmax', 'ymax']]"
   ]
  },
  {
   "cell_type": "markdown",
   "metadata": {
    "id": "KoIFtdwuUh74"
   },
   "source": [
    "Extract resolutions, merge and save dataframe"
   ]
  },
  {
   "cell_type": "code",
   "execution_count": 8,
   "metadata": {
    "colab": {
     "base_uri": "https://localhost:8080/",
     "height": 66,
     "referenced_widgets": [
      "f0ca4912a2c944c18ebb004ca8a77d47",
      "8e110cd5fd084219ae07444dc6b61636",
      "bdd635268de34eaba5f1fde72141c80f",
      "efec440c5c2345d09f1ce050fb4d86a2",
      "dfc085d318cf478088792d19d4be8929",
      "520ce9c4f33145d48cba1ac0c8189e61",
      "41c3def37a99445491c5f1ca69257014",
      "f4bbce0560064ab7afc15a1e3b6ef83f"
     ]
    },
    "id": "whmiNYhk6CqT",
    "outputId": "c783bd60-a6eb-43f4-ab4c-12abaf7a1d27"
   },
   "outputs": [
    {
     "data": {
      "application/vnd.jupyter.widget-view+json": {
       "model_id": "f0ca4912a2c944c18ebb004ca8a77d47",
       "version_major": 2,
       "version_minor": 0
      },
      "text/plain": [
       "HBox(children=(FloatProgress(value=0.0, max=4534.0), HTML(value='')))"
      ]
     },
     "metadata": {
      "tags": []
     },
     "output_type": "display_data"
    },
    {
     "name": "stdout",
     "output_type": "stream",
     "text": [
      "\n"
     ]
    }
   ],
   "source": [
    "img_path = coco_path / 'COCO-Hand-S_Images'\n",
    "resols = [(i, *read(img_path / i).shape[:2]) for i in tqdm(annot.id.unique())]\n",
    "resols = pd.DataFrame(resols, columns=['id', 'height', 'width'])\n",
    "\n",
    "annot = pd.merge(annot, resols, how='left')\n",
    "annot.to_csv(coco_path / 'annotations.csv', index=False)"
   ]
  },
  {
   "cell_type": "markdown",
   "metadata": {
    "id": "EtXsHS_TDHip"
   },
   "source": [
    "## Location changes"
   ]
  },
  {
   "cell_type": "markdown",
   "metadata": {
    "id": "E32BzMFXRAO3"
   },
   "source": [
    "### First dataset"
   ]
  },
  {
   "cell_type": "code",
   "execution_count": 9,
   "metadata": {
    "id": "BiCvJBY9QiRn"
   },
   "outputs": [],
   "source": [
    "data_subdir = HAND_DATA / 'hand_dataset'\n",
    "for part in ('training', 'validation', 'test'):\n",
    "    subdir = data_subdir / f'{part}_dataset/{part}_data'\n",
    "    save_subdir = data_subdir / part\n",
    "\n",
    "    !rm -r {subdir / 'annotations'}\n",
    "    !mv {subdir} {save_subdir}\n",
    "    !rm -r {subdir.parent}\n",
    "\n",
    "!rm -r {data_subdir / 'evaluation_code'}"
   ]
  },
  {
   "cell_type": "markdown",
   "metadata": {
    "id": "YijZXXtrRETq"
   },
   "source": [
    "### Second dataset"
   ]
  },
  {
   "cell_type": "code",
   "execution_count": 10,
   "metadata": {
    "id": "1ucDAI3pAMN1"
   },
   "outputs": [],
   "source": [
    "!mv {img_path} {img_path.parent / 'images'} \n",
    "!mv {coco_path} {HAND_DATA / 'coco_hand'}\n",
    "!rm -r {coco_path.parent}"
   ]
  },
  {
   "cell_type": "markdown",
   "metadata": {
    "id": "8WoO_VVARGuo"
   },
   "source": [
    "### Directory tree"
   ]
  },
  {
   "cell_type": "code",
   "execution_count": null,
   "metadata": {
    "id": "yPX0PNM-VnXF"
   },
   "outputs": [],
   "source": [
    "!sudo apt-get install tree"
   ]
  },
  {
   "cell_type": "markdown",
   "metadata": {
    "id": "V7KQIOElEPdV"
   },
   "source": [
    "The resulting directory tree"
   ]
  },
  {
   "cell_type": "code",
   "execution_count": null,
   "metadata": {
    "colab": {
     "base_uri": "https://localhost:8080/"
    },
    "id": "2-9MhXQqDovG",
    "outputId": "ec76cac3-b482-4689-dc8b-c5bf76ed9ac9"
   },
   "outputs": [
    {
     "name": "stdout",
     "output_type": "stream",
     "text": [
      "/content/hand_detection/data\n",
      "├── coco_hand\n",
      "│   ├── annotations.csv\n",
      "│   └── images\n",
      "└── hand_dataset\n",
      "    ├── test\n",
      "    │   ├── annotations.csv\n",
      "    │   └── images\n",
      "    ├── training\n",
      "    │   ├── annotations.csv\n",
      "    │   └── images\n",
      "    └── validation\n",
      "        ├── annotations.csv\n",
      "        └── images\n",
      "\n",
      "9 directories, 4 files\n"
     ]
    }
   ],
   "source": [
    "!tree {HAND_DATA} -L 4 -I '*.jpg|*.mat|*.m|*.txt'"
   ]
  },
  {
   "cell_type": "markdown",
   "metadata": {
    "id": "4zrQb59x-BEz"
   },
   "source": [
    "## Overview"
   ]
  },
  {
   "cell_type": "code",
   "execution_count": 13,
   "metadata": {
    "id": "hliYmc-4pDAh"
   },
   "outputs": [],
   "source": [
    "def visualize(df: pd.DataFrame, images_path: Path, n=5):\n",
    "    for name, vals in df.groupby('id').apply(lambda x: list(x.values)).sample(n).iteritems():\n",
    "        img = read(images_path / name)\n",
    "        for val in vals:\n",
    "            val = val[1:]\n",
    "            cv.rectangle(img, (val[0], val[1]), (val[2], val[3]), 255, 2)\n",
    "        show(img)"
   ]
  },
  {
   "cell_type": "markdown",
   "metadata": {
    "id": "52cxEZ4jE-PL"
   },
   "source": [
    "### First dataset"
   ]
  },
  {
   "cell_type": "code",
   "execution_count": null,
   "metadata": {
    "colab": {
     "base_uri": "https://localhost:8080/",
     "height": 1000
    },
    "id": "ywvLhK3aK1rs",
    "outputId": "b123eb03-3186-4521-dd96-2e3427a1f31f"
   },
   "outputs": [],
   "source": [
    "path = HAND_DATA / 'hand_dataset/training'\n",
    "train = pd.read_csv(path / 'annotations.csv')\n",
    "images_path = path / 'images'\n",
    "visualize(train, images_path)"
   ]
  },
  {
   "cell_type": "markdown",
   "metadata": {
    "id": "aXXTVGmkE8Ib"
   },
   "source": [
    "### Second dataset"
   ]
  },
  {
   "cell_type": "code",
   "execution_count": null,
   "metadata": {
    "colab": {
     "base_uri": "https://localhost:8080/",
     "height": 1000
    },
    "id": "RtfHfIPVLbPR",
    "outputId": "b51b81ed-b499-482f-cd13-158e81067655"
   },
   "outputs": [],
   "source": [
    "path = HAND_DATA / 'coco_hand'\n",
    "coco_df = pd.read_csv(path / 'annotations.csv')\n",
    "img_path = Path(path / 'images')\n",
    "visualize(coco_df, img_path)"
   ]
  },
  {
   "cell_type": "markdown",
   "metadata": {
    "id": "QQuuc_lFLnB_"
   },
   "source": [
    "Well in this part we've converted the annotations to csv format. Move on!"
   ]
  },
  {
   "cell_type": "markdown",
   "metadata": {
    "id": "-fT5JZmDpDAm"
   },
   "source": [
    "# Hand detection training"
   ]
  },
  {
   "cell_type": "markdown",
   "metadata": {
    "id": "Q-RkB2Wm3SCz"
   },
   "source": [
    "In this part we will train YOLOv5 model to detect hands"
   ]
  },
  {
   "cell_type": "markdown",
   "metadata": {
    "id": "SXDyesw-vjiF"
   },
   "source": [
    "<font color='red'>Please, specify <u>absolute</u> path to your project in the following cell</font>"
   ]
  },
  {
   "cell_type": "code",
   "execution_count": 12,
   "metadata": {
    "colab": {
     "base_uri": "https://localhost:8080/"
    },
    "id": "OfdS6KOrvjMV",
    "outputId": "3d264323-9f07-466d-99e6-3d533834f5a2"
   },
   "outputs": [
    {
     "name": "stdout",
     "output_type": "stream",
     "text": [
      "env: PROJECT_DIR=/content\n"
     ]
    }
   ],
   "source": [
    "%env PROJECT_DIR=/content"
   ]
  },
  {
   "cell_type": "markdown",
   "metadata": {
    "id": "iLR6Mmtx1iVw"
   },
   "source": [
    "## Installing & Import"
   ]
  },
  {
   "cell_type": "code",
   "execution_count": 13,
   "metadata": {
    "colab": {
     "base_uri": "https://localhost:8080/"
    },
    "id": "keOe073s2Z89",
    "outputId": "ca472103-77cb-447d-9bca-8b8054386e2b"
   },
   "outputs": [
    {
     "name": "stdout",
     "output_type": "stream",
     "text": [
      "Cloning into 'yolov5'...\n",
      "remote: Enumerating objects: 8459, done.\u001b[K\n",
      "remote: Counting objects: 100% (173/173), done.\u001b[K\n",
      "remote: Compressing objects: 100% (121/121), done.\u001b[K\n",
      "remote: Total 8459 (delta 84), reused 105 (delta 52), pack-reused 8286\u001b[K\n",
      "Receiving objects: 100% (8459/8459), 9.58 MiB | 28.02 MiB/s, done.\n",
      "Resolving deltas: 100% (5826/5826), done.\n"
     ]
    }
   ],
   "source": [
    "!git clone https://github.com/ultralytics/yolov5  # clone repo\n",
    "%pip install -qr yolov5/requirements.txt # install dependencies"
   ]
  },
  {
   "cell_type": "code",
   "execution_count": 14,
   "metadata": {
    "id": "ZbVXQ5Xl6D6H"
   },
   "outputs": [],
   "source": [
    "from tqdm.notebook import tqdm\n",
    "import os\n",
    "from IPython.display import clear_output\n",
    "import cv2 as cv\n",
    "import skimage.io\n",
    "import matplotlib.pyplot as plt\n",
    "from pathlib import Path\n",
    "import random\n",
    "import pickle\n",
    "from functools import partial\n",
    "import pandas as pd\n",
    "import numpy as np\n",
    "import yaml\n",
    "import shutil\n",
    "\n",
    "def read(path, as_gray=False):\n",
    "    return skimage.io.imread(path, as_gray=as_gray)\n",
    "\n",
    "def show(img):\n",
    "    plt.imshow(img)\n",
    "    plt.grid()\n",
    "    plt.axis('off')\n",
    "    plt.show()\n",
    "    \n",
    "plt.rcParams['figure.figsize'] = (8, 8)\n",
    "plt.style.use('dark_background')"
   ]
  },
  {
   "cell_type": "code",
   "execution_count": 15,
   "metadata": {
    "id": "xTU7C8kxQG6-"
   },
   "outputs": [],
   "source": [
    "PROJECT_DIR = Path(os.environ['PROJECT_DIR'])\n",
    "HAND_DIR = PROJECT_DIR / 'hand_detection'\n",
    "HAND_DATA = HAND_DIR / 'data'\n",
    "HAND_MODELS = HAND_DIR / 'models'\n",
    "\n",
    "HAND_DATA1 = HAND_DATA / 'hand_dataset'\n",
    "HAND_DATA2 = HAND_DATA / 'coco_hand'"
   ]
  },
  {
   "cell_type": "markdown",
   "metadata": {
    "id": "SCKPktYfpDAp"
   },
   "source": [
    "You should have the following file location"
   ]
  },
  {
   "cell_type": "code",
   "execution_count": null,
   "metadata": {
    "colab": {
     "base_uri": "https://localhost:8080/"
    },
    "id": "je5jX7a6pDAq",
    "outputId": "ec76cac3-b482-4689-dc8b-c5bf76ed9ac9"
   },
   "outputs": [
    {
     "name": "stdout",
     "output_type": "stream",
     "text": [
      "/content/hand_detection/data\n",
      "├── coco_hand\n",
      "│   ├── annotations.csv\n",
      "│   └── images\n",
      "└── hand_dataset\n",
      "    ├── test\n",
      "    │   ├── annotations.csv\n",
      "    │   └── images\n",
      "    ├── training\n",
      "    │   ├── annotations.csv\n",
      "    │   └── images\n",
      "    └── validation\n",
      "        ├── annotations.csv\n",
      "        └── images\n",
      "\n",
      "9 directories, 4 files\n"
     ]
    }
   ],
   "source": [
    "# !tree {HAND_DATA} -L 4 -I '*.jpg|*.mat|*.m|*.txt'"
   ]
  },
  {
   "cell_type": "markdown",
   "metadata": {
    "id": "SJ8mWAk6pDAr"
   },
   "source": [
    "If you don't have these files, you can [download](https://drive.google.com/file/d/1-Zih6R3hXILx604NUmZEn372QWG6EgyJ/view?usp=sharing) and unzip them to $HAND_DIR folder, or uncomment and run the following cell "
   ]
  },
  {
   "cell_type": "code",
   "execution_count": 16,
   "metadata": {
    "colab": {
     "base_uri": "https://localhost:8080/"
    },
    "id": "LmKI_2QFpDAr",
    "outputId": "d7922e52-9446-490a-ff4e-81acffc7f7ed"
   },
   "outputs": [
    {
     "name": "stdout",
     "output_type": "stream",
     "text": [
      "Downloading...\n",
      "From: https://drive.google.com/uc?id=1-Zih6R3hXILx604NUmZEn372QWG6EgyJ\n",
      "To: /content/hand_data.zip\n",
      "602MB [00:04, 128MB/s]\n"
     ]
    }
   ],
   "source": [
    "# !gdown --id 1-Zih6R3hXILx604NUmZEn372QWG6EgyJ\n",
    "# !unzip -q hand_data.zip -d $HAND_DIR"
   ]
  },
  {
   "cell_type": "markdown",
   "metadata": {
    "id": "eQSdEGGCyDUD"
   },
   "source": [
    "## Data preparation"
   ]
  },
  {
   "cell_type": "markdown",
   "metadata": {
    "id": "6KbYJevdyGUL"
   },
   "source": [
    "Here we will convert our dataset to yolo's format"
   ]
  },
  {
   "cell_type": "code",
   "execution_count": 17,
   "metadata": {
    "id": "GUzKrox96lII"
   },
   "outputs": [],
   "source": [
    "def convert2coco(df: pd.DataFrame, save_dir: Path):\n",
    "    '''\n",
    "    convert to coco format\n",
    "    '''\n",
    "    os.makedirs(save_dir, exist_ok=True)\n",
    "    cls_idx = 0 # since we only have one class\n",
    "    for name, data in tqdm(df.groupby('id')):\n",
    "        with open(save_dir / (name[:-4] + '.txt'), 'w') as f:\n",
    "            for _, row in data.iterrows():\n",
    "                x = row.width\n",
    "                y = row.height\n",
    "                x_center = (row.xmin + row.xmax) / (2 * x)\n",
    "                y_center = (row.ymin + row.ymax) / (2 * y)\n",
    "                width = (row.xmax - row.xmin) / x\n",
    "                height = (row.ymax - row.ymin) / y\n",
    "                assert all(0. <= i <= 1. for i in (x_center, y_center, width, height)), f'Invalid annotation {name}'\n",
    "                print(cls_idx, x_center, y_center, width, height, file=f)"
   ]
  },
  {
   "cell_type": "markdown",
   "metadata": {
    "id": "_X5tyGMGuVOh"
   },
   "source": [
    "First one hand dataset"
   ]
  },
  {
   "cell_type": "code",
   "execution_count": 18,
   "metadata": {
    "colab": {
     "base_uri": "https://localhost:8080/",
     "height": 214,
     "referenced_widgets": [
      "6ba1d01c47f94c2799478b92948f542c",
      "63167b5ad9a44758b4469fbea33c6162",
      "a7c5b01d61334762a3cb505c0a132b22",
      "a0003e423e82402fa8d1da54dfea7da7",
      "245f5e06fa05427882a2cc3ef6945afb",
      "5b8c06387ff945a4a7806d8f9c451602",
      "753e310b498442e7987bd37f0554ef89",
      "fba619a001444a179738780f9ae449f3",
      "a1e3c9e0524844f489abde1b25c3f725",
      "0c66fe631d344cc0bd6eb7fd77cdae78",
      "7fd6eb4f703146669ccb00a6dc8dc161",
      "09e4f69dd4e14882adad08f7437e5eb3",
      "3fe467f254454c91831b20622843219e",
      "76442c499c464056a130baebd58c6a92",
      "fbf2abc06b234b0ea34a14c5573a9072",
      "fbc76f28742b4a8eba49c7acdc79191b",
      "8d9f7db346eb4d95a765acc4586812fc",
      "b4797b1fa0f24e179790636bd44ae2f0",
      "cf5bff910a57462184bb461510341854",
      "43193b1577774cf8bfb838f41bae2d11",
      "5ee7abca30e04a41953a9526f731e226",
      "094318aa976945cfb1b9b3244957c93b",
      "b6bc2612d5194b469e7007aedbed390e",
      "eea415a4e1b249048c2ebd06cebd65fe"
     ]
    },
    "id": "d9yXQhRp6iAs",
    "outputId": "83bad812-cfeb-43b7-853a-9a8f987b95bd"
   },
   "outputs": [
    {
     "name": "stdout",
     "output_type": "stream",
     "text": [
      "training dataset converting..\n"
     ]
    },
    {
     "data": {
      "application/vnd.jupyter.widget-view+json": {
       "model_id": "6ba1d01c47f94c2799478b92948f542c",
       "version_major": 2,
       "version_minor": 0
      },
      "text/plain": [
       "HBox(children=(FloatProgress(value=0.0, max=4069.0), HTML(value='')))"
      ]
     },
     "metadata": {
      "tags": []
     },
     "output_type": "display_data"
    },
    {
     "name": "stdout",
     "output_type": "stream",
     "text": [
      "\n",
      "validation dataset converting..\n"
     ]
    },
    {
     "data": {
      "application/vnd.jupyter.widget-view+json": {
       "model_id": "a1e3c9e0524844f489abde1b25c3f725",
       "version_major": 2,
       "version_minor": 0
      },
      "text/plain": [
       "HBox(children=(FloatProgress(value=0.0, max=738.0), HTML(value='')))"
      ]
     },
     "metadata": {
      "tags": []
     },
     "output_type": "display_data"
    },
    {
     "name": "stdout",
     "output_type": "stream",
     "text": [
      "\n",
      "test dataset converting..\n"
     ]
    },
    {
     "data": {
      "application/vnd.jupyter.widget-view+json": {
       "model_id": "8d9f7db346eb4d95a765acc4586812fc",
       "version_major": 2,
       "version_minor": 0
      },
      "text/plain": [
       "HBox(children=(FloatProgress(value=0.0, max=821.0), HTML(value='')))"
      ]
     },
     "metadata": {
      "tags": []
     },
     "output_type": "display_data"
    },
    {
     "name": "stdout",
     "output_type": "stream",
     "text": [
      "\n"
     ]
    }
   ],
   "source": [
    "for part in ('training', 'validation', 'test'):\n",
    "    print(part, 'dataset converting..')\n",
    "    subdir = HAND_DATA1 / part\n",
    "    df = pd.read_csv(subdir / 'annotations.csv')\n",
    "    save_dir = subdir / 'labels'\n",
    "    convert2coco(df, save_dir)"
   ]
  },
  {
   "cell_type": "markdown",
   "metadata": {
    "id": "4jCTIqk2uSrD"
   },
   "source": [
    "Another one dataset"
   ]
  },
  {
   "cell_type": "code",
   "execution_count": 19,
   "metadata": {
    "colab": {
     "base_uri": "https://localhost:8080/",
     "height": 66,
     "referenced_widgets": [
      "c807a8902ba645e2897e4092417c4703",
      "9e055c28413240828bfd94b9fa12888b",
      "bdf60a39c23f4e6683131e97318e1f06",
      "9a5f83d2eb234eb2bec6b7e5a6888187",
      "5b55d2a08f1f42b98410103eab2c3c35",
      "021b2e69f8f64efb962f9f3065056a1b",
      "0d363b7a3cfb422b911da5135d8892e4",
      "352bac2b65bd4ed2b92006a0548881de"
     ]
    },
    "id": "F9YJDhQiPJ0F",
    "outputId": "9f41d9ea-f851-4e30-f1cc-06f6879f5165"
   },
   "outputs": [
    {
     "data": {
      "application/vnd.jupyter.widget-view+json": {
       "model_id": "c807a8902ba645e2897e4092417c4703",
       "version_major": 2,
       "version_minor": 0
      },
      "text/plain": [
       "HBox(children=(FloatProgress(value=0.0, max=4533.0), HTML(value='')))"
      ]
     },
     "metadata": {
      "tags": []
     },
     "output_type": "display_data"
    },
    {
     "name": "stdout",
     "output_type": "stream",
     "text": [
      "\n"
     ]
    }
   ],
   "source": [
    "coco_df = pd.read_csv(HAND_DATA2 / 'annotations.csv')\n",
    "coco_save_dir = HAND_DATA2 / 'labels'\n",
    "\n",
    "# image with invalid annotation\n",
    "coco_df = coco_df[coco_df.id != '000000038031.jpg']\n",
    "\n",
    "convert2coco(coco_df, coco_save_dir)"
   ]
  },
  {
   "cell_type": "markdown",
   "metadata": {
    "id": "7gE54Stiz3SQ"
   },
   "source": [
    "We create a configuration file that contains information about the dataset "
   ]
  },
  {
   "cell_type": "code",
   "execution_count": 20,
   "metadata": {
    "id": "ka9DgWGjNraj"
   },
   "outputs": [],
   "source": [
    "data_config = {\n",
    "    'names': ['hand'],\n",
    "    'nc': 1,\n",
    "    'train': [\n",
    "              f'{HAND_DATA1}/training/images',\n",
    "              f'{HAND_DATA2}/images'\n",
    "              ],\n",
    "    'val': f'{HAND_DATA1}/validation/images'\n",
    "}"
   ]
  },
  {
   "cell_type": "code",
   "execution_count": 21,
   "metadata": {
    "id": "2GLH1t-KPp5T"
   },
   "outputs": [],
   "source": [
    "with open('yolov5/data/hand.yaml', 'w') as f:\n",
    "    yaml.dump(data_config, f, default_flow_style=False)"
   ]
  },
  {
   "cell_type": "markdown",
   "metadata": {
    "id": "VQNu-JIgx4pE"
   },
   "source": [
    "## Train"
   ]
  },
  {
   "cell_type": "markdown",
   "metadata": {
    "id": "ggL0WJt63MrL"
   },
   "source": [
    "Here we run training the yolov5x model for only 3 epochs and it's quite enough. Model's weights will be saved in the directory $PROJECT_DIR/yolov5x_hands/"
   ]
  },
  {
   "cell_type": "code",
   "execution_count": null,
   "metadata": {
    "id": "UkitomHjW2vq"
   },
   "outputs": [],
   "source": [
    "%cd yolov5\n",
    "\n",
    "!python train.py --img 640 --batch 8 --epochs 3 \\\n",
    "    --data data/hand.yaml \\\n",
    "    --cfg models/yolov5x.yaml \\\n",
    "    --weights yolov5x.pt \\\n",
    "    --project $HAND_MODELS \\\n",
    "    --name yolov5x\n",
    "\n",
    "# don't forget to return to $PROJECT_DIR\n",
    "%cd .."
   ]
  },
  {
   "cell_type": "markdown",
   "metadata": {
    "id": "3oF841Si2han"
   },
   "source": [
    "## Overview of the results"
   ]
  },
  {
   "cell_type": "markdown",
   "metadata": {
    "id": "htMK-rBVb_nG"
   },
   "source": [
    "Let's look at the results on the test dataset"
   ]
  },
  {
   "cell_type": "code",
   "execution_count": null,
   "metadata": {
    "id": "Y1K0QmmkU2bx"
   },
   "outputs": [],
   "source": [
    "model_path = HAND_MODELS / 'yolov5x/weights/best.pt' \n",
    "source_path = HAND_DATA1 / 'test/images'\n",
    "sample_dir = Path('sample')\n",
    "sample_dir.mkdir(exist_ok=True)\n",
    "\n",
    "for filename in random.choices(list(source_path.glob('*.jpg')), k=16):\n",
    "    shutil.copy(filename, sample_dir / filename.name)"
   ]
  },
  {
   "cell_type": "code",
   "execution_count": null,
   "metadata": {
    "colab": {
     "base_uri": "https://localhost:8080/"
    },
    "id": "C95h-kmQRPMg",
    "outputId": "74371488-7565-4a72-cc37-e5197f98caff"
   },
   "outputs": [
    {
     "name": "stdout",
     "output_type": "stream",
     "text": [
      "\u001b[34m\u001b[1mdetect: \u001b[0mweights=['/content/hand_detection/models/yolov5x/weights/best.pt'], source=sample, imgsz=640, conf_thres=0.5, iou_thres=0.45, max_det=1000, device=, view_img=False, save_txt=False, save_conf=False, save_crop=False, nosave=False, classes=None, agnostic_nms=False, augment=False, visualize=False, update=False, project=runs/detect, name=exp, exist_ok=False, line_thickness=3, hide_labels=False, hide_conf=False, half=False\n",
      "\u001b[31m\u001b[1mrequirements:\u001b[0m /content/requirements.txt not found, check failed.\n",
      "YOLOv5 🚀 v5.0-313-g6e4358f torch 1.9.0+cu102 CUDA:0 (Tesla V100-SXM2-16GB, 16160.5MB)\n",
      "\n",
      "Fusing layers... \n",
      "/usr/local/lib/python3.7/dist-packages/torch/nn/functional.py:718: UserWarning: Named tensors and all their associated APIs are an experimental feature and subject to change. Please do not use them for anything important until they are released as stable. (Triggered internally at  /pytorch/c10/core/TensorImpl.h:1156.)\n",
      "  return torch.max_pool2d(input, kernel_size, stride, padding, dilation, ceil_mode)\n",
      "Model Summary: 476 layers, 87198694 parameters, 0 gradients, 217.1 GFLOPs\n",
      "image 1/16 /content/sample/VOC2007_104.jpg: 640x480 1 hand, Done. (0.030s)\n",
      "image 2/16 /content/sample/VOC2007_140.jpg: 448x640 1 hand, Done. (0.022s)\n",
      "image 3/16 /content/sample/VOC2007_187.jpg: 480x640 1 hand, Done. (0.022s)\n",
      "image 4/16 /content/sample/VOC2007_263.jpg: 480x640 1 hand, Done. (0.021s)\n",
      "image 5/16 /content/sample/VOC2007_27.jpg: 640x448 1 hand, Done. (0.024s)\n",
      "image 6/16 /content/sample/VOC2007_478.jpg: 448x640 5 hands, Done. (0.021s)\n",
      "image 7/16 /content/sample/VOC2007_57.jpg: 448x640 1 hand, Done. (0.020s)\n",
      "image 8/16 /content/sample/VOC2007_616.jpg: 640x448 2 hands, Done. (0.023s)\n",
      "image 9/16 /content/sample/VOC2007_640.jpg: 480x640 2 hands, Done. (0.020s)\n",
      "image 10/16 /content/sample/VOC2007_73.jpg: 480x640 1 hand, Done. (0.019s)\n",
      "image 11/16 /content/sample/VOC2007_86.jpg: 480x640 1 hand, Done. (0.019s)\n",
      "image 12/16 /content/sample/VOC2010_42.jpg: 640x480 1 hand, Done. (0.024s)\n",
      "image 13/16 /content/sample/VOC2010_51.jpg: 640x480 1 hand, Done. (0.021s)\n",
      "image 14/16 /content/sample/VOC2010_83.jpg: 480x640 2 hands, Done. (0.019s)\n",
      "image 15/16 /content/sample/VOC2010_84.jpg: 448x640 1 hand, Done. (0.019s)\n",
      "image 16/16 /content/sample/VOC2010_94.jpg: 640x416 2 hands, Done. (0.021s)\n",
      "Results saved to runs/detect/exp\n",
      "Done. (0.536s)\n"
     ]
    }
   ],
   "source": [
    "!python yolov5/detect.py \\\n",
    "    --weights {model_path} \\\n",
    "    --source {sample_dir} \\\n",
    "    --img 640 --conf 0.5"
   ]
  },
  {
   "cell_type": "code",
   "execution_count": null,
   "metadata": {
    "colab": {
     "base_uri": "https://localhost:8080/",
     "height": 1000
    },
    "id": "qD9HgKXEpkiw",
    "outputId": "8d438aeb-39c7-4e8f-8426-bd58906a9e16"
   },
   "outputs": [],
   "source": [
    "_, axs = plt.subplots(4, 4, figsize=(20,20))\n",
    "axs = axs.ravel()\n",
    "\n",
    "# don't forget to change to your path with detections\n",
    "detections_dir = Path('/content/runs/detect/exp')\n",
    "\n",
    "for i, filename in enumerate(detections_dir.glob('*.jpg')):\n",
    "    axs[i].imshow(read(filename))\n",
    "    axs[i].axis('off')\n",
    "    if i == 15: break"
   ]
  },
  {
   "cell_type": "markdown",
   "metadata": {
    "id": "SJps_031b3qG"
   },
   "source": [
    "Not bad. Move on!"
   ]
  },
  {
   "cell_type": "markdown",
   "metadata": {
    "id": "EZVnkEV8pDA3"
   },
   "source": [
    "# Hand detection inference"
   ]
  },
  {
   "cell_type": "markdown",
   "metadata": {
    "id": "b7y1-d1in_XN"
   },
   "source": [
    "In this part we will get predictions from trained hand detector YOLOv5 for the images from gesture dataset given in the [competition](https://boosters.pro/championship/machinescansee2021/data)"
   ]
  },
  {
   "cell_type": "markdown",
   "metadata": {
    "id": "ROLbiwFQx_0I"
   },
   "source": [
    "For this part you should already have a trained hand detection model. You can find trained model [here](https://drive.google.com/file/d/1-CELzTRZObz9dGD28pB0xqeKrUKTtJc5/view?usp=sharing)"
   ]
  },
  {
   "cell_type": "code",
   "execution_count": null,
   "metadata": {
    "id": "3OZSzT7LqXRk"
   },
   "outputs": [],
   "source": [
    "# uncomment and run to download hand detection model\n",
    "# !gdown --id 1-CELzTRZObz9dGD28pB0xqeKrUKTtJc5"
   ]
  },
  {
   "cell_type": "markdown",
   "metadata": {
    "id": "MDYAf8KzpDA4"
   },
   "source": [
    "<font color='red'>Please, specify paths to your project and hand detector model in the following cell</font>"
   ]
  },
  {
   "cell_type": "code",
   "execution_count": 3,
   "metadata": {
    "colab": {
     "base_uri": "https://localhost:8080/"
    },
    "execution": {
     "iopub.execute_input": "2021-07-24T19:34:21.152172Z",
     "iopub.status.busy": "2021-07-24T19:34:21.151172Z",
     "iopub.status.idle": "2021-07-24T19:34:21.180173Z",
     "shell.execute_reply": "2021-07-24T19:34:21.177168Z",
     "shell.execute_reply.started": "2021-07-24T19:34:21.152172Z"
    },
    "id": "B9sa0-EFpDA4",
    "outputId": "678f5784-61cd-46ff-8804-f8b3ba728f23"
   },
   "outputs": [
    {
     "name": "stdout",
     "output_type": "stream",
     "text": [
      "env: PROJECT_DIR=/content\n",
      "env: HAND_MODEL=best.pt\n"
     ]
    }
   ],
   "source": [
    "%env PROJECT_DIR=/content\n",
    "%env HAND_MODEL=best.pt"
   ]
  },
  {
   "cell_type": "markdown",
   "metadata": {
    "id": "d2bA7xS6nsN6"
   },
   "source": [
    "## Installing & Import"
   ]
  },
  {
   "cell_type": "code",
   "execution_count": null,
   "metadata": {
    "colab": {
     "base_uri": "https://localhost:8080/"
    },
    "id": "Ewm33QPVVnk-",
    "outputId": "e351e1e7-d395-409e-b403-67cac6b6f4a7"
   },
   "outputs": [
    {
     "name": "stdout",
     "output_type": "stream",
     "text": [
      "Cloning into 'yolov5'...\n",
      "remote: Enumerating objects: 8396, done.\u001b[K\n",
      "remote: Counting objects: 100% (110/110), done.\u001b[K\n",
      "remote: Compressing objects: 100% (72/72), done.\u001b[K\n",
      "remote: Total 8396 (delta 56), reused 76 (delta 38), pack-reused 8286\u001b[K\n",
      "Receiving objects: 100% (8396/8396), 9.30 MiB | 15.95 MiB/s, done.\n",
      "Resolving deltas: 100% (5796/5796), done.\n",
      "\u001b[K     |████████████████████████████████| 636 kB 15.5 MB/s \n",
      "\u001b[?25h"
     ]
    }
   ],
   "source": [
    "!git clone https://github.com/ultralytics/yolov5  # clone repo\n",
    "%pip install -qr yolov5/requirements.txt # install dependencies"
   ]
  },
  {
   "cell_type": "markdown",
   "metadata": {
    "id": "iWWu5s2GKsX0"
   },
   "source": [
    "## Hand detector inference"
   ]
  },
  {
   "cell_type": "code",
   "execution_count": 4,
   "metadata": {
    "id": "JODxBkzcvT8s"
   },
   "outputs": [],
   "source": [
    "from tqdm.notebook import tqdm\n",
    "import os, sys, subprocess\n",
    "from IPython.display import clear_output\n",
    "import cv2 as cv\n",
    "import skimage.io\n",
    "import matplotlib.pyplot as plt\n",
    "from pathlib import Path\n",
    "import random\n",
    "import pickle\n",
    "from functools import partial\n",
    "import pandas as pd\n",
    "import numpy as np\n",
    "from sklearn.model_selection import GroupKFold\n",
    "\n",
    "def read(path, as_gray=False):\n",
    "    return skimage.io.imread(path, as_gray=as_gray)\n",
    "\n",
    "def show(img):\n",
    "    plt.imshow(img)\n",
    "    plt.grid()\n",
    "    plt.axis('off')\n",
    "    plt.show()\n",
    "    \n",
    "plt.rcParams['figure.figsize'] = (8, 8)\n",
    "plt.style.use('dark_background')"
   ]
  },
  {
   "cell_type": "code",
   "execution_count": 5,
   "metadata": {
    "id": "TbAMpaJh4UDi"
   },
   "outputs": [],
   "source": [
    "PROJECT_DIR = Path(os.environ['PROJECT_DIR'])\n",
    "GESTURE_DIR = PROJECT_DIR / 'gesture_clf'\n",
    "GESTURE_DATA = GESTURE_DIR / 'data'\n",
    "GESTURE_DETS = GESTURE_DATA / 'detections/labels'\n",
    "HAND_MODEL = os.environ['HAND_MODEL']\n",
    "\n",
    "for path in (PROJECT_DIR, GESTURE_DIR, GESTURE_DATA):\n",
    "    path.mkdir(parents=True, exist_ok=True)"
   ]
  },
  {
   "cell_type": "markdown",
   "metadata": {
    "id": "gEQU41mprnwi"
   },
   "source": [
    "## Downloading & unzipping gesture dataset"
   ]
  },
  {
   "cell_type": "markdown",
   "metadata": {
    "id": "E62VoOJqr71A"
   },
   "source": [
    "Again you can find all the data [here](https://boosters.pro/championship/machinescansee2021/data)"
   ]
  },
  {
   "cell_type": "markdown",
   "metadata": {
    "id": "BKqzdj9fsxls"
   },
   "source": [
    "For our example we will download and unzip a small part of the gesture dataset"
   ]
  },
  {
   "cell_type": "code",
   "execution_count": null,
   "metadata": {
    "colab": {
     "base_uri": "https://localhost:8080/"
    },
    "id": "Whjyyy7Mrl4R",
    "outputId": "9f5b4a83-013b-42cb-8138-c6307d74475e"
   },
   "outputs": [
    {
     "name": "stdout",
     "output_type": "stream",
     "text": [
      "--2021-07-25 13:16:04--  https://boosters.pro/api/ch/files/pub/train_data9.zip\n",
      "Resolving boosters.pro (boosters.pro)... 91.206.14.169\n",
      "Connecting to boosters.pro (boosters.pro)|91.206.14.169|:443... connected.\n",
      "HTTP request sent, awaiting response... 200 OK\n",
      "Length: 2525369522 (2.4G) [application/zip]\n",
      "Saving to: ‘gesture_clf/data/data9.zip’\n",
      "\n",
      "gesture_clf/data/da 100%[===================>]   2.35G  10.6MB/s    in 3m 53s  \n",
      "\n",
      "2021-07-25 13:19:59 (10.3 MB/s) - ‘gesture_clf/data/data9.zip’ saved [2525369522/2525369522]\n",
      "\n"
     ]
    }
   ],
   "source": [
    "# for i in range(1, 9):\n",
    "#   !wget -O $GESTURE_DATA/data{i}.zip https://boosters.pro/api/ch/files/pub/train_data{i}.zip  \n",
    "\n",
    "!wget -O $GESTURE_DATA/data9.zip https://boosters.pro/api/ch/files/pub/train_data9.zip"
   ]
  },
  {
   "cell_type": "code",
   "execution_count": 19,
   "metadata": {
    "id": "Hbji2dlT01F3"
   },
   "outputs": [],
   "source": [
    "# for i in range(1, 9):\n",
    "#     !unzip -q $GESTURE_DATA/data{i}.zip -d $GESTURE_DATA/unzipped\n",
    "    \n",
    "!unzip -q $GESTURE_DATA/data9.zip -d $GESTURE_DATA/unzipped"
   ]
  },
  {
   "cell_type": "markdown",
   "metadata": {
    "id": "J0Itph_A0RGm"
   },
   "source": [
    "Let's download csv file with gesture labels"
   ]
  },
  {
   "cell_type": "code",
   "execution_count": null,
   "metadata": {
    "colab": {
     "base_uri": "https://localhost:8080/"
    },
    "id": "smAVQ6uZ0OEA",
    "outputId": "03a23bec-8c5d-4f41-ea9d-5a1ea94f8941"
   },
   "outputs": [
    {
     "name": "stdout",
     "output_type": "stream",
     "text": [
      "--2021-07-25 14:26:33--  https://boosters.pro/api/ch/files/pub/train.csv\n",
      "Resolving boosters.pro (boosters.pro)... 91.206.14.169\n",
      "Connecting to boosters.pro (boosters.pro)|91.206.14.169|:443... connected.\n",
      "HTTP request sent, awaiting response... 200 OK\n",
      "Length: 23339008 (22M) [application/octet-stream]\n",
      "Saving to: ‘/content/gesture_clf/data/train.csv’\n",
      "\n",
      "/content/gesture_cl 100%[===================>]  22.26M  47.7MB/s    in 0.5s    \n",
      "\n",
      "2021-07-25 14:26:33 (47.7 MB/s) - ‘/content/gesture_clf/data/train.csv’ saved [23339008/23339008]\n",
      "\n"
     ]
    }
   ],
   "source": [
    "!wget -O $GESTURE_DATA/train.csv https://boosters.pro/api/ch/files/pub/train.csv"
   ]
  },
  {
   "cell_type": "markdown",
   "metadata": {
    "id": "FRpDRuqU1xb8"
   },
   "source": [
    "## Inference"
   ]
  },
  {
   "cell_type": "code",
   "execution_count": null,
   "metadata": {
    "id": "aKFoc2Mb7uc0"
   },
   "outputs": [],
   "source": [
    "IMAGES_PATH = Path(f\"{GESTURE_DATA}/unzipped\")"
   ]
  },
  {
   "cell_type": "code",
   "execution_count": null,
   "metadata": {
    "id": "nm2FBkPiMk-o"
   },
   "outputs": [],
   "source": [
    "subprocess.check_call([\n",
    "    sys.executable, 'yolov5/detect.py', \n",
    "    '--weights', HAND_MODEL, \n",
    "    '--source', str(IMAGES_PATH / '**/*.jpg'), \n",
    "    '--img', '640', \n",
    "    '--conf', '0.3', \n",
    "    '--save-txt', '--save-conf', '--nosave', '--exist-ok',\n",
    "    '--project', GESTURE_DATA,\n",
    "    '--name', 'detections'])"
   ]
  },
  {
   "cell_type": "markdown",
   "metadata": {
    "id": "6MylIOE82bA8"
   },
   "source": [
    "## Reading csv file with labels"
   ]
  },
  {
   "cell_type": "code",
   "execution_count": null,
   "metadata": {
    "id": "R0NuJpgwizt0"
   },
   "outputs": [],
   "source": [
    "df = pd.read_csv(f'{GESTURE_DATA}/train.csv')"
   ]
  },
  {
   "cell_type": "markdown",
   "metadata": {
    "id": "pqDw64OY2Pcp"
   },
   "source": [
    "Now we will leave only those frames on which the hands were detected. **Note:** you can skip cell below if you downloaded all the gesture data."
   ]
  },
  {
   "cell_type": "code",
   "execution_count": null,
   "metadata": {
    "id": "195y70kDOECu"
   },
   "outputs": [],
   "source": [
    "labels = [i.stem for i in GESTURE_DETS.glob('*.txt')]\n",
    "df = df[df.frame_path.apply(lambda x: Path(x).stem).isin(labels)]"
   ]
  },
  {
   "cell_type": "markdown",
   "metadata": {
    "id": "2QI9F6au22gj"
   },
   "source": [
    "Here we split the data using GroupKFold by videos, i.e. training and validation sets will not overlap in video titles"
   ]
  },
  {
   "cell_type": "markdown",
   "metadata": {
    "id": "gIiuZ6kc4FPL"
   },
   "source": [
    "## Data splitting"
   ]
  },
  {
   "cell_type": "code",
   "execution_count": null,
   "metadata": {
    "execution": {
     "iopub.execute_input": "2021-07-24T20:15:33.750656Z",
     "iopub.status.busy": "2021-07-24T20:15:33.749655Z",
     "iopub.status.idle": "2021-07-24T20:15:33.760655Z",
     "shell.execute_reply": "2021-07-24T20:15:33.759656Z",
     "shell.execute_reply.started": "2021-07-24T20:15:33.750656Z"
    },
    "id": "KNydo2qB0G4a",
    "tags": []
   },
   "outputs": [],
   "source": [
    "def group_kfold(df: pd.DataFrame, groups: pd.Series):\n",
    "    gkf = GroupKFold(n_splits=5)\n",
    "    train_idx, test_idx = next(gkf.split(df, df, groups))\n",
    "    return df.iloc[train_idx], df.iloc[test_idx]\n",
    "\n",
    "train_df, val_df = group_kfold(df, df.video_name)"
   ]
  },
  {
   "cell_type": "markdown",
   "metadata": {
    "id": "WDQeAw034Jh_"
   },
   "source": [
    "## Postprocessing"
   ]
  },
  {
   "cell_type": "markdown",
   "metadata": {
    "id": "QZWHanmGlnmy"
   },
   "source": [
    "Let's parse txt files with hand detections"
   ]
  },
  {
   "cell_type": "code",
   "execution_count": null,
   "metadata": {
    "id": "EW_juzsj15LF"
   },
   "outputs": [],
   "source": [
    "def xywh2xyxy(x, y, w, h):\n",
    "    x0, y0 = x - w / 2, y - h / 2\n",
    "    x1, y1 = x + w / 2, y + h / 2\n",
    "    x0, x1 = x0, x1\n",
    "    y0, y1 = y0, y1\n",
    "    return x0, y0, x1, y1\n",
    "\n",
    "def expand_box(x0, y0, x1, y1, n=2.5):\n",
    "    deltaX = (x1 - x0) / n\n",
    "    deltaY = (y1 - y0) / n\n",
    "    x0 = np.clip(x0-deltaX, 0, None)\n",
    "    x1 = np.clip(x1+deltaX, None, 1)\n",
    "    y0 = np.clip(y0-deltaY, 0, None)\n",
    "    y1 = np.clip(y1+deltaY, None, 1)\n",
    "    return x0, y0, x1, y1"
   ]
  },
  {
   "cell_type": "code",
   "execution_count": null,
   "metadata": {
    "id": "NKV9kmei7l4i"
   },
   "outputs": [],
   "source": [
    "def extract_boxes(df, labels_path, fn=None):\n",
    "    output = []\n",
    "    for _, row in tqdm(df.iterrows(), total=len(df)):\n",
    "        label_file = labels_path / (Path(row.frame_path).stem + '.txt')\n",
    "        # if there is not detected hands\n",
    "        if not label_file.is_file():\n",
    "            # if there is a gesture on the image, then we save it for future fine-tuning\n",
    "            if row.class_name != 'no_gesture' and fn is not None:\n",
    "                fn.append(row.frame_path)\n",
    "            continue\n",
    "\n",
    "        # parsing txt file with detections\n",
    "        with open(label_file) as f:\n",
    "            for i, line in enumerate(f.read().splitlines()):\n",
    "                _, x, y, wid, hei, conf = map(float, line.split())\n",
    "                x0, y0, x1, y1 = xywh2xyxy(x, y, wid, hei)\n",
    "                x0, y0, x1, y1 = expand_box(x0, y0, x1, y1)\n",
    "                output.append([row.frame_path, x0, y0, x1, y1, row.class_name, conf])\n",
    "    output = pd.DataFrame(output, columns=['frame_path', 'xmin', 'ymin', 'xmax', 'ymax', 'class_name', 'conf'])\n",
    "    return output"
   ]
  },
  {
   "cell_type": "code",
   "execution_count": null,
   "metadata": {
    "colab": {
     "base_uri": "https://localhost:8080/",
     "height": 114,
     "referenced_widgets": [
      "c07b842ddfd34d2a87b33e578d634ca9",
      "2139448318e94f21bc3dd4661fad3977",
      "7a0d8db0057c4745a1bdfc755a6b7a3c",
      "de1c675681b44238af51bca8d43dc2c2",
      "ace34d820f914fa784c7496583db9a27",
      "525928ef40cc47a3a3c06ceda4230d29",
      "1fd5f7fbf10448359f01153e71fbb416",
      "b394665975fe49f6986d9833ee8699f4",
      "4358a40f04b14061b01dfe3d64d2b111",
      "7d6e27e5863b4badbc845841da355d46",
      "f4bd0a38110d4a0c8b5426cca56fd1e4",
      "451cf64912704b1faea718ce0af8710e",
      "def789319d564351983606e059858370",
      "e11a4e1779e24179808c8be2099460b2",
      "04383252797c4898baca6f93ebf8f85b",
      "3c82ee99ba8b4048a89901bead4f2d30"
     ]
    },
    "id": "cHFZaHU0CEco",
    "outputId": "c3fe38c4-c0bc-496d-a68c-e32899a9ce41"
   },
   "outputs": [
    {
     "data": {
      "application/vnd.jupyter.widget-view+json": {
       "model_id": "c07b842ddfd34d2a87b33e578d634ca9",
       "version_major": 2,
       "version_minor": 0
      },
      "text/plain": [
       "HBox(children=(FloatProgress(value=0.0, max=4873.0), HTML(value='')))"
      ]
     },
     "metadata": {
      "tags": []
     },
     "output_type": "display_data"
    },
    {
     "name": "stdout",
     "output_type": "stream",
     "text": [
      "\n"
     ]
    },
    {
     "data": {
      "application/vnd.jupyter.widget-view+json": {
       "model_id": "4358a40f04b14061b01dfe3d64d2b111",
       "version_major": 2,
       "version_minor": 0
      },
      "text/plain": [
       "HBox(children=(FloatProgress(value=0.0, max=1218.0), HTML(value='')))"
      ]
     },
     "metadata": {
      "tags": []
     },
     "output_type": "display_data"
    },
    {
     "name": "stdout",
     "output_type": "stream",
     "text": [
      "\n"
     ]
    }
   ],
   "source": [
    "fn = [] # False Negatives samples\n",
    "train_df = extract_boxes(train_df, GESTURE_DETS, fn)\n",
    "val_df = extract_boxes(val_df, GESTURE_DETS)"
   ]
  },
  {
   "cell_type": "markdown",
   "metadata": {
    "id": "SBXZKVMOnFip"
   },
   "source": [
    "Now we're going choose a suitable confidence threshold"
   ]
  },
  {
   "cell_type": "code",
   "execution_count": null,
   "metadata": {
    "colab": {
     "base_uri": "https://localhost:8080/",
     "height": 1000
    },
    "id": "BhvzTQYVUwJU",
    "outputId": "2ad3ac0f-fd5d-4fa4-b2cf-4abaf1a514b7"
   },
   "outputs": [],
   "source": [
    "_, axs = plt.subplots(4, 4, figsize=(20,20))\n",
    "axs = axs.ravel()\n",
    "\n",
    "for i, (frame_path, data) in enumerate(train_df.sample(frac=1).groupby('frame_path', sort=False)):\n",
    "    img = read(IMAGES_PATH / data.frame_path.values[0])\n",
    "    h, w = img.shape[:2]\n",
    "    for _, row in data.iterrows():\n",
    "            x0, x1 = (int(x*w) for x in (row.xmin, row.xmax))\n",
    "            y0, y1 = (int(y*h) for y in (row.ymin, row.ymax))\n",
    "            cv.rectangle(img, (x0, y0), (x1, y1), 255, 3)\n",
    "            cv.putText(img, str(round(row.conf, 2)), (x0 ,y0), cv.FONT_HERSHEY_SIMPLEX, 2, (255,)*3, cv.LINE_AA)\n",
    "    axs[i].imshow(img)\n",
    "    axs[i].axis('off')\n",
    "    if i == 15: break"
   ]
  },
  {
   "cell_type": "markdown",
   "metadata": {
    "id": "zRcXMQsxnR6E"
   },
   "source": [
    "We will take only upper box, assuming that there is a target gesture (that is specified in train.csv)"
   ]
  },
  {
   "cell_type": "code",
   "execution_count": null,
   "metadata": {
    "id": "aLnbxTGFDwk8"
   },
   "outputs": [],
   "source": [
    "def extract_upper_boxes(df, conf, fn=None):\n",
    "    idxs = []\n",
    "    for frame_path, data in tqdm(df.groupby('frame_path')):\n",
    "        cls_name = data.class_name.values[0]\n",
    "        data = data[data.conf >= conf]\n",
    "        if len(data) == 0:\n",
    "            # if not found > conf\n",
    "            if cls_name != 'no_gesture' and fn is not None:\n",
    "                fn.append(frame_path)\n",
    "        else:\n",
    "            upper_box_idx = data.ymin.idxmin()\n",
    "            idxs.append(upper_box_idx)\n",
    "    return df.loc[idxs]"
   ]
  },
  {
   "cell_type": "code",
   "execution_count": null,
   "metadata": {
    "colab": {
     "base_uri": "https://localhost:8080/",
     "height": 114,
     "referenced_widgets": [
      "7bdd9295f0694097a1b6171b149baf17",
      "33f3d44c071a448cbcfce3c535d5b7bb",
      "9c31367d994240ba96a349a2ad337ea5",
      "df1fc2aaebe74a33bad6b92717df3eba",
      "6ae52016c058474eaa73d9d5d44768b4",
      "af1870085bcd40928bc93fb8e8f28362",
      "5adb3336e8b240c7adb37c285d953920",
      "a44007c72d234e4fb76493dc482f73ea",
      "96d35402e63a48689329a1337e9bf72a",
      "e1c7a3988d974b0c96837d13740e5d9f",
      "ffcf947f901c48c18f071c9e149c80c8",
      "00986dcbe0084e1cad63d54b39621b60",
      "ca3b146a578e440b9661a83935388038",
      "d335bc2372ce43f6adaa935f14b9a013",
      "fb232403bfda4ec5b2171a2b7169d8e3",
      "71228247e1a94dc3889f48d59746917b"
     ]
    },
    "id": "po8XF3xqLSZf",
    "outputId": "64203a39-af9b-4835-ec6e-40726087857b"
   },
   "outputs": [
    {
     "data": {
      "application/vnd.jupyter.widget-view+json": {
       "model_id": "7bdd9295f0694097a1b6171b149baf17",
       "version_major": 2,
       "version_minor": 0
      },
      "text/plain": [
       "HBox(children=(FloatProgress(value=0.0, max=4873.0), HTML(value='')))"
      ]
     },
     "metadata": {
      "tags": []
     },
     "output_type": "display_data"
    },
    {
     "name": "stdout",
     "output_type": "stream",
     "text": [
      "\n"
     ]
    },
    {
     "data": {
      "application/vnd.jupyter.widget-view+json": {
       "model_id": "96d35402e63a48689329a1337e9bf72a",
       "version_major": 2,
       "version_minor": 0
      },
      "text/plain": [
       "HBox(children=(FloatProgress(value=0.0, max=1218.0), HTML(value='')))"
      ]
     },
     "metadata": {
      "tags": []
     },
     "output_type": "display_data"
    },
    {
     "name": "stdout",
     "output_type": "stream",
     "text": [
      "\n"
     ]
    }
   ],
   "source": [
    "train_df = extract_upper_boxes(train_df, 0.3, fn)\n",
    "val_df = extract_upper_boxes(val_df, 0.3)"
   ]
  },
  {
   "cell_type": "code",
   "execution_count": null,
   "metadata": {
    "id": "PGBY4vQ3YN2I"
   },
   "outputs": [],
   "source": [
    "train_df.to_csv(f'{GESTURE_DATA}/train_loc_cls.csv', index=False)\n",
    "val_df.to_csv(f'{GESTURE_DATA}/val_loc_cls.csv', index=False)"
   ]
  },
  {
   "cell_type": "markdown",
   "metadata": {
    "id": "cRbEV_j4F385"
   },
   "source": [
    "# Gesture classifier"
   ]
  },
  {
   "cell_type": "markdown",
   "metadata": {
    "id": "XqeZVSMQ07qK"
   },
   "source": [
    "In this part we will train a model to classify gestures"
   ]
  },
  {
   "cell_type": "markdown",
   "metadata": {
    "id": "rf0rrZDe04N7"
   },
   "source": [
    "For this part you should have csv annotation files which include bbox coordinates and class label for each frame in our gesture dataset. Here is annotation for [train](https://drive.google.com/file/d/1-8ACJsRn2r4m1YxTB4QZJBIK6jUjwON3/view?usp=sharing) set and [validation](https://drive.google.com/file/d/1-F50UxD7llYmDD-_GsLa4WMtbkvX0uAc/view?usp=sharing) set given from data9.zip (only part of [all data](https://boosters.pro/championship/machinescansee2021/data))"
   ]
  },
  {
   "cell_type": "markdown",
   "metadata": {
    "id": "I59RoEaF3GNy"
   },
   "source": [
    "<font color='red'>Please, specify path to your project in the following cell</font>"
   ]
  },
  {
   "cell_type": "code",
   "execution_count": 6,
   "metadata": {
    "colab": {
     "base_uri": "https://localhost:8080/"
    },
    "id": "AJ2wO3gv3FzG",
    "outputId": "de44cbba-3e11-4140-968a-292d981a66d7"
   },
   "outputs": [
    {
     "name": "stdout",
     "output_type": "stream",
     "text": [
      "env: PROJECT_DIR=/content\n"
     ]
    }
   ],
   "source": [
    "%env PROJECT_DIR=/content"
   ]
  },
  {
   "cell_type": "markdown",
   "metadata": {
    "id": "moUrMWxLqpMt"
   },
   "source": [
    "## Import"
   ]
  },
  {
   "cell_type": "code",
   "execution_count": 7,
   "metadata": {
    "id": "UdCuwiRNF3nD"
   },
   "outputs": [],
   "source": [
    "import os\n",
    "from IPython.display import clear_output\n",
    "import cv2 as cv\n",
    "from PIL import Image\n",
    "import matplotlib.pyplot as plt\n",
    "from pathlib import Path\n",
    "import random\n",
    "import pickle\n",
    "from functools import partial\n",
    "import albumentations as A\n",
    "from albumentations.pytorch import ToTensor\n",
    "from skimage.io import imread\n",
    "from tqdm.notebook import tqdm\n",
    "import pandas as pd\n",
    "from sklearn.metrics import classification_report, roc_curve\n",
    "\n",
    "\n",
    "import numpy as np\n",
    "import torch\n",
    "from torch import nn\n",
    "from torch.utils.data import Dataset, DataLoader\n",
    "from torchvision import transforms\n",
    "from torchvision.transforms import functional as F\n",
    "from torchvision import models\n",
    "from torchsummary import summary\n",
    "\n",
    "def read(path, as_gray=False):\n",
    "    return imread(path, as_gray=as_gray)\n",
    "\n",
    "def show(img):\n",
    "    plt.imshow(img)\n",
    "    plt.grid()\n",
    "    plt.axis('off')\n",
    "    plt.show()\n",
    "    \n",
    "plt.rcParams['figure.figsize'] = (8, 8)\n",
    "\n",
    "device = torch.device('cuda' if torch.cuda.is_available() else 'cpu')\n",
    "plt.style.use('dark_background')"
   ]
  },
  {
   "cell_type": "code",
   "execution_count": 8,
   "metadata": {
    "id": "QoyuvDzU21zN"
   },
   "outputs": [],
   "source": [
    "PROJECT_DIR = Path(os.environ['PROJECT_DIR'])\n",
    "GESTURE_DIR = PROJECT_DIR / 'gesture_clf'\n",
    "GESTURE_DATA = GESTURE_DIR / 'data'\n",
    "IMAGES_PATH = GESTURE_DATA / 'unzipped'\n",
    "TRAIN_CSV = GESTURE_DATA / 'train_loc_cls.csv'\n",
    "VAL_CSV = GESTURE_DATA / 'val_loc_cls.csv'\n",
    "\n",
    "for path in (PROJECT_DIR, GESTURE_DIR, GESTURE_DATA):\n",
    "    path.mkdir(parents=True, exist_ok=True)"
   ]
  },
  {
   "cell_type": "markdown",
   "metadata": {
    "id": "1FqKqcgv4Z8Z"
   },
   "source": [
    "You should have the following file location"
   ]
  },
  {
   "cell_type": "code",
   "execution_count": null,
   "metadata": {
    "colab": {
     "base_uri": "https://localhost:8080/"
    },
    "id": "3Ibcl4Ox4Yg1",
    "outputId": "ba4817ef-6822-4c1b-f1df-78073b61a233"
   },
   "outputs": [
    {
     "name": "stdout",
     "output_type": "stream",
     "text": [
      "/content/gesture_clf/data\n",
      "├── train_loc_cls.csv\n",
      "├── unzipped\n",
      "└── val_loc_cls.csv\n",
      "\n",
      "1 directory, 2 files\n"
     ]
    }
   ],
   "source": [
    "# !tree {GESTURE_DATA} -L 1"
   ]
  },
  {
   "cell_type": "markdown",
   "metadata": {
    "id": "vam62fMQqs2c"
   },
   "source": [
    "## Data preparation"
   ]
  },
  {
   "cell_type": "code",
   "execution_count": 10,
   "metadata": {
    "id": "reNNlvFXF6xp"
   },
   "outputs": [],
   "source": [
    "train_df = pd.read_csv(TRAIN_CSV)\n",
    "val_df = pd.read_csv(VAL_CSV)\n",
    "\n",
    "for df in train_df, val_df:\n",
    "    df['frame_path'] = str(IMAGES_PATH) + '/' + df['frame_path']"
   ]
  },
  {
   "cell_type": "code",
   "execution_count": 11,
   "metadata": {
    "id": "4H8mK7BOF8v-"
   },
   "outputs": [],
   "source": [
    "CLASSES = ['dislike', 'like', 'mute', 'no_gesture', 'ok', 'stop', 'victory']\n",
    "\n",
    "class GestDataset(Dataset):\n",
    "    classes = CLASSES\n",
    "    cls2idx = {j: i for i, j in enumerate(classes)}\n",
    "\n",
    "    transform = A.Compose([\n",
    "        A.Resize(224, 224),\n",
    "        A.Normalize(mean=(0.485, 0.456, 0.406), std=(0.229, 0.224, 0.225)),\n",
    "        ToTensor()\n",
    "    ])\n",
    "\n",
    "    def __init__(self, df, transform=None, phase='train'):\n",
    "        self.df = df\n",
    "        self.phase = phase\n",
    "        self.transform = A.Compose([transform, self.transform])\n",
    "\n",
    "        assert phase in ('train', 'val', 'test' ), 'Phase must be `train`/`val`/`test`'\n",
    "\n",
    "        \n",
    "    def __getitem__(self, idx):\n",
    "        row = self.df.iloc[idx]\n",
    "        img = imread(row.frame_path)\n",
    "        h, w = img.shape[:2]\n",
    "        x0, x1 = (int(x*w) for x in (row.xmin, row.xmax))\n",
    "        y0, y1 = (int(y*h) for y in (row.ymin, row.ymax))\n",
    "        \n",
    "        cls = row.class_name\n",
    "        idx_cls = self.cls2idx[cls]\n",
    "        img = img[y0:y1, x0:x1]\n",
    "\n",
    "        if self.phase in ('train', 'val'):\n",
    "            out_tensor = self.apply_transform(img)\n",
    "            return out_tensor, idx_cls\n",
    "\n",
    "        elif self.phase == 'test':\n",
    "            return self.apply_transform(img)\n",
    "\n",
    "    def __len__(self):\n",
    "        return len(self.df)\n",
    "\n",
    "    def apply_transform(self, img, mask=None):\n",
    "        transformed = self.transform(image=img)\n",
    "        return transformed['image']"
   ]
  },
  {
   "cell_type": "code",
   "execution_count": 12,
   "metadata": {
    "id": "Cs2-nQ7uF-E4"
   },
   "outputs": [],
   "source": [
    "BS = 32\n",
    "\n",
    "train_transform = A.Compose([\n",
    "    A.Rotate(30),                         \n",
    "    A.HorizontalFlip(p=0.5),\n",
    "    A.HueSaturationValue(p=0.5),\n",
    "    A.Blur(p=0.1),\n",
    "    A.ToGray(p=0.05),\n",
    "    A.RandomBrightnessContrast(p=0.3),\n",
    "])\n",
    "\n",
    "train_ds = GestDataset(train_df, transform=train_transform, phase='train')\n",
    "val_ds = GestDataset(val_df, phase='val')\n",
    "\n",
    "\n",
    "train_dl = torch.utils.data.DataLoader(\n",
    "    train_ds, batch_size=BS, shuffle=True, num_workers=2, drop_last=True)\n",
    "\n",
    "val_dl = torch.utils.data.DataLoader(\n",
    "    val_ds, batch_size=BS, shuffle=True, num_workers=2)"
   ]
  },
  {
   "cell_type": "markdown",
   "metadata": {
    "id": "3iS52WV39xDq"
   },
   "source": [
    "We can see what the classifier will receive at the input "
   ]
  },
  {
   "cell_type": "code",
   "execution_count": 13,
   "metadata": {
    "id": "8VhdSLE6Ge_W"
   },
   "outputs": [],
   "source": [
    "def tensor2img(tensor):\n",
    "    return ((tensor.permute(1, 2, 0).numpy()*(0.229, 0.224, 0.225)+(0.485, 0.456, 0.406))*255).astype('uint8')"
   ]
  },
  {
   "cell_type": "code",
   "execution_count": null,
   "metadata": {
    "colab": {
     "base_uri": "https://localhost:8080/",
     "height": 917
    },
    "id": "2Eie-KXV8mnw",
    "outputId": "86a53ec4-6e64-4377-ddbb-547a28a72c4b"
   },
   "outputs": [],
   "source": [
    "_, axs = plt.subplots(nrows=4, ncols=4, figsize=(16,16))\n",
    "x, y = next(iter(train_dl))\n",
    "for x0, y0, ax, _ in zip(x, y, axs.ravel(), range(16)):\n",
    "    ax.set_title(CLASSES[y0])\n",
    "    ax.axis('off')\n",
    "    ax.imshow(tensor2img(x0))"
   ]
  },
  {
   "cell_type": "markdown",
   "metadata": {
    "id": "1pnk4Silq2v4"
   },
   "source": [
    "## Model"
   ]
  },
  {
   "cell_type": "code",
   "execution_count": null,
   "metadata": {
    "colab": {
     "base_uri": "https://localhost:8080/"
    },
    "id": "8AKRogfvRKFx",
    "outputId": "abb2fe85-4da3-466e-ff24-0e3f97f76291"
   },
   "outputs": [
    {
     "name": "stdout",
     "output_type": "stream",
     "text": [
      "Cloning into 'pytorch-image-models'...\n",
      "remote: Enumerating objects: 7503, done.\u001b[K\n",
      "remote: Counting objects: 100% (1680/1680), done.\u001b[K\n",
      "remote: Compressing objects: 100% (652/652), done.\u001b[K\n",
      "remote: Total 7503 (delta 1191), reused 1355 (delta 1015), pack-reused 5823\u001b[K\n",
      "Receiving objects: 100% (7503/7503), 17.59 MiB | 25.16 MiB/s, done.\n",
      "Resolving deltas: 100% (5460/5460), done.\n"
     ]
    }
   ],
   "source": [
    "!git clone https://github.com/rwightman/pytorch-image-models.git\n",
    "!mv /content/pytorch-image-models/timm ./timm"
   ]
  },
  {
   "cell_type": "markdown",
   "metadata": {
    "id": "4hA3HTBnAH3M"
   },
   "source": [
    "We will take EfficientNetV2-M model"
   ]
  },
  {
   "cell_type": "code",
   "execution_count": 15,
   "metadata": {
    "id": "p8db1SD3RP6V"
   },
   "outputs": [],
   "source": [
    "import timm\n",
    "\n",
    "model = timm.create_model('tf_efficientnetv2_m_in21ft1k', pretrained=False, num_classes=7)\n",
    "model.to(device);"
   ]
  },
  {
   "cell_type": "markdown",
   "metadata": {
    "id": "IHKc4OQhq35e"
   },
   "source": [
    "## Training functions"
   ]
  },
  {
   "cell_type": "code",
   "execution_count": null,
   "metadata": {
    "id": "sf_Tk0zPF-2h"
   },
   "outputs": [],
   "source": [
    "from functools import partial\n",
    "\n",
    "def one_epoch(model, loss_fn, opt, dataloader, steps, phase, device):\n",
    "    epoch_loss, epoch_acc = 0., 0.\n",
    "    def one_step(X, y):\n",
    "        nonlocal epoch_loss, epoch_acc\n",
    "        X = X.to(device)\n",
    "        y = y.to(device)\n",
    "        opt.zero_grad()\n",
    "\n",
    "        y_pred = model(X)\n",
    "        loss = loss_fn(y_pred, y)\n",
    "        if phase == 'train':\n",
    "            loss.backward()\n",
    "            opt.step()\n",
    "\n",
    "        epoch_loss += loss.item()\n",
    "        epoch_acc += (y_pred.argmax(1) == y).float().mean().item()\n",
    "\n",
    "    if phase == 'train':\n",
    "        model.train()\n",
    "    else:\n",
    "        model.eval()\n",
    "    \n",
    "    for step, (X, y) in enumerate(tqdm(dataloader)):\n",
    "        one_step(X, y)\n",
    "        if step + 1 == steps: \n",
    "            return epoch_loss / steps, epoch_acc / steps\n",
    "    return epoch_loss / len(dataloader), epoch_acc / len(dataloader)\n",
    "\n",
    "fit_epoch = partial(one_epoch, phase='train', device=device)\n",
    "eval_epoch = torch.no_grad()(partial(one_epoch, phase='val', device=device))"
   ]
  },
  {
   "cell_type": "code",
   "execution_count": null,
   "metadata": {
    "id": "0uz0b7T7F_3R"
   },
   "outputs": [],
   "source": [
    "def fit(model, loss_fn, opt, num_epoch, train_dl, val_dl, scheduler=None, train_steps=None, val_steps=None, plot_period=None, save_path=None, history=None):\n",
    "    tqdm.write(f'Train dataset size: {len(train_ds)}')\n",
    "    tqdm.write(f'Train dataloader size: {len(train_dl)}')\n",
    "    tqdm.write(f'Val dataset size: {len(val_ds)}')\n",
    "    tqdm.write(f'Val dataloader size: {len(val_dl)}')\n",
    "\n",
    "    if train_steps is not None:\n",
    "        tqdm.write(f'Number of iters per train epoch: {len(train_dl) // train_steps}')\n",
    "    if val_steps is not None:\n",
    "        tqdm.write(f'Number of iters per val epoch: {len(val_dl) // val_steps}')\n",
    "\n",
    "    if history is None:\n",
    "        history = {stat: {'train': [], 'val': []} for stat in ['loss', 'acc']}\n",
    "        max_acc = 0.\n",
    "    else:\n",
    "        max_acc = max(history['acc']['val'])\n",
    "\n",
    "    try:\n",
    "        for epoch in range(num_epoch):\n",
    "            loss, acc = fit_epoch(model, loss_fn, opt, train_dl, train_steps)\n",
    "            history['loss']['train'].append(loss)\n",
    "            history['acc']['train'].append(acc)\n",
    "\n",
    "\n",
    "            loss, acc = eval_epoch(model, loss_fn, opt, val_dl, val_steps)\n",
    "            history['loss']['val'].append(loss)\n",
    "            history['acc']['val'].append(acc)\n",
    "            tqdm.write(f'val loss: {round(loss, 3)} val acc: {round(acc, 2)}')\n",
    "\n",
    "            # scheduler\n",
    "            if scheduler is not None:\n",
    "                scheduler.step(history['loss']['val'][-1])\n",
    "\n",
    "            # training visualization\n",
    "            if plot_period is None or epoch % plot_period == 0:\n",
    "                plot_lc(history)\n",
    "\n",
    "            # checkpoint\n",
    "            if history['acc']['val'][-1] > max_acc:\n",
    "                max_acc = history['acc']['val'][-1]\n",
    "                torch.save(model.state_dict(), save_path if save_path is not None else 'model.pth')\n",
    "                tqdm.write(f'accuracy improved: {round(max_acc, 2) * 100}%. Model saved')\n",
    "\n",
    "    except KeyboardInterrupt:\n",
    "        print('keyboard interrupt')\n",
    "    finally:\n",
    "        return history"
   ]
  },
  {
   "cell_type": "code",
   "execution_count": null,
   "metadata": {
    "id": "2rhSHF7tGA9A"
   },
   "outputs": [],
   "source": [
    "# plot learning curves\n",
    "def plot_lc(history):\n",
    "    fig, axes = plt.subplots(ncols=len(history), figsize=(8*len(history),8))\n",
    "    for ax, (name, vals) in zip(axes, history.items()):\n",
    "        ax.plot(vals['train'], label=f'Train {name}')\n",
    "        ax.plot(vals['val'], label=f'Val {name}')\n",
    "        ax.set_xlabel('Num epoch')\n",
    "        ax.set_ylabel(name)\n",
    "        ax.set_title(name + ' graph')\n",
    "        plt.axis('on')\n",
    "        ax.legend()\n",
    "    plt.savefig('learning_curves.png')\n",
    "    plt.close()"
   ]
  },
  {
   "cell_type": "code",
   "execution_count": null,
   "metadata": {
    "id": "AOPM9MdoGFka"
   },
   "outputs": [],
   "source": [
    "loss_fn = torch.nn.CrossEntropyLoss()\n",
    "opt = torch.optim.Adam(model.parameters(), lr=1e-3)\n",
    "scheduler = torch.optim.lr_scheduler.ReduceLROnPlateau(opt, patience=5)"
   ]
  },
  {
   "cell_type": "markdown",
   "metadata": {
    "id": "5lMUhQnXq6Bv"
   },
   "source": [
    "## Train"
   ]
  },
  {
   "cell_type": "markdown",
   "metadata": {
    "id": "X0rdAkh36QrT"
   },
   "source": [
    "For our example we will train only 3 epochs"
   ]
  },
  {
   "cell_type": "code",
   "execution_count": null,
   "metadata": {
    "id": "eVtF5qPQGIZo"
   },
   "outputs": [],
   "source": [
    "history = fit(model, loss_fn, opt, 3, train_dl, val_dl, scheduler=scheduler)"
   ]
  },
  {
   "cell_type": "markdown",
   "metadata": {
    "id": "NJ86J6CbrXZb"
   },
   "source": [
    "## Evaluation"
   ]
  },
  {
   "cell_type": "markdown",
   "metadata": {
    "id": "CJJCjq0e_mMk"
   },
   "source": [
    "I'll evaluate model that trained at **half** of all data. You can find this model [here](https://drive.google.com/file/d/1aY4NxgXx8hY4NI8u-0Slj_d7z8qiRH2S/view?usp=sharing)"
   ]
  },
  {
   "cell_type": "code",
   "execution_count": 16,
   "metadata": {
    "id": "0LPcksBsFNlH"
   },
   "outputs": [],
   "source": [
    "model = timm.create_model('tf_efficientnetv2_m_in21ft1k', pretrained=False, num_classes=7)\n",
    "state_dict = torch.load('effnetv2_m.pth', map_location=device)\n",
    "model.load_state_dict(state_dict)\n",
    "model.to(device)\n",
    "model.eval();"
   ]
  },
  {
   "cell_type": "markdown",
   "metadata": {
    "id": "acKMMFeFrkzP"
   },
   "source": [
    "### Metrics"
   ]
  },
  {
   "cell_type": "code",
   "execution_count": null,
   "metadata": {
    "id": "vDUmUj4zMhKA"
   },
   "outputs": [],
   "source": [
    "@torch.no_grad()\n",
    "def predict(dataloader):\n",
    "    '''\n",
    "    returns two lists: true labels and predicted probabilities\n",
    "    '''\n",
    "    return zip(\n",
    "        *((y0.item(), y_pred0)\n",
    "            for x, y in tqdm(dataloader)\n",
    "                for y0, y_pred0 in zip(y, model(x.cuda()).softmax(1).cpu().numpy()))\n",
    "    )"
   ]
  },
  {
   "cell_type": "code",
   "execution_count": null,
   "metadata": {
    "colab": {
     "base_uri": "https://localhost:8080/",
     "height": 66,
     "referenced_widgets": [
      "819960db9360458fad50b660109beba6",
      "66a9992fb62f4ef6b3c14bbf31eaeb64",
      "f006a9e6974940b29b981350fa030757",
      "f7da93158b5c4a1f820263851f2b617f",
      "55934887b4bd4710bb0c7cf44a9d07e3",
      "adb308e311724bc599a97ab9de500dc3",
      "af51528bd1224906854c8a1b6e08a636",
      "6529c78ca66548269914cf7e3691da2c"
     ]
    },
    "id": "iKL3Fr9bPQRf",
    "outputId": "163f67cc-0f1b-4cd0-ef59-a79209762fc4"
   },
   "outputs": [
    {
     "data": {
      "application/vnd.jupyter.widget-view+json": {
       "model_id": "819960db9360458fad50b660109beba6",
       "version_major": 2,
       "version_minor": 0
      },
      "text/plain": [
       "HBox(children=(FloatProgress(value=0.0, max=39.0), HTML(value='')))"
      ]
     },
     "metadata": {
      "tags": []
     },
     "output_type": "display_data"
    },
    {
     "name": "stdout",
     "output_type": "stream",
     "text": [
      "\n"
     ]
    }
   ],
   "source": [
    "y_true, y_pred = predict(val_dl)"
   ]
  },
  {
   "cell_type": "code",
   "execution_count": null,
   "metadata": {
    "id": "eu0KOqsjB8fn"
   },
   "outputs": [],
   "source": [
    "preds = pd.DataFrame(y_pred, columns=CLASSES)\n",
    "preds['true'] = [CLASSES[y] for y in y_true]"
   ]
  },
  {
   "cell_type": "code",
   "execution_count": null,
   "metadata": {
    "colab": {
     "base_uri": "https://localhost:8080/"
    },
    "id": "X4W0p6XEpDBa",
    "outputId": "091c75d1-f998-449e-efa0-df645fe7bc69"
   },
   "outputs": [
    {
     "name": "stdout",
     "output_type": "stream",
     "text": [
      "              precision    recall  f1-score   support\n",
      "\n",
      "     dislike       0.89      0.78      0.83        60\n",
      "        like       0.84      0.70      0.77        54\n",
      "        mute       0.96      0.98      0.97        55\n",
      "  no_gesture       0.80      0.89      0.84       196\n",
      "          ok       0.99      0.93      0.96       377\n",
      "        stop       0.90      0.91      0.90       286\n",
      "     victory       0.89      0.95      0.92       190\n",
      "\n",
      "    accuracy                           0.91      1218\n",
      "   macro avg       0.90      0.88      0.88      1218\n",
      "weighted avg       0.91      0.91      0.91      1218\n",
      "\n"
     ]
    }
   ],
   "source": [
    "print(classification_report(preds.true, preds[CLASSES].idxmax(1)))"
   ]
  },
  {
   "cell_type": "markdown",
   "metadata": {
    "id": "XngttDYUFuyP"
   },
   "source": [
    "Let's calculate and plot metric of the competition for our sample data"
   ]
  },
  {
   "cell_type": "code",
   "execution_count": null,
   "metadata": {
    "id": "c0qGx7CQwKKy"
   },
   "outputs": [],
   "source": [
    "def plot_metric(preds: pd.DataFrame):\n",
    "    fig, axs = plt.subplots(2, 3, figsize=(16,10))\n",
    "    score = 0.\n",
    "    TARGET_FPR = 0.002\n",
    "    classes = ('ok', 'victory', 'like', 'dislike', 'stop', 'mute')\n",
    "\n",
    "    for cls, ax in zip(classes, axs.ravel()):\n",
    "        true = (preds['true'] == cls).astype(int).values\n",
    "        pred = preds[cls].values\n",
    "        fpr, tpr, thr = roc_curve(true, pred)\n",
    "\n",
    "        if fpr[0] < TARGET_FPR:\n",
    "            target_tpr = tpr[fpr < TARGET_FPR][-1]\n",
    "        else:\n",
    "            target_tpr = 0.0\n",
    "        score += target_tpr\n",
    "\n",
    "        ax.plot(fpr, tpr)\n",
    "        ax.set_title(f'Score for `{cls}` class`: {target_tpr:.2f}')\n",
    "        ax.set_xlim(0, 1)\n",
    "        ax.set_ylim(0, 1)\n",
    "        ax.set_xlabel('FPR')\n",
    "        ax.set_ylabel('TPR')\n",
    "\n",
    "    fig.suptitle(f'Total metric: {score / 6:.2f}')"
   ]
  },
  {
   "cell_type": "code",
   "execution_count": null,
   "metadata": {
    "colab": {
     "base_uri": "https://localhost:8080/",
     "height": 677
    },
    "id": "2MsikufVDqbI",
    "outputId": "50d49c8f-00d7-4254-81a4-f540f19fda5f"
   },
   "outputs": [],
   "source": [
    "plot_metric(preds)"
   ]
  },
  {
   "cell_type": "markdown",
   "metadata": {
    "id": "evCdmM37rqKZ"
   },
   "source": [
    "### Overview"
   ]
  },
  {
   "cell_type": "markdown",
   "metadata": {
    "id": "JHe4uG0-IOOn"
   },
   "source": [
    "Let's look at the predictions"
   ]
  },
  {
   "cell_type": "code",
   "execution_count": null,
   "metadata": {
    "colab": {
     "base_uri": "https://localhost:8080/",
     "height": 917
    },
    "id": "Si9bc1eIGSGm",
    "outputId": "9ce9e216-80d9-441d-8f53-f148407c98b8"
   },
   "outputs": [],
   "source": [
    "_, axs = plt.subplots(nrows=4, ncols=4, figsize=(16,16))\n",
    "x, y = next(iter(val_dl))\n",
    "with torch.no_grad():\n",
    "    y_pred = model(x.cuda()).argmax(1).cpu().numpy()\n",
    "\n",
    "for x0, y0, y_pred0, ax, _ in zip(x, y, y_pred, axs.ravel(), range(16)):\n",
    "    ax.set_title(CLASSES[y0], color='red' if y_pred0 != y0 else 'white')\n",
    "    ax.axis('off')\n",
    "    ax.imshow(tensor2img(x0))"
   ]
  },
  {
   "cell_type": "markdown",
   "metadata": {
    "id": "qlmIKsSAIpho"
   },
   "source": [
    "That's all with the classification of gestures!"
   ]
  },
  {
   "cell_type": "markdown",
   "metadata": {
    "id": "jMCrdqEQInzX"
   },
   "source": [
    "# End-to-end inference"
   ]
  },
  {
   "cell_type": "markdown",
   "metadata": {
    "id": "pVeG_3rWHkBB"
   },
   "source": [
    "In this part we will write end-to-end inference function that will combine localization of hands and its classification for the presence of the gesture (or lack thereof) "
   ]
  },
  {
   "cell_type": "markdown",
   "metadata": {
    "id": "HHiJWnhHHidb"
   },
   "source": [
    "Let's download trained models"
   ]
  },
  {
   "cell_type": "code",
   "execution_count": 4,
   "metadata": {
    "colab": {
     "base_uri": "https://localhost:8080/"
    },
    "id": "tYUIF46JG911",
    "outputId": "8e630e6a-58aa-4635-c720-a312fba21fe2"
   },
   "outputs": [
    {
     "name": "stdout",
     "output_type": "stream",
     "text": [
      "Downloading...\n",
      "From: https://drive.google.com/uc?id=1-CELzTRZObz9dGD28pB0xqeKrUKTtJc5\n",
      "To: /content/best.pt\n",
      "175MB [00:01, 132MB/s]\n",
      "Downloading...\n",
      "From: https://drive.google.com/uc?id=1aY4NxgXx8hY4NI8u-0Slj_d7z8qiRH2S\n",
      "To: /content/effnetv2_m.pth\n",
      "213MB [00:01, 123MB/s]\n"
     ]
    }
   ],
   "source": [
    "!gdown --id 1-CELzTRZObz9dGD28pB0xqeKrUKTtJc5 # best.pt\n",
    "!gdown --id 1aY4NxgXx8hY4NI8u-0Slj_d7z8qiRH2S # effnetv2_m.pth"
   ]
  },
  {
   "cell_type": "markdown",
   "metadata": {
    "id": "pqGE4eXrX6q2"
   },
   "source": [
    "<font color='red'>Don't forget to specify paths to hand detector and gesture classifier</font>"
   ]
  },
  {
   "cell_type": "code",
   "execution_count": 4,
   "metadata": {
    "colab": {
     "base_uri": "https://localhost:8080/"
    },
    "id": "GkNFLpcLJR40",
    "outputId": "34c3d323-0611-4451-efbc-dfc324844ba0"
   },
   "outputs": [
    {
     "name": "stdout",
     "output_type": "stream",
     "text": [
      "env: HAND_MODEL=best.pt\n",
      "env: GESTURE_MODEL=effnetv2_m.pth\n"
     ]
    }
   ],
   "source": [
    "%env HAND_MODEL=best.pt\n",
    "%env GESTURE_MODEL=effnetv2_m.pth"
   ]
  },
  {
   "cell_type": "markdown",
   "metadata": {
    "id": "6wOhdyqBLh16"
   },
   "source": [
    "Download additional module"
   ]
  },
  {
   "cell_type": "code",
   "execution_count": 31,
   "metadata": {
    "colab": {
     "base_uri": "https://localhost:8080/"
    },
    "id": "FHEHVUKsOVnr",
    "outputId": "ec0feaed-b579-4616-8f38-53f2be7220b7"
   },
   "outputs": [
    {
     "name": "stdout",
     "output_type": "stream",
     "text": [
      "Cloning into 'pytorch-image-models'...\n",
      "remote: Enumerating objects: 7503, done.\u001b[K\n",
      "remote: Counting objects: 100% (1680/1680), done.\u001b[K\n",
      "remote: Compressing objects: 100% (658/658), done.\u001b[K\n",
      "remote: Total 7503 (delta 1193), reused 1349 (delta 1009), pack-reused 5823\u001b[K\n",
      "Receiving objects: 100% (7503/7503), 17.60 MiB | 20.25 MiB/s, done.\n",
      "Resolving deltas: 100% (5462/5462), done.\n"
     ]
    }
   ],
   "source": [
    "# timm\n",
    "!git clone https://github.com/rwightman/pytorch-image-models.git\n",
    "!mv /content/pytorch-image-models/timm ./timm"
   ]
  },
  {
   "cell_type": "markdown",
   "metadata": {
    "id": "eksWOAP4bwTu"
   },
   "source": [
    "Download the image for an example"
   ]
  },
  {
   "cell_type": "code",
   "execution_count": 142,
   "metadata": {
    "colab": {
     "base_uri": "https://localhost:8080/"
    },
    "id": "wcsWUuSmUBoE",
    "outputId": "24565782-b211-4dd0-817f-4563b04fc474"
   },
   "outputs": [
    {
     "name": "stdout",
     "output_type": "stream",
     "text": [
      "--2021-07-27 18:53:17--  https://api.time.com/wp-content/uploads/2014/07/140709-winston-churchill-eisenstedt.jpg?quality=85\n",
      "Resolving api.time.com (api.time.com)... 192.0.66.64, 2a04:fa87:fffd::c000:4240\n",
      "Connecting to api.time.com (api.time.com)|192.0.66.64|:443... connected.\n",
      "HTTP request sent, awaiting response... 200 OK\n",
      "Length: 115202 (113K) [image/jpeg]\n",
      "Saving to: ‘example.jpg’\n",
      "\n",
      "example.jpg         100%[===================>] 112.50K  --.-KB/s    in 0.03s   \n",
      "\n",
      "2021-07-27 18:53:18 (3.46 MB/s) - ‘example.jpg’ saved [115202/115202]\n",
      "\n"
     ]
    }
   ],
   "source": [
    "!wget -O example.jpg https://api.time.com/wp-content/uploads/2014/07/140709-winston-churchill-eisenstedt.jpg?quality=85&w=447"
   ]
  },
  {
   "cell_type": "markdown",
   "metadata": {
    "id": "NzDX2Qlpb4Ox"
   },
   "source": [
    "Here is inference class"
   ]
  },
  {
   "cell_type": "code",
   "execution_count": 1,
   "metadata": {
    "id": "XOQVn6ltP03R"
   },
   "outputs": [],
   "source": [
    "import torch\n",
    "import skimage.io\n",
    "import cv2 as cv\n",
    "import os\n",
    "import timm\n",
    "import numpy as np\n",
    "\n",
    "import albumentations as A\n",
    "from albumentations.pytorch import ToTensor\n",
    "from torch.utils.data import DataLoader\n",
    "\n",
    "device = torch.device('cuda' if torch.cuda.is_available() else 'cpu')\n",
    "\n",
    "\n",
    "class Inference:\n",
    "    CLASSES = ['dislike', 'like', 'mute', 'no_gesture', 'ok', 'stop', 'victory']\n",
    "    NO_GESTURE_IDX = CLASSES.index('no_gesture')\n",
    "\n",
    "    clf_transform = A.Compose([\n",
    "        A.Resize(224, 224),\n",
    "        A.Normalize(mean=(0.485, 0.456, 0.406), std=(0.229, 0.224, 0.225)),\n",
    "        ToTensor()\n",
    "    ])\n",
    "\n",
    "    def __init__(self, hand_conf=0.3):\n",
    "        '''\n",
    "        hand_conf: confidence threshold for hand detection\n",
    "        '''\n",
    "        self.yolo = self.load_yolo(os.environ['HAND_MODEL'])\n",
    "        self.clf = self.load_clf(os.environ['GESTURE_MODEL'])\n",
    "        self.CONF = hand_conf\n",
    "\n",
    "    @staticmethod\n",
    "    def load_yolo(yolo_path):\n",
    "        return torch.hub.load('ultralytics/yolov5', 'custom', path=yolo_path, force_reload=True)\n",
    "\n",
    "    @staticmethod\n",
    "    def load_clf(clf_path):\n",
    "        clf = timm.create_model('tf_efficientnetv2_m_in21ft1k', pretrained=False, num_classes=7)\n",
    "        state_dict = torch.load(clf_path, map_location=device)\n",
    "        clf.load_state_dict(state_dict)\n",
    "        clf.to(device)\n",
    "        return clf\n",
    "    \n",
    "    @torch.no_grad()\n",
    "    def clf_predict(self, dataloader):\n",
    "        preds = []\n",
    "        for x in dataloader:\n",
    "            preds.extend(self.clf(x.cuda()).softmax(1).cpu().tolist())\n",
    "        return preds\n",
    "\n",
    "    def __call__(self, img_path):\n",
    "        '''\n",
    "        Predicts gesture on the image with path `img_path`\n",
    "        '''\n",
    "        imgs_paths = [img_path]\n",
    "        results = self.yolo(imgs_paths)\n",
    "        # extract and filter bboxes by confidence\n",
    "        bboxes = [list(map(int, xyxy)) \n",
    "            for *xyxy, conf, cls in results.xyxy[0].cpu().numpy() \n",
    "                if conf > self.CONF]\n",
    "\n",
    "        if not bboxes:\n",
    "            return 'no gesture'\n",
    "\n",
    "        img = skimage.io.imread(img_path)\n",
    "        height, width = img.shape[:2]\n",
    "\n",
    "        # expand bboxes\n",
    "        expanded_bboxes = [self.expand_box(bbox, height, width) for bbox in bboxes]\n",
    "        # get crops from the image\n",
    "        crops = [img[y0:y1, x0:x1] for x0, y0, x1, y1 in expanded_bboxes]\n",
    "        # transform crops to tensors\n",
    "        tensors = [self.clf_transform(image=crop)['image'] for crop in crops]\n",
    "        dl = DataLoader(tensors, batch_size=16)\n",
    "        # get predictions from gesture classifier\n",
    "        preds = self.clf_predict(dl)\n",
    "        \n",
    "        # filter `no gesture` class\n",
    "        preds = [pred for pred in preds if np.argmax(pred) != self.NO_GESTURE_IDX]\n",
    "        if not preds:\n",
    "            return 'no gesture'\n",
    "\n",
    "        # get gesture class index with the highest probability\n",
    "        cls_idx = np.argmax(preds) % len(self.CLASSES)\n",
    "        return self.CLASSES[cls_idx]\n",
    "\n",
    "    @staticmethod\n",
    "    def expand_box(xyxy, height, width, n=2.5):\n",
    "        x0, y0, x1, y1 = xyxy\n",
    "        deltaX = (x1 - x0) / n\n",
    "        deltaY = (y1 - y0) / n\n",
    "        x0 = np.clip(x0-deltaX, 0, None)\n",
    "        x1 = np.clip(x1+deltaX, None, width)\n",
    "        y0 = np.clip(y0-deltaY, 0, None)\n",
    "        y1 = np.clip(y1+deltaY, None, height)\n",
    "        return list(map(int, (x0, y0, x1, y1)))"
   ]
  },
  {
   "cell_type": "code",
   "execution_count": 7,
   "metadata": {
    "id": "phSrVcF5M566"
   },
   "outputs": [],
   "source": [
    "import matplotlib.pyplot as plt\n",
    "%matplotlib inline\n",
    "plt.rcParams['figure.figsize'] = (8, 8)\n",
    "plt.style.use('dark_background')\n",
    "\n",
    "def show(img):\n",
    "    plt.imshow(img)\n",
    "    plt.grid()\n",
    "    plt.axis('off')\n",
    "    plt.show()\n",
    "\n",
    "def read(path):\n",
    "    return skimage.io.imread(path)"
   ]
  },
  {
   "cell_type": "code",
   "execution_count": 5,
   "metadata": {
    "colab": {
     "base_uri": "https://localhost:8080/"
    },
    "id": "mnaMS536XkXU",
    "outputId": "d403da72-73c8-46f0-e84b-6c730b6c71a5"
   },
   "outputs": [
    {
     "name": "stderr",
     "output_type": "stream",
     "text": [
      "Downloading: \"https://github.com/ultralytics/yolov5/archive/master.zip\" to /root/.cache/torch/hub/master.zip\n",
      "YOLOv5 🚀 2021-7-27 torch 1.9.0+cu102 CUDA:0 (Tesla P100-PCIE-16GB, 16280.875MB)\n",
      "\n",
      "Fusing layers... \n",
      "Model Summary: 476 layers, 87198694 parameters, 0 gradients\n",
      "Adding AutoShape... \n"
     ]
    }
   ],
   "source": [
    "inference = Inference()"
   ]
  },
  {
   "cell_type": "code",
   "execution_count": null,
   "metadata": {
    "colab": {
     "base_uri": "https://localhost:8080/",
     "height": 482
    },
    "id": "6I4jQMhuYGUE",
    "outputId": "0b3852f0-2c08-4b9f-a83f-6b910b3b464b"
   },
   "outputs": [],
   "source": [
    "img_path = 'example.jpg'\n",
    "cls_name = inference(img_path)\n",
    "\n",
    "plt.title(cls_name)\n",
    "show(read(img_path))"
   ]
  },
  {
   "cell_type": "markdown",
   "metadata": {
    "id": "o5a6TVhlacPU"
   },
   "source": [
    "Great! Thank you for viewing my solution. I hope this was useful for you. Bye!"
   ]
  }
 ],
 "metadata": {
  "accelerator": "GPU",
  "colab": {
   "collapsed_sections": [],
   "name": "gestures_main.ipynb",
   "provenance": []
  },
  "kernelspec": {
   "display_name": "Python 3",
   "language": "python",
   "name": "python3"
  },
  "language_info": {
   "codemirror_mode": {
    "name": "ipython",
    "version": 3
   },
   "file_extension": ".py",
   "mimetype": "text/x-python",
   "name": "python",
   "nbconvert_exporter": "python",
   "pygments_lexer": "ipython3",
   "version": "3.8.5"
  },
  "widgets": {
   "application/vnd.jupyter.widget-state+json": {
    "00986dcbe0084e1cad63d54b39621b60": {
     "model_module": "@jupyter-widgets/controls",
     "model_name": "HTMLModel",
     "state": {
      "_dom_classes": [],
      "_model_module": "@jupyter-widgets/controls",
      "_model_module_version": "1.5.0",
      "_model_name": "HTMLModel",
      "_view_count": null,
      "_view_module": "@jupyter-widgets/controls",
      "_view_module_version": "1.5.0",
      "_view_name": "HTMLView",
      "description": "",
      "description_tooltip": null,
      "layout": "IPY_MODEL_71228247e1a94dc3889f48d59746917b",
      "placeholder": "​",
      "style": "IPY_MODEL_fb232403bfda4ec5b2171a2b7169d8e3",
      "value": " 1218/1218 [01:50&lt;00:00, 11.04it/s]"
     }
    },
    "021b2e69f8f64efb962f9f3065056a1b": {
     "model_module": "@jupyter-widgets/base",
     "model_name": "LayoutModel",
     "state": {
      "_model_module": "@jupyter-widgets/base",
      "_model_module_version": "1.2.0",
      "_model_name": "LayoutModel",
      "_view_count": null,
      "_view_module": "@jupyter-widgets/base",
      "_view_module_version": "1.2.0",
      "_view_name": "LayoutView",
      "align_content": null,
      "align_items": null,
      "align_self": null,
      "border": null,
      "bottom": null,
      "display": null,
      "flex": null,
      "flex_flow": null,
      "grid_area": null,
      "grid_auto_columns": null,
      "grid_auto_flow": null,
      "grid_auto_rows": null,
      "grid_column": null,
      "grid_gap": null,
      "grid_row": null,
      "grid_template_areas": null,
      "grid_template_columns": null,
      "grid_template_rows": null,
      "height": null,
      "justify_content": null,
      "justify_items": null,
      "left": null,
      "margin": null,
      "max_height": null,
      "max_width": null,
      "min_height": null,
      "min_width": null,
      "object_fit": null,
      "object_position": null,
      "order": null,
      "overflow": null,
      "overflow_x": null,
      "overflow_y": null,
      "padding": null,
      "right": null,
      "top": null,
      "visibility": null,
      "width": null
     }
    },
    "04383252797c4898baca6f93ebf8f85b": {
     "model_module": "@jupyter-widgets/controls",
     "model_name": "DescriptionStyleModel",
     "state": {
      "_model_module": "@jupyter-widgets/controls",
      "_model_module_version": "1.5.0",
      "_model_name": "DescriptionStyleModel",
      "_view_count": null,
      "_view_module": "@jupyter-widgets/base",
      "_view_module_version": "1.2.0",
      "_view_name": "StyleView",
      "description_width": ""
     }
    },
    "052d210ecb174a709c4e231bb8f924e9": {
     "model_module": "@jupyter-widgets/base",
     "model_name": "LayoutModel",
     "state": {
      "_model_module": "@jupyter-widgets/base",
      "_model_module_version": "1.2.0",
      "_model_name": "LayoutModel",
      "_view_count": null,
      "_view_module": "@jupyter-widgets/base",
      "_view_module_version": "1.2.0",
      "_view_name": "LayoutView",
      "align_content": null,
      "align_items": null,
      "align_self": null,
      "border": null,
      "bottom": null,
      "display": null,
      "flex": null,
      "flex_flow": null,
      "grid_area": null,
      "grid_auto_columns": null,
      "grid_auto_flow": null,
      "grid_auto_rows": null,
      "grid_column": null,
      "grid_gap": null,
      "grid_row": null,
      "grid_template_areas": null,
      "grid_template_columns": null,
      "grid_template_rows": null,
      "height": null,
      "justify_content": null,
      "justify_items": null,
      "left": null,
      "margin": null,
      "max_height": null,
      "max_width": null,
      "min_height": null,
      "min_width": null,
      "object_fit": null,
      "object_position": null,
      "order": null,
      "overflow": null,
      "overflow_x": null,
      "overflow_y": null,
      "padding": null,
      "right": null,
      "top": null,
      "visibility": null,
      "width": null
     }
    },
    "06d6fafcdf144312bdedb05d899d6194": {
     "model_module": "@jupyter-widgets/controls",
     "model_name": "HTMLModel",
     "state": {
      "_dom_classes": [],
      "_model_module": "@jupyter-widgets/controls",
      "_model_module_version": "1.5.0",
      "_model_name": "HTMLModel",
      "_view_count": null,
      "_view_module": "@jupyter-widgets/controls",
      "_view_module_version": "1.5.0",
      "_view_name": "HTMLView",
      "description": "",
      "description_tooltip": null,
      "layout": "IPY_MODEL_609f61487eca4ebd9b64b2a350cd9d87",
      "placeholder": "​",
      "style": "IPY_MODEL_aaa8201b369f4c85b22b60b1ba2e88b0",
      "value": " 4069/4069 [01:59&lt;00:00, 34.09it/s]"
     }
    },
    "094318aa976945cfb1b9b3244957c93b": {
     "model_module": "@jupyter-widgets/base",
     "model_name": "LayoutModel",
     "state": {
      "_model_module": "@jupyter-widgets/base",
      "_model_module_version": "1.2.0",
      "_model_name": "LayoutModel",
      "_view_count": null,
      "_view_module": "@jupyter-widgets/base",
      "_view_module_version": "1.2.0",
      "_view_name": "LayoutView",
      "align_content": null,
      "align_items": null,
      "align_self": null,
      "border": null,
      "bottom": null,
      "display": null,
      "flex": null,
      "flex_flow": null,
      "grid_area": null,
      "grid_auto_columns": null,
      "grid_auto_flow": null,
      "grid_auto_rows": null,
      "grid_column": null,
      "grid_gap": null,
      "grid_row": null,
      "grid_template_areas": null,
      "grid_template_columns": null,
      "grid_template_rows": null,
      "height": null,
      "justify_content": null,
      "justify_items": null,
      "left": null,
      "margin": null,
      "max_height": null,
      "max_width": null,
      "min_height": null,
      "min_width": null,
      "object_fit": null,
      "object_position": null,
      "order": null,
      "overflow": null,
      "overflow_x": null,
      "overflow_y": null,
      "padding": null,
      "right": null,
      "top": null,
      "visibility": null,
      "width": null
     }
    },
    "09e4f69dd4e14882adad08f7437e5eb3": {
     "model_module": "@jupyter-widgets/controls",
     "model_name": "HTMLModel",
     "state": {
      "_dom_classes": [],
      "_model_module": "@jupyter-widgets/controls",
      "_model_module_version": "1.5.0",
      "_model_name": "HTMLModel",
      "_view_count": null,
      "_view_module": "@jupyter-widgets/controls",
      "_view_module_version": "1.5.0",
      "_view_name": "HTMLView",
      "description": "",
      "description_tooltip": null,
      "layout": "IPY_MODEL_fbc76f28742b4a8eba49c7acdc79191b",
      "placeholder": "​",
      "style": "IPY_MODEL_fbf2abc06b234b0ea34a14c5573a9072",
      "value": " 738/738 [00:03&lt;00:00, 205.05it/s]"
     }
    },
    "0a330b775f124f0f86c0f150143818e4": {
     "model_module": "@jupyter-widgets/controls",
     "model_name": "HTMLModel",
     "state": {
      "_dom_classes": [],
      "_model_module": "@jupyter-widgets/controls",
      "_model_module_version": "1.5.0",
      "_model_name": "HTMLModel",
      "_view_count": null,
      "_view_module": "@jupyter-widgets/controls",
      "_view_module_version": "1.5.0",
      "_view_name": "HTMLView",
      "description": "",
      "description_tooltip": null,
      "layout": "IPY_MODEL_365a86407a8e40dcb9f2cfa555098f9b",
      "placeholder": "​",
      "style": "IPY_MODEL_893b6d56af6f4cee8c153ff8e48443f6",
      "value": " 738/738 [00:00&lt;00:00, 1703.51it/s]"
     }
    },
    "0c5cb81f504c47aa890a0c7bdc8332d0": {
     "model_module": "@jupyter-widgets/controls",
     "model_name": "HBoxModel",
     "state": {
      "_dom_classes": [],
      "_model_module": "@jupyter-widgets/controls",
      "_model_module_version": "1.5.0",
      "_model_name": "HBoxModel",
      "_view_count": null,
      "_view_module": "@jupyter-widgets/controls",
      "_view_module_version": "1.5.0",
      "_view_name": "HBoxView",
      "box_style": "",
      "children": [
       "IPY_MODEL_9e94530b07ca4f0bbd21da7342c947b7",
       "IPY_MODEL_3791922669f44d4b9ea53d4b5c953b77"
      ],
      "layout": "IPY_MODEL_640d7650f18f4002abbca9cdfeebd4ff"
     }
    },
    "0c66fe631d344cc0bd6eb7fd77cdae78": {
     "model_module": "@jupyter-widgets/base",
     "model_name": "LayoutModel",
     "state": {
      "_model_module": "@jupyter-widgets/base",
      "_model_module_version": "1.2.0",
      "_model_name": "LayoutModel",
      "_view_count": null,
      "_view_module": "@jupyter-widgets/base",
      "_view_module_version": "1.2.0",
      "_view_name": "LayoutView",
      "align_content": null,
      "align_items": null,
      "align_self": null,
      "border": null,
      "bottom": null,
      "display": null,
      "flex": null,
      "flex_flow": null,
      "grid_area": null,
      "grid_auto_columns": null,
      "grid_auto_flow": null,
      "grid_auto_rows": null,
      "grid_column": null,
      "grid_gap": null,
      "grid_row": null,
      "grid_template_areas": null,
      "grid_template_columns": null,
      "grid_template_rows": null,
      "height": null,
      "justify_content": null,
      "justify_items": null,
      "left": null,
      "margin": null,
      "max_height": null,
      "max_width": null,
      "min_height": null,
      "min_width": null,
      "object_fit": null,
      "object_position": null,
      "order": null,
      "overflow": null,
      "overflow_x": null,
      "overflow_y": null,
      "padding": null,
      "right": null,
      "top": null,
      "visibility": null,
      "width": null
     }
    },
    "0d363b7a3cfb422b911da5135d8892e4": {
     "model_module": "@jupyter-widgets/controls",
     "model_name": "DescriptionStyleModel",
     "state": {
      "_model_module": "@jupyter-widgets/controls",
      "_model_module_version": "1.5.0",
      "_model_name": "DescriptionStyleModel",
      "_view_count": null,
      "_view_module": "@jupyter-widgets/base",
      "_view_module_version": "1.2.0",
      "_view_name": "StyleView",
      "description_width": ""
     }
    },
    "10a027e94d544643979ca5b6aed5c96b": {
     "model_module": "@jupyter-widgets/controls",
     "model_name": "ProgressStyleModel",
     "state": {
      "_model_module": "@jupyter-widgets/controls",
      "_model_module_version": "1.5.0",
      "_model_name": "ProgressStyleModel",
      "_view_count": null,
      "_view_module": "@jupyter-widgets/base",
      "_view_module_version": "1.2.0",
      "_view_name": "StyleView",
      "bar_color": null,
      "description_width": "initial"
     }
    },
    "13e6ca70c2c7486483d2352880f0a7d8": {
     "model_module": "@jupyter-widgets/base",
     "model_name": "LayoutModel",
     "state": {
      "_model_module": "@jupyter-widgets/base",
      "_model_module_version": "1.2.0",
      "_model_name": "LayoutModel",
      "_view_count": null,
      "_view_module": "@jupyter-widgets/base",
      "_view_module_version": "1.2.0",
      "_view_name": "LayoutView",
      "align_content": null,
      "align_items": null,
      "align_self": null,
      "border": null,
      "bottom": null,
      "display": null,
      "flex": null,
      "flex_flow": null,
      "grid_area": null,
      "grid_auto_columns": null,
      "grid_auto_flow": null,
      "grid_auto_rows": null,
      "grid_column": null,
      "grid_gap": null,
      "grid_row": null,
      "grid_template_areas": null,
      "grid_template_columns": null,
      "grid_template_rows": null,
      "height": null,
      "justify_content": null,
      "justify_items": null,
      "left": null,
      "margin": null,
      "max_height": null,
      "max_width": null,
      "min_height": null,
      "min_width": null,
      "object_fit": null,
      "object_position": null,
      "order": null,
      "overflow": null,
      "overflow_x": null,
      "overflow_y": null,
      "padding": null,
      "right": null,
      "top": null,
      "visibility": null,
      "width": null
     }
    },
    "1430b043f5b745338fcadb3ad7e334fe": {
     "model_module": "@jupyter-widgets/controls",
     "model_name": "FloatProgressModel",
     "state": {
      "_dom_classes": [],
      "_model_module": "@jupyter-widgets/controls",
      "_model_module_version": "1.5.0",
      "_model_name": "FloatProgressModel",
      "_view_count": null,
      "_view_module": "@jupyter-widgets/controls",
      "_view_module_version": "1.5.0",
      "_view_name": "ProgressView",
      "bar_style": "success",
      "description": "100%",
      "description_tooltip": null,
      "layout": "IPY_MODEL_62ffc69166404f5da6bcf8ac848e3463",
      "max": 821,
      "min": 0,
      "orientation": "horizontal",
      "style": "IPY_MODEL_55a470bdebcd42e8a8e8ed31dc5c3c68",
      "value": 821
     }
    },
    "1690f4b7f2d94d6e95c71eeab9bac0f6": {
     "model_module": "@jupyter-widgets/controls",
     "model_name": "HTMLModel",
     "state": {
      "_dom_classes": [],
      "_model_module": "@jupyter-widgets/controls",
      "_model_module_version": "1.5.0",
      "_model_name": "HTMLModel",
      "_view_count": null,
      "_view_module": "@jupyter-widgets/controls",
      "_view_module_version": "1.5.0",
      "_view_name": "HTMLView",
      "description": "",
      "description_tooltip": null,
      "layout": "IPY_MODEL_13e6ca70c2c7486483d2352880f0a7d8",
      "placeholder": "​",
      "style": "IPY_MODEL_d5678d639930438e95882c94825ea14b",
      "value": " 4069/4069 [01:57&lt;00:00, 34.64it/s]"
     }
    },
    "17dc73fc23fb403ab0c978600ab05ed8": {
     "model_module": "@jupyter-widgets/controls",
     "model_name": "DescriptionStyleModel",
     "state": {
      "_model_module": "@jupyter-widgets/controls",
      "_model_module_version": "1.5.0",
      "_model_name": "DescriptionStyleModel",
      "_view_count": null,
      "_view_module": "@jupyter-widgets/base",
      "_view_module_version": "1.2.0",
      "_view_name": "StyleView",
      "description_width": ""
     }
    },
    "18c6594363d54cd29d5837d0a9ad34f6": {
     "model_module": "@jupyter-widgets/controls",
     "model_name": "ProgressStyleModel",
     "state": {
      "_model_module": "@jupyter-widgets/controls",
      "_model_module_version": "1.5.0",
      "_model_name": "ProgressStyleModel",
      "_view_count": null,
      "_view_module": "@jupyter-widgets/base",
      "_view_module_version": "1.2.0",
      "_view_name": "StyleView",
      "bar_color": null,
      "description_width": "initial"
     }
    },
    "1f5a6229335d4dd18100061e43ba2a5d": {
     "model_module": "@jupyter-widgets/controls",
     "model_name": "ProgressStyleModel",
     "state": {
      "_model_module": "@jupyter-widgets/controls",
      "_model_module_version": "1.5.0",
      "_model_name": "ProgressStyleModel",
      "_view_count": null,
      "_view_module": "@jupyter-widgets/base",
      "_view_module_version": "1.2.0",
      "_view_name": "StyleView",
      "bar_color": null,
      "description_width": "initial"
     }
    },
    "1fcb94943be64e9a968f824123222378": {
     "model_module": "@jupyter-widgets/base",
     "model_name": "LayoutModel",
     "state": {
      "_model_module": "@jupyter-widgets/base",
      "_model_module_version": "1.2.0",
      "_model_name": "LayoutModel",
      "_view_count": null,
      "_view_module": "@jupyter-widgets/base",
      "_view_module_version": "1.2.0",
      "_view_name": "LayoutView",
      "align_content": null,
      "align_items": null,
      "align_self": null,
      "border": null,
      "bottom": null,
      "display": null,
      "flex": null,
      "flex_flow": null,
      "grid_area": null,
      "grid_auto_columns": null,
      "grid_auto_flow": null,
      "grid_auto_rows": null,
      "grid_column": null,
      "grid_gap": null,
      "grid_row": null,
      "grid_template_areas": null,
      "grid_template_columns": null,
      "grid_template_rows": null,
      "height": null,
      "justify_content": null,
      "justify_items": null,
      "left": null,
      "margin": null,
      "max_height": null,
      "max_width": null,
      "min_height": null,
      "min_width": null,
      "object_fit": null,
      "object_position": null,
      "order": null,
      "overflow": null,
      "overflow_x": null,
      "overflow_y": null,
      "padding": null,
      "right": null,
      "top": null,
      "visibility": null,
      "width": null
     }
    },
    "1fd5f7fbf10448359f01153e71fbb416": {
     "model_module": "@jupyter-widgets/controls",
     "model_name": "DescriptionStyleModel",
     "state": {
      "_model_module": "@jupyter-widgets/controls",
      "_model_module_version": "1.5.0",
      "_model_name": "DescriptionStyleModel",
      "_view_count": null,
      "_view_module": "@jupyter-widgets/base",
      "_view_module_version": "1.2.0",
      "_view_name": "StyleView",
      "description_width": ""
     }
    },
    "2022344673c04164a8ed308a2e4ca336": {
     "model_module": "@jupyter-widgets/controls",
     "model_name": "FloatProgressModel",
     "state": {
      "_dom_classes": [],
      "_model_module": "@jupyter-widgets/controls",
      "_model_module_version": "1.5.0",
      "_model_name": "FloatProgressModel",
      "_view_count": null,
      "_view_module": "@jupyter-widgets/controls",
      "_view_module_version": "1.5.0",
      "_view_name": "ProgressView",
      "bar_style": "success",
      "description": "100%",
      "description_tooltip": null,
      "layout": "IPY_MODEL_f355ba254c1745418b25fb844dca9f2c",
      "max": 738,
      "min": 0,
      "orientation": "horizontal",
      "style": "IPY_MODEL_93bbc583f62d45068983f63c06d18f20",
      "value": 738
     }
    },
    "2139448318e94f21bc3dd4661fad3977": {
     "model_module": "@jupyter-widgets/base",
     "model_name": "LayoutModel",
     "state": {
      "_model_module": "@jupyter-widgets/base",
      "_model_module_version": "1.2.0",
      "_model_name": "LayoutModel",
      "_view_count": null,
      "_view_module": "@jupyter-widgets/base",
      "_view_module_version": "1.2.0",
      "_view_name": "LayoutView",
      "align_content": null,
      "align_items": null,
      "align_self": null,
      "border": null,
      "bottom": null,
      "display": null,
      "flex": null,
      "flex_flow": null,
      "grid_area": null,
      "grid_auto_columns": null,
      "grid_auto_flow": null,
      "grid_auto_rows": null,
      "grid_column": null,
      "grid_gap": null,
      "grid_row": null,
      "grid_template_areas": null,
      "grid_template_columns": null,
      "grid_template_rows": null,
      "height": null,
      "justify_content": null,
      "justify_items": null,
      "left": null,
      "margin": null,
      "max_height": null,
      "max_width": null,
      "min_height": null,
      "min_width": null,
      "object_fit": null,
      "object_position": null,
      "order": null,
      "overflow": null,
      "overflow_x": null,
      "overflow_y": null,
      "padding": null,
      "right": null,
      "top": null,
      "visibility": null,
      "width": null
     }
    },
    "245f5e06fa05427882a2cc3ef6945afb": {
     "model_module": "@jupyter-widgets/controls",
     "model_name": "ProgressStyleModel",
     "state": {
      "_model_module": "@jupyter-widgets/controls",
      "_model_module_version": "1.5.0",
      "_model_name": "ProgressStyleModel",
      "_view_count": null,
      "_view_module": "@jupyter-widgets/base",
      "_view_module_version": "1.2.0",
      "_view_name": "StyleView",
      "bar_color": null,
      "description_width": "initial"
     }
    },
    "2f889b2e4eb746809b8da1e4175f6108": {
     "model_module": "@jupyter-widgets/controls",
     "model_name": "DescriptionStyleModel",
     "state": {
      "_model_module": "@jupyter-widgets/controls",
      "_model_module_version": "1.5.0",
      "_model_name": "DescriptionStyleModel",
      "_view_count": null,
      "_view_module": "@jupyter-widgets/base",
      "_view_module_version": "1.2.0",
      "_view_name": "StyleView",
      "description_width": ""
     }
    },
    "30ac6f8b99f84e5280748a6ba3e10409": {
     "model_module": "@jupyter-widgets/controls",
     "model_name": "DescriptionStyleModel",
     "state": {
      "_model_module": "@jupyter-widgets/controls",
      "_model_module_version": "1.5.0",
      "_model_name": "DescriptionStyleModel",
      "_view_count": null,
      "_view_module": "@jupyter-widgets/base",
      "_view_module_version": "1.2.0",
      "_view_name": "StyleView",
      "description_width": ""
     }
    },
    "33f3d44c071a448cbcfce3c535d5b7bb": {
     "model_module": "@jupyter-widgets/base",
     "model_name": "LayoutModel",
     "state": {
      "_model_module": "@jupyter-widgets/base",
      "_model_module_version": "1.2.0",
      "_model_name": "LayoutModel",
      "_view_count": null,
      "_view_module": "@jupyter-widgets/base",
      "_view_module_version": "1.2.0",
      "_view_name": "LayoutView",
      "align_content": null,
      "align_items": null,
      "align_self": null,
      "border": null,
      "bottom": null,
      "display": null,
      "flex": null,
      "flex_flow": null,
      "grid_area": null,
      "grid_auto_columns": null,
      "grid_auto_flow": null,
      "grid_auto_rows": null,
      "grid_column": null,
      "grid_gap": null,
      "grid_row": null,
      "grid_template_areas": null,
      "grid_template_columns": null,
      "grid_template_rows": null,
      "height": null,
      "justify_content": null,
      "justify_items": null,
      "left": null,
      "margin": null,
      "max_height": null,
      "max_width": null,
      "min_height": null,
      "min_width": null,
      "object_fit": null,
      "object_position": null,
      "order": null,
      "overflow": null,
      "overflow_x": null,
      "overflow_y": null,
      "padding": null,
      "right": null,
      "top": null,
      "visibility": null,
      "width": null
     }
    },
    "352bac2b65bd4ed2b92006a0548881de": {
     "model_module": "@jupyter-widgets/base",
     "model_name": "LayoutModel",
     "state": {
      "_model_module": "@jupyter-widgets/base",
      "_model_module_version": "1.2.0",
      "_model_name": "LayoutModel",
      "_view_count": null,
      "_view_module": "@jupyter-widgets/base",
      "_view_module_version": "1.2.0",
      "_view_name": "LayoutView",
      "align_content": null,
      "align_items": null,
      "align_self": null,
      "border": null,
      "bottom": null,
      "display": null,
      "flex": null,
      "flex_flow": null,
      "grid_area": null,
      "grid_auto_columns": null,
      "grid_auto_flow": null,
      "grid_auto_rows": null,
      "grid_column": null,
      "grid_gap": null,
      "grid_row": null,
      "grid_template_areas": null,
      "grid_template_columns": null,
      "grid_template_rows": null,
      "height": null,
      "justify_content": null,
      "justify_items": null,
      "left": null,
      "margin": null,
      "max_height": null,
      "max_width": null,
      "min_height": null,
      "min_width": null,
      "object_fit": null,
      "object_position": null,
      "order": null,
      "overflow": null,
      "overflow_x": null,
      "overflow_y": null,
      "padding": null,
      "right": null,
      "top": null,
      "visibility": null,
      "width": null
     }
    },
    "365a86407a8e40dcb9f2cfa555098f9b": {
     "model_module": "@jupyter-widgets/base",
     "model_name": "LayoutModel",
     "state": {
      "_model_module": "@jupyter-widgets/base",
      "_model_module_version": "1.2.0",
      "_model_name": "LayoutModel",
      "_view_count": null,
      "_view_module": "@jupyter-widgets/base",
      "_view_module_version": "1.2.0",
      "_view_name": "LayoutView",
      "align_content": null,
      "align_items": null,
      "align_self": null,
      "border": null,
      "bottom": null,
      "display": null,
      "flex": null,
      "flex_flow": null,
      "grid_area": null,
      "grid_auto_columns": null,
      "grid_auto_flow": null,
      "grid_auto_rows": null,
      "grid_column": null,
      "grid_gap": null,
      "grid_row": null,
      "grid_template_areas": null,
      "grid_template_columns": null,
      "grid_template_rows": null,
      "height": null,
      "justify_content": null,
      "justify_items": null,
      "left": null,
      "margin": null,
      "max_height": null,
      "max_width": null,
      "min_height": null,
      "min_width": null,
      "object_fit": null,
      "object_position": null,
      "order": null,
      "overflow": null,
      "overflow_x": null,
      "overflow_y": null,
      "padding": null,
      "right": null,
      "top": null,
      "visibility": null,
      "width": null
     }
    },
    "3791922669f44d4b9ea53d4b5c953b77": {
     "model_module": "@jupyter-widgets/controls",
     "model_name": "HTMLModel",
     "state": {
      "_dom_classes": [],
      "_model_module": "@jupyter-widgets/controls",
      "_model_module_version": "1.5.0",
      "_model_name": "HTMLModel",
      "_view_count": null,
      "_view_module": "@jupyter-widgets/controls",
      "_view_module_version": "1.5.0",
      "_view_name": "HTMLView",
      "description": "",
      "description_tooltip": null,
      "layout": "IPY_MODEL_b3ed87e382b14733a3e0803b7ec4ac14",
      "placeholder": "​",
      "style": "IPY_MODEL_30ac6f8b99f84e5280748a6ba3e10409",
      "value": " 738/738 [00:04&lt;00:00, 153.77it/s]"
     }
    },
    "37cb69b53d9c4d9d8d3335b864e1f907": {
     "model_module": "@jupyter-widgets/controls",
     "model_name": "HBoxModel",
     "state": {
      "_dom_classes": [],
      "_model_module": "@jupyter-widgets/controls",
      "_model_module_version": "1.5.0",
      "_model_name": "HBoxModel",
      "_view_count": null,
      "_view_module": "@jupyter-widgets/controls",
      "_view_module_version": "1.5.0",
      "_view_name": "HBoxView",
      "box_style": "",
      "children": [
       "IPY_MODEL_bd3ca28ea5434e09b1c03d5f6ae2bc65",
       "IPY_MODEL_dc419456e76346dfb858e20c8cb144a0"
      ],
      "layout": "IPY_MODEL_91ed6b72331e45028a50c999057436bf"
     }
    },
    "3c82ee99ba8b4048a89901bead4f2d30": {
     "model_module": "@jupyter-widgets/base",
     "model_name": "LayoutModel",
     "state": {
      "_model_module": "@jupyter-widgets/base",
      "_model_module_version": "1.2.0",
      "_model_name": "LayoutModel",
      "_view_count": null,
      "_view_module": "@jupyter-widgets/base",
      "_view_module_version": "1.2.0",
      "_view_name": "LayoutView",
      "align_content": null,
      "align_items": null,
      "align_self": null,
      "border": null,
      "bottom": null,
      "display": null,
      "flex": null,
      "flex_flow": null,
      "grid_area": null,
      "grid_auto_columns": null,
      "grid_auto_flow": null,
      "grid_auto_rows": null,
      "grid_column": null,
      "grid_gap": null,
      "grid_row": null,
      "grid_template_areas": null,
      "grid_template_columns": null,
      "grid_template_rows": null,
      "height": null,
      "justify_content": null,
      "justify_items": null,
      "left": null,
      "margin": null,
      "max_height": null,
      "max_width": null,
      "min_height": null,
      "min_width": null,
      "object_fit": null,
      "object_position": null,
      "order": null,
      "overflow": null,
      "overflow_x": null,
      "overflow_y": null,
      "padding": null,
      "right": null,
      "top": null,
      "visibility": null,
      "width": null
     }
    },
    "3fe467f254454c91831b20622843219e": {
     "model_module": "@jupyter-widgets/controls",
     "model_name": "ProgressStyleModel",
     "state": {
      "_model_module": "@jupyter-widgets/controls",
      "_model_module_version": "1.5.0",
      "_model_name": "ProgressStyleModel",
      "_view_count": null,
      "_view_module": "@jupyter-widgets/base",
      "_view_module_version": "1.2.0",
      "_view_name": "StyleView",
      "bar_color": null,
      "description_width": "initial"
     }
    },
    "41c3def37a99445491c5f1ca69257014": {
     "model_module": "@jupyter-widgets/controls",
     "model_name": "DescriptionStyleModel",
     "state": {
      "_model_module": "@jupyter-widgets/controls",
      "_model_module_version": "1.5.0",
      "_model_name": "DescriptionStyleModel",
      "_view_count": null,
      "_view_module": "@jupyter-widgets/base",
      "_view_module_version": "1.2.0",
      "_view_name": "StyleView",
      "description_width": ""
     }
    },
    "43193b1577774cf8bfb838f41bae2d11": {
     "model_module": "@jupyter-widgets/controls",
     "model_name": "HTMLModel",
     "state": {
      "_dom_classes": [],
      "_model_module": "@jupyter-widgets/controls",
      "_model_module_version": "1.5.0",
      "_model_name": "HTMLModel",
      "_view_count": null,
      "_view_module": "@jupyter-widgets/controls",
      "_view_module_version": "1.5.0",
      "_view_name": "HTMLView",
      "description": "",
      "description_tooltip": null,
      "layout": "IPY_MODEL_eea415a4e1b249048c2ebd06cebd65fe",
      "placeholder": "​",
      "style": "IPY_MODEL_b6bc2612d5194b469e7007aedbed390e",
      "value": " 821/821 [00:02&lt;00:00, 296.35it/s]"
     }
    },
    "4358a40f04b14061b01dfe3d64d2b111": {
     "model_module": "@jupyter-widgets/controls",
     "model_name": "HBoxModel",
     "state": {
      "_dom_classes": [],
      "_model_module": "@jupyter-widgets/controls",
      "_model_module_version": "1.5.0",
      "_model_name": "HBoxModel",
      "_view_count": null,
      "_view_module": "@jupyter-widgets/controls",
      "_view_module_version": "1.5.0",
      "_view_name": "HBoxView",
      "box_style": "",
      "children": [
       "IPY_MODEL_f4bd0a38110d4a0c8b5426cca56fd1e4",
       "IPY_MODEL_451cf64912704b1faea718ce0af8710e"
      ],
      "layout": "IPY_MODEL_7d6e27e5863b4badbc845841da355d46"
     }
    },
    "451cf64912704b1faea718ce0af8710e": {
     "model_module": "@jupyter-widgets/controls",
     "model_name": "HTMLModel",
     "state": {
      "_dom_classes": [],
      "_model_module": "@jupyter-widgets/controls",
      "_model_module_version": "1.5.0",
      "_model_name": "HTMLModel",
      "_view_count": null,
      "_view_module": "@jupyter-widgets/controls",
      "_view_module_version": "1.5.0",
      "_view_name": "HTMLView",
      "description": "",
      "description_tooltip": null,
      "layout": "IPY_MODEL_3c82ee99ba8b4048a89901bead4f2d30",
      "placeholder": "​",
      "style": "IPY_MODEL_04383252797c4898baca6f93ebf8f85b",
      "value": " 1218/1218 [01:07&lt;00:00, 18.10it/s]"
     }
    },
    "4646a0993aef4c8a9a07c0b0bcace810": {
     "model_module": "@jupyter-widgets/controls",
     "model_name": "HTMLModel",
     "state": {
      "_dom_classes": [],
      "_model_module": "@jupyter-widgets/controls",
      "_model_module_version": "1.5.0",
      "_model_name": "HTMLModel",
      "_view_count": null,
      "_view_module": "@jupyter-widgets/controls",
      "_view_module_version": "1.5.0",
      "_view_name": "HTMLView",
      "description": "",
      "description_tooltip": null,
      "layout": "IPY_MODEL_6e757176800d48eaa919d44b4364b7a5",
      "placeholder": "​",
      "style": "IPY_MODEL_17dc73fc23fb403ab0c978600ab05ed8",
      "value": " 821/821 [01:27&lt;00:00,  9.43it/s]"
     }
    },
    "520ce9c4f33145d48cba1ac0c8189e61": {
     "model_module": "@jupyter-widgets/base",
     "model_name": "LayoutModel",
     "state": {
      "_model_module": "@jupyter-widgets/base",
      "_model_module_version": "1.2.0",
      "_model_name": "LayoutModel",
      "_view_count": null,
      "_view_module": "@jupyter-widgets/base",
      "_view_module_version": "1.2.0",
      "_view_name": "LayoutView",
      "align_content": null,
      "align_items": null,
      "align_self": null,
      "border": null,
      "bottom": null,
      "display": null,
      "flex": null,
      "flex_flow": null,
      "grid_area": null,
      "grid_auto_columns": null,
      "grid_auto_flow": null,
      "grid_auto_rows": null,
      "grid_column": null,
      "grid_gap": null,
      "grid_row": null,
      "grid_template_areas": null,
      "grid_template_columns": null,
      "grid_template_rows": null,
      "height": null,
      "justify_content": null,
      "justify_items": null,
      "left": null,
      "margin": null,
      "max_height": null,
      "max_width": null,
      "min_height": null,
      "min_width": null,
      "object_fit": null,
      "object_position": null,
      "order": null,
      "overflow": null,
      "overflow_x": null,
      "overflow_y": null,
      "padding": null,
      "right": null,
      "top": null,
      "visibility": null,
      "width": null
     }
    },
    "525928ef40cc47a3a3c06ceda4230d29": {
     "model_module": "@jupyter-widgets/base",
     "model_name": "LayoutModel",
     "state": {
      "_model_module": "@jupyter-widgets/base",
      "_model_module_version": "1.2.0",
      "_model_name": "LayoutModel",
      "_view_count": null,
      "_view_module": "@jupyter-widgets/base",
      "_view_module_version": "1.2.0",
      "_view_name": "LayoutView",
      "align_content": null,
      "align_items": null,
      "align_self": null,
      "border": null,
      "bottom": null,
      "display": null,
      "flex": null,
      "flex_flow": null,
      "grid_area": null,
      "grid_auto_columns": null,
      "grid_auto_flow": null,
      "grid_auto_rows": null,
      "grid_column": null,
      "grid_gap": null,
      "grid_row": null,
      "grid_template_areas": null,
      "grid_template_columns": null,
      "grid_template_rows": null,
      "height": null,
      "justify_content": null,
      "justify_items": null,
      "left": null,
      "margin": null,
      "max_height": null,
      "max_width": null,
      "min_height": null,
      "min_width": null,
      "object_fit": null,
      "object_position": null,
      "order": null,
      "overflow": null,
      "overflow_x": null,
      "overflow_y": null,
      "padding": null,
      "right": null,
      "top": null,
      "visibility": null,
      "width": null
     }
    },
    "55934887b4bd4710bb0c7cf44a9d07e3": {
     "model_module": "@jupyter-widgets/controls",
     "model_name": "ProgressStyleModel",
     "state": {
      "_model_module": "@jupyter-widgets/controls",
      "_model_module_version": "1.5.0",
      "_model_name": "ProgressStyleModel",
      "_view_count": null,
      "_view_module": "@jupyter-widgets/base",
      "_view_module_version": "1.2.0",
      "_view_name": "StyleView",
      "bar_color": null,
      "description_width": "initial"
     }
    },
    "55a470bdebcd42e8a8e8ed31dc5c3c68": {
     "model_module": "@jupyter-widgets/controls",
     "model_name": "ProgressStyleModel",
     "state": {
      "_model_module": "@jupyter-widgets/controls",
      "_model_module_version": "1.5.0",
      "_model_name": "ProgressStyleModel",
      "_view_count": null,
      "_view_module": "@jupyter-widgets/base",
      "_view_module_version": "1.2.0",
      "_view_name": "StyleView",
      "bar_color": null,
      "description_width": "initial"
     }
    },
    "5adb3336e8b240c7adb37c285d953920": {
     "model_module": "@jupyter-widgets/controls",
     "model_name": "DescriptionStyleModel",
     "state": {
      "_model_module": "@jupyter-widgets/controls",
      "_model_module_version": "1.5.0",
      "_model_name": "DescriptionStyleModel",
      "_view_count": null,
      "_view_module": "@jupyter-widgets/base",
      "_view_module_version": "1.2.0",
      "_view_name": "StyleView",
      "description_width": ""
     }
    },
    "5b55d2a08f1f42b98410103eab2c3c35": {
     "model_module": "@jupyter-widgets/controls",
     "model_name": "ProgressStyleModel",
     "state": {
      "_model_module": "@jupyter-widgets/controls",
      "_model_module_version": "1.5.0",
      "_model_name": "ProgressStyleModel",
      "_view_count": null,
      "_view_module": "@jupyter-widgets/base",
      "_view_module_version": "1.2.0",
      "_view_name": "StyleView",
      "bar_color": null,
      "description_width": "initial"
     }
    },
    "5b8c06387ff945a4a7806d8f9c451602": {
     "model_module": "@jupyter-widgets/base",
     "model_name": "LayoutModel",
     "state": {
      "_model_module": "@jupyter-widgets/base",
      "_model_module_version": "1.2.0",
      "_model_name": "LayoutModel",
      "_view_count": null,
      "_view_module": "@jupyter-widgets/base",
      "_view_module_version": "1.2.0",
      "_view_name": "LayoutView",
      "align_content": null,
      "align_items": null,
      "align_self": null,
      "border": null,
      "bottom": null,
      "display": null,
      "flex": null,
      "flex_flow": null,
      "grid_area": null,
      "grid_auto_columns": null,
      "grid_auto_flow": null,
      "grid_auto_rows": null,
      "grid_column": null,
      "grid_gap": null,
      "grid_row": null,
      "grid_template_areas": null,
      "grid_template_columns": null,
      "grid_template_rows": null,
      "height": null,
      "justify_content": null,
      "justify_items": null,
      "left": null,
      "margin": null,
      "max_height": null,
      "max_width": null,
      "min_height": null,
      "min_width": null,
      "object_fit": null,
      "object_position": null,
      "order": null,
      "overflow": null,
      "overflow_x": null,
      "overflow_y": null,
      "padding": null,
      "right": null,
      "top": null,
      "visibility": null,
      "width": null
     }
    },
    "5ee7abca30e04a41953a9526f731e226": {
     "model_module": "@jupyter-widgets/controls",
     "model_name": "ProgressStyleModel",
     "state": {
      "_model_module": "@jupyter-widgets/controls",
      "_model_module_version": "1.5.0",
      "_model_name": "ProgressStyleModel",
      "_view_count": null,
      "_view_module": "@jupyter-widgets/base",
      "_view_module_version": "1.2.0",
      "_view_name": "StyleView",
      "bar_color": null,
      "description_width": "initial"
     }
    },
    "609f61487eca4ebd9b64b2a350cd9d87": {
     "model_module": "@jupyter-widgets/base",
     "model_name": "LayoutModel",
     "state": {
      "_model_module": "@jupyter-widgets/base",
      "_model_module_version": "1.2.0",
      "_model_name": "LayoutModel",
      "_view_count": null,
      "_view_module": "@jupyter-widgets/base",
      "_view_module_version": "1.2.0",
      "_view_name": "LayoutView",
      "align_content": null,
      "align_items": null,
      "align_self": null,
      "border": null,
      "bottom": null,
      "display": null,
      "flex": null,
      "flex_flow": null,
      "grid_area": null,
      "grid_auto_columns": null,
      "grid_auto_flow": null,
      "grid_auto_rows": null,
      "grid_column": null,
      "grid_gap": null,
      "grid_row": null,
      "grid_template_areas": null,
      "grid_template_columns": null,
      "grid_template_rows": null,
      "height": null,
      "justify_content": null,
      "justify_items": null,
      "left": null,
      "margin": null,
      "max_height": null,
      "max_width": null,
      "min_height": null,
      "min_width": null,
      "object_fit": null,
      "object_position": null,
      "order": null,
      "overflow": null,
      "overflow_x": null,
      "overflow_y": null,
      "padding": null,
      "right": null,
      "top": null,
      "visibility": null,
      "width": null
     }
    },
    "623ef2d922ad44f9b5d158717ead2641": {
     "model_module": "@jupyter-widgets/base",
     "model_name": "LayoutModel",
     "state": {
      "_model_module": "@jupyter-widgets/base",
      "_model_module_version": "1.2.0",
      "_model_name": "LayoutModel",
      "_view_count": null,
      "_view_module": "@jupyter-widgets/base",
      "_view_module_version": "1.2.0",
      "_view_name": "LayoutView",
      "align_content": null,
      "align_items": null,
      "align_self": null,
      "border": null,
      "bottom": null,
      "display": null,
      "flex": null,
      "flex_flow": null,
      "grid_area": null,
      "grid_auto_columns": null,
      "grid_auto_flow": null,
      "grid_auto_rows": null,
      "grid_column": null,
      "grid_gap": null,
      "grid_row": null,
      "grid_template_areas": null,
      "grid_template_columns": null,
      "grid_template_rows": null,
      "height": null,
      "justify_content": null,
      "justify_items": null,
      "left": null,
      "margin": null,
      "max_height": null,
      "max_width": null,
      "min_height": null,
      "min_width": null,
      "object_fit": null,
      "object_position": null,
      "order": null,
      "overflow": null,
      "overflow_x": null,
      "overflow_y": null,
      "padding": null,
      "right": null,
      "top": null,
      "visibility": null,
      "width": null
     }
    },
    "62ffc69166404f5da6bcf8ac848e3463": {
     "model_module": "@jupyter-widgets/base",
     "model_name": "LayoutModel",
     "state": {
      "_model_module": "@jupyter-widgets/base",
      "_model_module_version": "1.2.0",
      "_model_name": "LayoutModel",
      "_view_count": null,
      "_view_module": "@jupyter-widgets/base",
      "_view_module_version": "1.2.0",
      "_view_name": "LayoutView",
      "align_content": null,
      "align_items": null,
      "align_self": null,
      "border": null,
      "bottom": null,
      "display": null,
      "flex": null,
      "flex_flow": null,
      "grid_area": null,
      "grid_auto_columns": null,
      "grid_auto_flow": null,
      "grid_auto_rows": null,
      "grid_column": null,
      "grid_gap": null,
      "grid_row": null,
      "grid_template_areas": null,
      "grid_template_columns": null,
      "grid_template_rows": null,
      "height": null,
      "justify_content": null,
      "justify_items": null,
      "left": null,
      "margin": null,
      "max_height": null,
      "max_width": null,
      "min_height": null,
      "min_width": null,
      "object_fit": null,
      "object_position": null,
      "order": null,
      "overflow": null,
      "overflow_x": null,
      "overflow_y": null,
      "padding": null,
      "right": null,
      "top": null,
      "visibility": null,
      "width": null
     }
    },
    "63167b5ad9a44758b4469fbea33c6162": {
     "model_module": "@jupyter-widgets/base",
     "model_name": "LayoutModel",
     "state": {
      "_model_module": "@jupyter-widgets/base",
      "_model_module_version": "1.2.0",
      "_model_name": "LayoutModel",
      "_view_count": null,
      "_view_module": "@jupyter-widgets/base",
      "_view_module_version": "1.2.0",
      "_view_name": "LayoutView",
      "align_content": null,
      "align_items": null,
      "align_self": null,
      "border": null,
      "bottom": null,
      "display": null,
      "flex": null,
      "flex_flow": null,
      "grid_area": null,
      "grid_auto_columns": null,
      "grid_auto_flow": null,
      "grid_auto_rows": null,
      "grid_column": null,
      "grid_gap": null,
      "grid_row": null,
      "grid_template_areas": null,
      "grid_template_columns": null,
      "grid_template_rows": null,
      "height": null,
      "justify_content": null,
      "justify_items": null,
      "left": null,
      "margin": null,
      "max_height": null,
      "max_width": null,
      "min_height": null,
      "min_width": null,
      "object_fit": null,
      "object_position": null,
      "order": null,
      "overflow": null,
      "overflow_x": null,
      "overflow_y": null,
      "padding": null,
      "right": null,
      "top": null,
      "visibility": null,
      "width": null
     }
    },
    "640d7650f18f4002abbca9cdfeebd4ff": {
     "model_module": "@jupyter-widgets/base",
     "model_name": "LayoutModel",
     "state": {
      "_model_module": "@jupyter-widgets/base",
      "_model_module_version": "1.2.0",
      "_model_name": "LayoutModel",
      "_view_count": null,
      "_view_module": "@jupyter-widgets/base",
      "_view_module_version": "1.2.0",
      "_view_name": "LayoutView",
      "align_content": null,
      "align_items": null,
      "align_self": null,
      "border": null,
      "bottom": null,
      "display": null,
      "flex": null,
      "flex_flow": null,
      "grid_area": null,
      "grid_auto_columns": null,
      "grid_auto_flow": null,
      "grid_auto_rows": null,
      "grid_column": null,
      "grid_gap": null,
      "grid_row": null,
      "grid_template_areas": null,
      "grid_template_columns": null,
      "grid_template_rows": null,
      "height": null,
      "justify_content": null,
      "justify_items": null,
      "left": null,
      "margin": null,
      "max_height": null,
      "max_width": null,
      "min_height": null,
      "min_width": null,
      "object_fit": null,
      "object_position": null,
      "order": null,
      "overflow": null,
      "overflow_x": null,
      "overflow_y": null,
      "padding": null,
      "right": null,
      "top": null,
      "visibility": null,
      "width": null
     }
    },
    "64bcc9e5bddf4b5d8cf2fe6242736163": {
     "model_module": "@jupyter-widgets/base",
     "model_name": "LayoutModel",
     "state": {
      "_model_module": "@jupyter-widgets/base",
      "_model_module_version": "1.2.0",
      "_model_name": "LayoutModel",
      "_view_count": null,
      "_view_module": "@jupyter-widgets/base",
      "_view_module_version": "1.2.0",
      "_view_name": "LayoutView",
      "align_content": null,
      "align_items": null,
      "align_self": null,
      "border": null,
      "bottom": null,
      "display": null,
      "flex": null,
      "flex_flow": null,
      "grid_area": null,
      "grid_auto_columns": null,
      "grid_auto_flow": null,
      "grid_auto_rows": null,
      "grid_column": null,
      "grid_gap": null,
      "grid_row": null,
      "grid_template_areas": null,
      "grid_template_columns": null,
      "grid_template_rows": null,
      "height": null,
      "justify_content": null,
      "justify_items": null,
      "left": null,
      "margin": null,
      "max_height": null,
      "max_width": null,
      "min_height": null,
      "min_width": null,
      "object_fit": null,
      "object_position": null,
      "order": null,
      "overflow": null,
      "overflow_x": null,
      "overflow_y": null,
      "padding": null,
      "right": null,
      "top": null,
      "visibility": null,
      "width": null
     }
    },
    "6529c78ca66548269914cf7e3691da2c": {
     "model_module": "@jupyter-widgets/base",
     "model_name": "LayoutModel",
     "state": {
      "_model_module": "@jupyter-widgets/base",
      "_model_module_version": "1.2.0",
      "_model_name": "LayoutModel",
      "_view_count": null,
      "_view_module": "@jupyter-widgets/base",
      "_view_module_version": "1.2.0",
      "_view_name": "LayoutView",
      "align_content": null,
      "align_items": null,
      "align_self": null,
      "border": null,
      "bottom": null,
      "display": null,
      "flex": null,
      "flex_flow": null,
      "grid_area": null,
      "grid_auto_columns": null,
      "grid_auto_flow": null,
      "grid_auto_rows": null,
      "grid_column": null,
      "grid_gap": null,
      "grid_row": null,
      "grid_template_areas": null,
      "grid_template_columns": null,
      "grid_template_rows": null,
      "height": null,
      "justify_content": null,
      "justify_items": null,
      "left": null,
      "margin": null,
      "max_height": null,
      "max_width": null,
      "min_height": null,
      "min_width": null,
      "object_fit": null,
      "object_position": null,
      "order": null,
      "overflow": null,
      "overflow_x": null,
      "overflow_y": null,
      "padding": null,
      "right": null,
      "top": null,
      "visibility": null,
      "width": null
     }
    },
    "66a9992fb62f4ef6b3c14bbf31eaeb64": {
     "model_module": "@jupyter-widgets/base",
     "model_name": "LayoutModel",
     "state": {
      "_model_module": "@jupyter-widgets/base",
      "_model_module_version": "1.2.0",
      "_model_name": "LayoutModel",
      "_view_count": null,
      "_view_module": "@jupyter-widgets/base",
      "_view_module_version": "1.2.0",
      "_view_name": "LayoutView",
      "align_content": null,
      "align_items": null,
      "align_self": null,
      "border": null,
      "bottom": null,
      "display": null,
      "flex": null,
      "flex_flow": null,
      "grid_area": null,
      "grid_auto_columns": null,
      "grid_auto_flow": null,
      "grid_auto_rows": null,
      "grid_column": null,
      "grid_gap": null,
      "grid_row": null,
      "grid_template_areas": null,
      "grid_template_columns": null,
      "grid_template_rows": null,
      "height": null,
      "justify_content": null,
      "justify_items": null,
      "left": null,
      "margin": null,
      "max_height": null,
      "max_width": null,
      "min_height": null,
      "min_width": null,
      "object_fit": null,
      "object_position": null,
      "order": null,
      "overflow": null,
      "overflow_x": null,
      "overflow_y": null,
      "padding": null,
      "right": null,
      "top": null,
      "visibility": null,
      "width": null
     }
    },
    "66e09f2223c7480cb3b662fa7aff4add": {
     "model_module": "@jupyter-widgets/base",
     "model_name": "LayoutModel",
     "state": {
      "_model_module": "@jupyter-widgets/base",
      "_model_module_version": "1.2.0",
      "_model_name": "LayoutModel",
      "_view_count": null,
      "_view_module": "@jupyter-widgets/base",
      "_view_module_version": "1.2.0",
      "_view_name": "LayoutView",
      "align_content": null,
      "align_items": null,
      "align_self": null,
      "border": null,
      "bottom": null,
      "display": null,
      "flex": null,
      "flex_flow": null,
      "grid_area": null,
      "grid_auto_columns": null,
      "grid_auto_flow": null,
      "grid_auto_rows": null,
      "grid_column": null,
      "grid_gap": null,
      "grid_row": null,
      "grid_template_areas": null,
      "grid_template_columns": null,
      "grid_template_rows": null,
      "height": null,
      "justify_content": null,
      "justify_items": null,
      "left": null,
      "margin": null,
      "max_height": null,
      "max_width": null,
      "min_height": null,
      "min_width": null,
      "object_fit": null,
      "object_position": null,
      "order": null,
      "overflow": null,
      "overflow_x": null,
      "overflow_y": null,
      "padding": null,
      "right": null,
      "top": null,
      "visibility": null,
      "width": null
     }
    },
    "6ae52016c058474eaa73d9d5d44768b4": {
     "model_module": "@jupyter-widgets/controls",
     "model_name": "ProgressStyleModel",
     "state": {
      "_model_module": "@jupyter-widgets/controls",
      "_model_module_version": "1.5.0",
      "_model_name": "ProgressStyleModel",
      "_view_count": null,
      "_view_module": "@jupyter-widgets/base",
      "_view_module_version": "1.2.0",
      "_view_name": "StyleView",
      "bar_color": null,
      "description_width": "initial"
     }
    },
    "6ba1d01c47f94c2799478b92948f542c": {
     "model_module": "@jupyter-widgets/controls",
     "model_name": "HBoxModel",
     "state": {
      "_dom_classes": [],
      "_model_module": "@jupyter-widgets/controls",
      "_model_module_version": "1.5.0",
      "_model_name": "HBoxModel",
      "_view_count": null,
      "_view_module": "@jupyter-widgets/controls",
      "_view_module_version": "1.5.0",
      "_view_name": "HBoxView",
      "box_style": "",
      "children": [
       "IPY_MODEL_a7c5b01d61334762a3cb505c0a132b22",
       "IPY_MODEL_a0003e423e82402fa8d1da54dfea7da7"
      ],
      "layout": "IPY_MODEL_63167b5ad9a44758b4469fbea33c6162"
     }
    },
    "6e757176800d48eaa919d44b4364b7a5": {
     "model_module": "@jupyter-widgets/base",
     "model_name": "LayoutModel",
     "state": {
      "_model_module": "@jupyter-widgets/base",
      "_model_module_version": "1.2.0",
      "_model_name": "LayoutModel",
      "_view_count": null,
      "_view_module": "@jupyter-widgets/base",
      "_view_module_version": "1.2.0",
      "_view_name": "LayoutView",
      "align_content": null,
      "align_items": null,
      "align_self": null,
      "border": null,
      "bottom": null,
      "display": null,
      "flex": null,
      "flex_flow": null,
      "grid_area": null,
      "grid_auto_columns": null,
      "grid_auto_flow": null,
      "grid_auto_rows": null,
      "grid_column": null,
      "grid_gap": null,
      "grid_row": null,
      "grid_template_areas": null,
      "grid_template_columns": null,
      "grid_template_rows": null,
      "height": null,
      "justify_content": null,
      "justify_items": null,
      "left": null,
      "margin": null,
      "max_height": null,
      "max_width": null,
      "min_height": null,
      "min_width": null,
      "object_fit": null,
      "object_position": null,
      "order": null,
      "overflow": null,
      "overflow_x": null,
      "overflow_y": null,
      "padding": null,
      "right": null,
      "top": null,
      "visibility": null,
      "width": null
     }
    },
    "7004211ed8e542c98c5b4fd04a5f3964": {
     "model_module": "@jupyter-widgets/controls",
     "model_name": "FloatProgressModel",
     "state": {
      "_dom_classes": [],
      "_model_module": "@jupyter-widgets/controls",
      "_model_module_version": "1.5.0",
      "_model_name": "FloatProgressModel",
      "_view_count": null,
      "_view_module": "@jupyter-widgets/controls",
      "_view_module_version": "1.5.0",
      "_view_name": "ProgressView",
      "bar_style": "success",
      "description": "100%",
      "description_tooltip": null,
      "layout": "IPY_MODEL_623ef2d922ad44f9b5d158717ead2641",
      "max": 4069,
      "min": 0,
      "orientation": "horizontal",
      "style": "IPY_MODEL_10a027e94d544643979ca5b6aed5c96b",
      "value": 4069
     }
    },
    "71228247e1a94dc3889f48d59746917b": {
     "model_module": "@jupyter-widgets/base",
     "model_name": "LayoutModel",
     "state": {
      "_model_module": "@jupyter-widgets/base",
      "_model_module_version": "1.2.0",
      "_model_name": "LayoutModel",
      "_view_count": null,
      "_view_module": "@jupyter-widgets/base",
      "_view_module_version": "1.2.0",
      "_view_name": "LayoutView",
      "align_content": null,
      "align_items": null,
      "align_self": null,
      "border": null,
      "bottom": null,
      "display": null,
      "flex": null,
      "flex_flow": null,
      "grid_area": null,
      "grid_auto_columns": null,
      "grid_auto_flow": null,
      "grid_auto_rows": null,
      "grid_column": null,
      "grid_gap": null,
      "grid_row": null,
      "grid_template_areas": null,
      "grid_template_columns": null,
      "grid_template_rows": null,
      "height": null,
      "justify_content": null,
      "justify_items": null,
      "left": null,
      "margin": null,
      "max_height": null,
      "max_width": null,
      "min_height": null,
      "min_width": null,
      "object_fit": null,
      "object_position": null,
      "order": null,
      "overflow": null,
      "overflow_x": null,
      "overflow_y": null,
      "padding": null,
      "right": null,
      "top": null,
      "visibility": null,
      "width": null
     }
    },
    "74e1e5f80c8a410f96d252f574ad0f37": {
     "model_module": "@jupyter-widgets/controls",
     "model_name": "HBoxModel",
     "state": {
      "_dom_classes": [],
      "_model_module": "@jupyter-widgets/controls",
      "_model_module_version": "1.5.0",
      "_model_name": "HBoxModel",
      "_view_count": null,
      "_view_module": "@jupyter-widgets/controls",
      "_view_module_version": "1.5.0",
      "_view_name": "HBoxView",
      "box_style": "",
      "children": [
       "IPY_MODEL_1430b043f5b745338fcadb3ad7e334fe",
       "IPY_MODEL_4646a0993aef4c8a9a07c0b0bcace810"
      ],
      "layout": "IPY_MODEL_64bcc9e5bddf4b5d8cf2fe6242736163"
     }
    },
    "753e310b498442e7987bd37f0554ef89": {
     "model_module": "@jupyter-widgets/controls",
     "model_name": "DescriptionStyleModel",
     "state": {
      "_model_module": "@jupyter-widgets/controls",
      "_model_module_version": "1.5.0",
      "_model_name": "DescriptionStyleModel",
      "_view_count": null,
      "_view_module": "@jupyter-widgets/base",
      "_view_module_version": "1.2.0",
      "_view_name": "StyleView",
      "description_width": ""
     }
    },
    "76442c499c464056a130baebd58c6a92": {
     "model_module": "@jupyter-widgets/base",
     "model_name": "LayoutModel",
     "state": {
      "_model_module": "@jupyter-widgets/base",
      "_model_module_version": "1.2.0",
      "_model_name": "LayoutModel",
      "_view_count": null,
      "_view_module": "@jupyter-widgets/base",
      "_view_module_version": "1.2.0",
      "_view_name": "LayoutView",
      "align_content": null,
      "align_items": null,
      "align_self": null,
      "border": null,
      "bottom": null,
      "display": null,
      "flex": null,
      "flex_flow": null,
      "grid_area": null,
      "grid_auto_columns": null,
      "grid_auto_flow": null,
      "grid_auto_rows": null,
      "grid_column": null,
      "grid_gap": null,
      "grid_row": null,
      "grid_template_areas": null,
      "grid_template_columns": null,
      "grid_template_rows": null,
      "height": null,
      "justify_content": null,
      "justify_items": null,
      "left": null,
      "margin": null,
      "max_height": null,
      "max_width": null,
      "min_height": null,
      "min_width": null,
      "object_fit": null,
      "object_position": null,
      "order": null,
      "overflow": null,
      "overflow_x": null,
      "overflow_y": null,
      "padding": null,
      "right": null,
      "top": null,
      "visibility": null,
      "width": null
     }
    },
    "7a0d8db0057c4745a1bdfc755a6b7a3c": {
     "model_module": "@jupyter-widgets/controls",
     "model_name": "FloatProgressModel",
     "state": {
      "_dom_classes": [],
      "_model_module": "@jupyter-widgets/controls",
      "_model_module_version": "1.5.0",
      "_model_name": "FloatProgressModel",
      "_view_count": null,
      "_view_module": "@jupyter-widgets/controls",
      "_view_module_version": "1.5.0",
      "_view_name": "ProgressView",
      "bar_style": "success",
      "description": "100%",
      "description_tooltip": null,
      "layout": "IPY_MODEL_525928ef40cc47a3a3c06ceda4230d29",
      "max": 4873,
      "min": 0,
      "orientation": "horizontal",
      "style": "IPY_MODEL_ace34d820f914fa784c7496583db9a27",
      "value": 4873
     }
    },
    "7bdd9295f0694097a1b6171b149baf17": {
     "model_module": "@jupyter-widgets/controls",
     "model_name": "HBoxModel",
     "state": {
      "_dom_classes": [],
      "_model_module": "@jupyter-widgets/controls",
      "_model_module_version": "1.5.0",
      "_model_name": "HBoxModel",
      "_view_count": null,
      "_view_module": "@jupyter-widgets/controls",
      "_view_module_version": "1.5.0",
      "_view_name": "HBoxView",
      "box_style": "",
      "children": [
       "IPY_MODEL_9c31367d994240ba96a349a2ad337ea5",
       "IPY_MODEL_df1fc2aaebe74a33bad6b92717df3eba"
      ],
      "layout": "IPY_MODEL_33f3d44c071a448cbcfce3c535d5b7bb"
     }
    },
    "7d6e27e5863b4badbc845841da355d46": {
     "model_module": "@jupyter-widgets/base",
     "model_name": "LayoutModel",
     "state": {
      "_model_module": "@jupyter-widgets/base",
      "_model_module_version": "1.2.0",
      "_model_name": "LayoutModel",
      "_view_count": null,
      "_view_module": "@jupyter-widgets/base",
      "_view_module_version": "1.2.0",
      "_view_name": "LayoutView",
      "align_content": null,
      "align_items": null,
      "align_self": null,
      "border": null,
      "bottom": null,
      "display": null,
      "flex": null,
      "flex_flow": null,
      "grid_area": null,
      "grid_auto_columns": null,
      "grid_auto_flow": null,
      "grid_auto_rows": null,
      "grid_column": null,
      "grid_gap": null,
      "grid_row": null,
      "grid_template_areas": null,
      "grid_template_columns": null,
      "grid_template_rows": null,
      "height": null,
      "justify_content": null,
      "justify_items": null,
      "left": null,
      "margin": null,
      "max_height": null,
      "max_width": null,
      "min_height": null,
      "min_width": null,
      "object_fit": null,
      "object_position": null,
      "order": null,
      "overflow": null,
      "overflow_x": null,
      "overflow_y": null,
      "padding": null,
      "right": null,
      "top": null,
      "visibility": null,
      "width": null
     }
    },
    "7fd6eb4f703146669ccb00a6dc8dc161": {
     "model_module": "@jupyter-widgets/controls",
     "model_name": "FloatProgressModel",
     "state": {
      "_dom_classes": [],
      "_model_module": "@jupyter-widgets/controls",
      "_model_module_version": "1.5.0",
      "_model_name": "FloatProgressModel",
      "_view_count": null,
      "_view_module": "@jupyter-widgets/controls",
      "_view_module_version": "1.5.0",
      "_view_name": "ProgressView",
      "bar_style": "success",
      "description": "100%",
      "description_tooltip": null,
      "layout": "IPY_MODEL_76442c499c464056a130baebd58c6a92",
      "max": 738,
      "min": 0,
      "orientation": "horizontal",
      "style": "IPY_MODEL_3fe467f254454c91831b20622843219e",
      "value": 738
     }
    },
    "819960db9360458fad50b660109beba6": {
     "model_module": "@jupyter-widgets/controls",
     "model_name": "HBoxModel",
     "state": {
      "_dom_classes": [],
      "_model_module": "@jupyter-widgets/controls",
      "_model_module_version": "1.5.0",
      "_model_name": "HBoxModel",
      "_view_count": null,
      "_view_module": "@jupyter-widgets/controls",
      "_view_module_version": "1.5.0",
      "_view_name": "HBoxView",
      "box_style": "",
      "children": [
       "IPY_MODEL_f006a9e6974940b29b981350fa030757",
       "IPY_MODEL_f7da93158b5c4a1f820263851f2b617f"
      ],
      "layout": "IPY_MODEL_66a9992fb62f4ef6b3c14bbf31eaeb64"
     }
    },
    "893b6d56af6f4cee8c153ff8e48443f6": {
     "model_module": "@jupyter-widgets/controls",
     "model_name": "DescriptionStyleModel",
     "state": {
      "_model_module": "@jupyter-widgets/controls",
      "_model_module_version": "1.5.0",
      "_model_name": "DescriptionStyleModel",
      "_view_count": null,
      "_view_module": "@jupyter-widgets/base",
      "_view_module_version": "1.2.0",
      "_view_name": "StyleView",
      "description_width": ""
     }
    },
    "8d9f7db346eb4d95a765acc4586812fc": {
     "model_module": "@jupyter-widgets/controls",
     "model_name": "HBoxModel",
     "state": {
      "_dom_classes": [],
      "_model_module": "@jupyter-widgets/controls",
      "_model_module_version": "1.5.0",
      "_model_name": "HBoxModel",
      "_view_count": null,
      "_view_module": "@jupyter-widgets/controls",
      "_view_module_version": "1.5.0",
      "_view_name": "HBoxView",
      "box_style": "",
      "children": [
       "IPY_MODEL_cf5bff910a57462184bb461510341854",
       "IPY_MODEL_43193b1577774cf8bfb838f41bae2d11"
      ],
      "layout": "IPY_MODEL_b4797b1fa0f24e179790636bd44ae2f0"
     }
    },
    "8e110cd5fd084219ae07444dc6b61636": {
     "model_module": "@jupyter-widgets/base",
     "model_name": "LayoutModel",
     "state": {
      "_model_module": "@jupyter-widgets/base",
      "_model_module_version": "1.2.0",
      "_model_name": "LayoutModel",
      "_view_count": null,
      "_view_module": "@jupyter-widgets/base",
      "_view_module_version": "1.2.0",
      "_view_name": "LayoutView",
      "align_content": null,
      "align_items": null,
      "align_self": null,
      "border": null,
      "bottom": null,
      "display": null,
      "flex": null,
      "flex_flow": null,
      "grid_area": null,
      "grid_auto_columns": null,
      "grid_auto_flow": null,
      "grid_auto_rows": null,
      "grid_column": null,
      "grid_gap": null,
      "grid_row": null,
      "grid_template_areas": null,
      "grid_template_columns": null,
      "grid_template_rows": null,
      "height": null,
      "justify_content": null,
      "justify_items": null,
      "left": null,
      "margin": null,
      "max_height": null,
      "max_width": null,
      "min_height": null,
      "min_width": null,
      "object_fit": null,
      "object_position": null,
      "order": null,
      "overflow": null,
      "overflow_x": null,
      "overflow_y": null,
      "padding": null,
      "right": null,
      "top": null,
      "visibility": null,
      "width": null
     }
    },
    "91ed6b72331e45028a50c999057436bf": {
     "model_module": "@jupyter-widgets/base",
     "model_name": "LayoutModel",
     "state": {
      "_model_module": "@jupyter-widgets/base",
      "_model_module_version": "1.2.0",
      "_model_name": "LayoutModel",
      "_view_count": null,
      "_view_module": "@jupyter-widgets/base",
      "_view_module_version": "1.2.0",
      "_view_name": "LayoutView",
      "align_content": null,
      "align_items": null,
      "align_self": null,
      "border": null,
      "bottom": null,
      "display": null,
      "flex": null,
      "flex_flow": null,
      "grid_area": null,
      "grid_auto_columns": null,
      "grid_auto_flow": null,
      "grid_auto_rows": null,
      "grid_column": null,
      "grid_gap": null,
      "grid_row": null,
      "grid_template_areas": null,
      "grid_template_columns": null,
      "grid_template_rows": null,
      "height": null,
      "justify_content": null,
      "justify_items": null,
      "left": null,
      "margin": null,
      "max_height": null,
      "max_width": null,
      "min_height": null,
      "min_width": null,
      "object_fit": null,
      "object_position": null,
      "order": null,
      "overflow": null,
      "overflow_x": null,
      "overflow_y": null,
      "padding": null,
      "right": null,
      "top": null,
      "visibility": null,
      "width": null
     }
    },
    "93bbc583f62d45068983f63c06d18f20": {
     "model_module": "@jupyter-widgets/controls",
     "model_name": "ProgressStyleModel",
     "state": {
      "_model_module": "@jupyter-widgets/controls",
      "_model_module_version": "1.5.0",
      "_model_name": "ProgressStyleModel",
      "_view_count": null,
      "_view_module": "@jupyter-widgets/base",
      "_view_module_version": "1.2.0",
      "_view_name": "StyleView",
      "bar_color": null,
      "description_width": "initial"
     }
    },
    "96d35402e63a48689329a1337e9bf72a": {
     "model_module": "@jupyter-widgets/controls",
     "model_name": "HBoxModel",
     "state": {
      "_dom_classes": [],
      "_model_module": "@jupyter-widgets/controls",
      "_model_module_version": "1.5.0",
      "_model_name": "HBoxModel",
      "_view_count": null,
      "_view_module": "@jupyter-widgets/controls",
      "_view_module_version": "1.5.0",
      "_view_name": "HBoxView",
      "box_style": "",
      "children": [
       "IPY_MODEL_ffcf947f901c48c18f071c9e149c80c8",
       "IPY_MODEL_00986dcbe0084e1cad63d54b39621b60"
      ],
      "layout": "IPY_MODEL_e1c7a3988d974b0c96837d13740e5d9f"
     }
    },
    "9a5f83d2eb234eb2bec6b7e5a6888187": {
     "model_module": "@jupyter-widgets/controls",
     "model_name": "HTMLModel",
     "state": {
      "_dom_classes": [],
      "_model_module": "@jupyter-widgets/controls",
      "_model_module_version": "1.5.0",
      "_model_name": "HTMLModel",
      "_view_count": null,
      "_view_module": "@jupyter-widgets/controls",
      "_view_module_version": "1.5.0",
      "_view_name": "HTMLView",
      "description": "",
      "description_tooltip": null,
      "layout": "IPY_MODEL_352bac2b65bd4ed2b92006a0548881de",
      "placeholder": "​",
      "style": "IPY_MODEL_0d363b7a3cfb422b911da5135d8892e4",
      "value": " 4533/4533 [04:16&lt;00:00, 17.64it/s]"
     }
    },
    "9c31367d994240ba96a349a2ad337ea5": {
     "model_module": "@jupyter-widgets/controls",
     "model_name": "FloatProgressModel",
     "state": {
      "_dom_classes": [],
      "_model_module": "@jupyter-widgets/controls",
      "_model_module_version": "1.5.0",
      "_model_name": "FloatProgressModel",
      "_view_count": null,
      "_view_module": "@jupyter-widgets/controls",
      "_view_module_version": "1.5.0",
      "_view_name": "ProgressView",
      "bar_style": "success",
      "description": "100%",
      "description_tooltip": null,
      "layout": "IPY_MODEL_af1870085bcd40928bc93fb8e8f28362",
      "max": 4873,
      "min": 0,
      "orientation": "horizontal",
      "style": "IPY_MODEL_6ae52016c058474eaa73d9d5d44768b4",
      "value": 4873
     }
    },
    "9e055c28413240828bfd94b9fa12888b": {
     "model_module": "@jupyter-widgets/base",
     "model_name": "LayoutModel",
     "state": {
      "_model_module": "@jupyter-widgets/base",
      "_model_module_version": "1.2.0",
      "_model_name": "LayoutModel",
      "_view_count": null,
      "_view_module": "@jupyter-widgets/base",
      "_view_module_version": "1.2.0",
      "_view_name": "LayoutView",
      "align_content": null,
      "align_items": null,
      "align_self": null,
      "border": null,
      "bottom": null,
      "display": null,
      "flex": null,
      "flex_flow": null,
      "grid_area": null,
      "grid_auto_columns": null,
      "grid_auto_flow": null,
      "grid_auto_rows": null,
      "grid_column": null,
      "grid_gap": null,
      "grid_row": null,
      "grid_template_areas": null,
      "grid_template_columns": null,
      "grid_template_rows": null,
      "height": null,
      "justify_content": null,
      "justify_items": null,
      "left": null,
      "margin": null,
      "max_height": null,
      "max_width": null,
      "min_height": null,
      "min_width": null,
      "object_fit": null,
      "object_position": null,
      "order": null,
      "overflow": null,
      "overflow_x": null,
      "overflow_y": null,
      "padding": null,
      "right": null,
      "top": null,
      "visibility": null,
      "width": null
     }
    },
    "9e94530b07ca4f0bbd21da7342c947b7": {
     "model_module": "@jupyter-widgets/controls",
     "model_name": "FloatProgressModel",
     "state": {
      "_dom_classes": [],
      "_model_module": "@jupyter-widgets/controls",
      "_model_module_version": "1.5.0",
      "_model_name": "FloatProgressModel",
      "_view_count": null,
      "_view_module": "@jupyter-widgets/controls",
      "_view_module_version": "1.5.0",
      "_view_name": "ProgressView",
      "bar_style": "success",
      "description": "100%",
      "description_tooltip": null,
      "layout": "IPY_MODEL_1fcb94943be64e9a968f824123222378",
      "max": 738,
      "min": 0,
      "orientation": "horizontal",
      "style": "IPY_MODEL_a04c2d15a56145bf9cb728e7551ceab1",
      "value": 738
     }
    },
    "a0003e423e82402fa8d1da54dfea7da7": {
     "model_module": "@jupyter-widgets/controls",
     "model_name": "HTMLModel",
     "state": {
      "_dom_classes": [],
      "_model_module": "@jupyter-widgets/controls",
      "_model_module_version": "1.5.0",
      "_model_name": "HTMLModel",
      "_view_count": null,
      "_view_module": "@jupyter-widgets/controls",
      "_view_module_version": "1.5.0",
      "_view_name": "HTMLView",
      "description": "",
      "description_tooltip": null,
      "layout": "IPY_MODEL_fba619a001444a179738780f9ae449f3",
      "placeholder": "​",
      "style": "IPY_MODEL_753e310b498442e7987bd37f0554ef89",
      "value": " 4069/4069 [04:24&lt;00:00, 15.38it/s]"
     }
    },
    "a04c2d15a56145bf9cb728e7551ceab1": {
     "model_module": "@jupyter-widgets/controls",
     "model_name": "ProgressStyleModel",
     "state": {
      "_model_module": "@jupyter-widgets/controls",
      "_model_module_version": "1.5.0",
      "_model_name": "ProgressStyleModel",
      "_view_count": null,
      "_view_module": "@jupyter-widgets/base",
      "_view_module_version": "1.2.0",
      "_view_name": "StyleView",
      "bar_color": null,
      "description_width": "initial"
     }
    },
    "a1e3c9e0524844f489abde1b25c3f725": {
     "model_module": "@jupyter-widgets/controls",
     "model_name": "HBoxModel",
     "state": {
      "_dom_classes": [],
      "_model_module": "@jupyter-widgets/controls",
      "_model_module_version": "1.5.0",
      "_model_name": "HBoxModel",
      "_view_count": null,
      "_view_module": "@jupyter-widgets/controls",
      "_view_module_version": "1.5.0",
      "_view_name": "HBoxView",
      "box_style": "",
      "children": [
       "IPY_MODEL_7fd6eb4f703146669ccb00a6dc8dc161",
       "IPY_MODEL_09e4f69dd4e14882adad08f7437e5eb3"
      ],
      "layout": "IPY_MODEL_0c66fe631d344cc0bd6eb7fd77cdae78"
     }
    },
    "a44007c72d234e4fb76493dc482f73ea": {
     "model_module": "@jupyter-widgets/base",
     "model_name": "LayoutModel",
     "state": {
      "_model_module": "@jupyter-widgets/base",
      "_model_module_version": "1.2.0",
      "_model_name": "LayoutModel",
      "_view_count": null,
      "_view_module": "@jupyter-widgets/base",
      "_view_module_version": "1.2.0",
      "_view_name": "LayoutView",
      "align_content": null,
      "align_items": null,
      "align_self": null,
      "border": null,
      "bottom": null,
      "display": null,
      "flex": null,
      "flex_flow": null,
      "grid_area": null,
      "grid_auto_columns": null,
      "grid_auto_flow": null,
      "grid_auto_rows": null,
      "grid_column": null,
      "grid_gap": null,
      "grid_row": null,
      "grid_template_areas": null,
      "grid_template_columns": null,
      "grid_template_rows": null,
      "height": null,
      "justify_content": null,
      "justify_items": null,
      "left": null,
      "margin": null,
      "max_height": null,
      "max_width": null,
      "min_height": null,
      "min_width": null,
      "object_fit": null,
      "object_position": null,
      "order": null,
      "overflow": null,
      "overflow_x": null,
      "overflow_y": null,
      "padding": null,
      "right": null,
      "top": null,
      "visibility": null,
      "width": null
     }
    },
    "a4fffa1bb5e84b8fadddbda625cd711d": {
     "model_module": "@jupyter-widgets/controls",
     "model_name": "HBoxModel",
     "state": {
      "_dom_classes": [],
      "_model_module": "@jupyter-widgets/controls",
      "_model_module_version": "1.5.0",
      "_model_name": "HBoxModel",
      "_view_count": null,
      "_view_module": "@jupyter-widgets/controls",
      "_view_module_version": "1.5.0",
      "_view_name": "HBoxView",
      "box_style": "",
      "children": [
       "IPY_MODEL_ec07c2ef4353469ca8d8ca72523f3a96",
       "IPY_MODEL_06d6fafcdf144312bdedb05d899d6194"
      ],
      "layout": "IPY_MODEL_cf73c3896c614a0bba70d0c55792edb5"
     }
    },
    "a69d28c0435744db8b83efde796aae90": {
     "model_module": "@jupyter-widgets/controls",
     "model_name": "HBoxModel",
     "state": {
      "_dom_classes": [],
      "_model_module": "@jupyter-widgets/controls",
      "_model_module_version": "1.5.0",
      "_model_name": "HBoxModel",
      "_view_count": null,
      "_view_module": "@jupyter-widgets/controls",
      "_view_module_version": "1.5.0",
      "_view_name": "HBoxView",
      "box_style": "",
      "children": [
       "IPY_MODEL_2022344673c04164a8ed308a2e4ca336",
       "IPY_MODEL_0a330b775f124f0f86c0f150143818e4"
      ],
      "layout": "IPY_MODEL_66e09f2223c7480cb3b662fa7aff4add"
     }
    },
    "a7c5b01d61334762a3cb505c0a132b22": {
     "model_module": "@jupyter-widgets/controls",
     "model_name": "FloatProgressModel",
     "state": {
      "_dom_classes": [],
      "_model_module": "@jupyter-widgets/controls",
      "_model_module_version": "1.5.0",
      "_model_name": "FloatProgressModel",
      "_view_count": null,
      "_view_module": "@jupyter-widgets/controls",
      "_view_module_version": "1.5.0",
      "_view_name": "ProgressView",
      "bar_style": "success",
      "description": "100%",
      "description_tooltip": null,
      "layout": "IPY_MODEL_5b8c06387ff945a4a7806d8f9c451602",
      "max": 4069,
      "min": 0,
      "orientation": "horizontal",
      "style": "IPY_MODEL_245f5e06fa05427882a2cc3ef6945afb",
      "value": 4069
     }
    },
    "aaa8201b369f4c85b22b60b1ba2e88b0": {
     "model_module": "@jupyter-widgets/controls",
     "model_name": "DescriptionStyleModel",
     "state": {
      "_model_module": "@jupyter-widgets/controls",
      "_model_module_version": "1.5.0",
      "_model_name": "DescriptionStyleModel",
      "_view_count": null,
      "_view_module": "@jupyter-widgets/base",
      "_view_module_version": "1.2.0",
      "_view_name": "StyleView",
      "description_width": ""
     }
    },
    "ace34d820f914fa784c7496583db9a27": {
     "model_module": "@jupyter-widgets/controls",
     "model_name": "ProgressStyleModel",
     "state": {
      "_model_module": "@jupyter-widgets/controls",
      "_model_module_version": "1.5.0",
      "_model_name": "ProgressStyleModel",
      "_view_count": null,
      "_view_module": "@jupyter-widgets/base",
      "_view_module_version": "1.2.0",
      "_view_name": "StyleView",
      "bar_color": null,
      "description_width": "initial"
     }
    },
    "adb308e311724bc599a97ab9de500dc3": {
     "model_module": "@jupyter-widgets/base",
     "model_name": "LayoutModel",
     "state": {
      "_model_module": "@jupyter-widgets/base",
      "_model_module_version": "1.2.0",
      "_model_name": "LayoutModel",
      "_view_count": null,
      "_view_module": "@jupyter-widgets/base",
      "_view_module_version": "1.2.0",
      "_view_name": "LayoutView",
      "align_content": null,
      "align_items": null,
      "align_self": null,
      "border": null,
      "bottom": null,
      "display": null,
      "flex": null,
      "flex_flow": null,
      "grid_area": null,
      "grid_auto_columns": null,
      "grid_auto_flow": null,
      "grid_auto_rows": null,
      "grid_column": null,
      "grid_gap": null,
      "grid_row": null,
      "grid_template_areas": null,
      "grid_template_columns": null,
      "grid_template_rows": null,
      "height": null,
      "justify_content": null,
      "justify_items": null,
      "left": null,
      "margin": null,
      "max_height": null,
      "max_width": null,
      "min_height": null,
      "min_width": null,
      "object_fit": null,
      "object_position": null,
      "order": null,
      "overflow": null,
      "overflow_x": null,
      "overflow_y": null,
      "padding": null,
      "right": null,
      "top": null,
      "visibility": null,
      "width": null
     }
    },
    "af1870085bcd40928bc93fb8e8f28362": {
     "model_module": "@jupyter-widgets/base",
     "model_name": "LayoutModel",
     "state": {
      "_model_module": "@jupyter-widgets/base",
      "_model_module_version": "1.2.0",
      "_model_name": "LayoutModel",
      "_view_count": null,
      "_view_module": "@jupyter-widgets/base",
      "_view_module_version": "1.2.0",
      "_view_name": "LayoutView",
      "align_content": null,
      "align_items": null,
      "align_self": null,
      "border": null,
      "bottom": null,
      "display": null,
      "flex": null,
      "flex_flow": null,
      "grid_area": null,
      "grid_auto_columns": null,
      "grid_auto_flow": null,
      "grid_auto_rows": null,
      "grid_column": null,
      "grid_gap": null,
      "grid_row": null,
      "grid_template_areas": null,
      "grid_template_columns": null,
      "grid_template_rows": null,
      "height": null,
      "justify_content": null,
      "justify_items": null,
      "left": null,
      "margin": null,
      "max_height": null,
      "max_width": null,
      "min_height": null,
      "min_width": null,
      "object_fit": null,
      "object_position": null,
      "order": null,
      "overflow": null,
      "overflow_x": null,
      "overflow_y": null,
      "padding": null,
      "right": null,
      "top": null,
      "visibility": null,
      "width": null
     }
    },
    "af51528bd1224906854c8a1b6e08a636": {
     "model_module": "@jupyter-widgets/controls",
     "model_name": "DescriptionStyleModel",
     "state": {
      "_model_module": "@jupyter-widgets/controls",
      "_model_module_version": "1.5.0",
      "_model_name": "DescriptionStyleModel",
      "_view_count": null,
      "_view_module": "@jupyter-widgets/base",
      "_view_module_version": "1.2.0",
      "_view_name": "StyleView",
      "description_width": ""
     }
    },
    "b0025c3c93d24f01a49f64bde54c461f": {
     "model_module": "@jupyter-widgets/base",
     "model_name": "LayoutModel",
     "state": {
      "_model_module": "@jupyter-widgets/base",
      "_model_module_version": "1.2.0",
      "_model_name": "LayoutModel",
      "_view_count": null,
      "_view_module": "@jupyter-widgets/base",
      "_view_module_version": "1.2.0",
      "_view_name": "LayoutView",
      "align_content": null,
      "align_items": null,
      "align_self": null,
      "border": null,
      "bottom": null,
      "display": null,
      "flex": null,
      "flex_flow": null,
      "grid_area": null,
      "grid_auto_columns": null,
      "grid_auto_flow": null,
      "grid_auto_rows": null,
      "grid_column": null,
      "grid_gap": null,
      "grid_row": null,
      "grid_template_areas": null,
      "grid_template_columns": null,
      "grid_template_rows": null,
      "height": null,
      "justify_content": null,
      "justify_items": null,
      "left": null,
      "margin": null,
      "max_height": null,
      "max_width": null,
      "min_height": null,
      "min_width": null,
      "object_fit": null,
      "object_position": null,
      "order": null,
      "overflow": null,
      "overflow_x": null,
      "overflow_y": null,
      "padding": null,
      "right": null,
      "top": null,
      "visibility": null,
      "width": null
     }
    },
    "b1902ab8c2ed47219983a1f45a6d83f7": {
     "model_module": "@jupyter-widgets/base",
     "model_name": "LayoutModel",
     "state": {
      "_model_module": "@jupyter-widgets/base",
      "_model_module_version": "1.2.0",
      "_model_name": "LayoutModel",
      "_view_count": null,
      "_view_module": "@jupyter-widgets/base",
      "_view_module_version": "1.2.0",
      "_view_name": "LayoutView",
      "align_content": null,
      "align_items": null,
      "align_self": null,
      "border": null,
      "bottom": null,
      "display": null,
      "flex": null,
      "flex_flow": null,
      "grid_area": null,
      "grid_auto_columns": null,
      "grid_auto_flow": null,
      "grid_auto_rows": null,
      "grid_column": null,
      "grid_gap": null,
      "grid_row": null,
      "grid_template_areas": null,
      "grid_template_columns": null,
      "grid_template_rows": null,
      "height": null,
      "justify_content": null,
      "justify_items": null,
      "left": null,
      "margin": null,
      "max_height": null,
      "max_width": null,
      "min_height": null,
      "min_width": null,
      "object_fit": null,
      "object_position": null,
      "order": null,
      "overflow": null,
      "overflow_x": null,
      "overflow_y": null,
      "padding": null,
      "right": null,
      "top": null,
      "visibility": null,
      "width": null
     }
    },
    "b394665975fe49f6986d9833ee8699f4": {
     "model_module": "@jupyter-widgets/base",
     "model_name": "LayoutModel",
     "state": {
      "_model_module": "@jupyter-widgets/base",
      "_model_module_version": "1.2.0",
      "_model_name": "LayoutModel",
      "_view_count": null,
      "_view_module": "@jupyter-widgets/base",
      "_view_module_version": "1.2.0",
      "_view_name": "LayoutView",
      "align_content": null,
      "align_items": null,
      "align_self": null,
      "border": null,
      "bottom": null,
      "display": null,
      "flex": null,
      "flex_flow": null,
      "grid_area": null,
      "grid_auto_columns": null,
      "grid_auto_flow": null,
      "grid_auto_rows": null,
      "grid_column": null,
      "grid_gap": null,
      "grid_row": null,
      "grid_template_areas": null,
      "grid_template_columns": null,
      "grid_template_rows": null,
      "height": null,
      "justify_content": null,
      "justify_items": null,
      "left": null,
      "margin": null,
      "max_height": null,
      "max_width": null,
      "min_height": null,
      "min_width": null,
      "object_fit": null,
      "object_position": null,
      "order": null,
      "overflow": null,
      "overflow_x": null,
      "overflow_y": null,
      "padding": null,
      "right": null,
      "top": null,
      "visibility": null,
      "width": null
     }
    },
    "b3ed87e382b14733a3e0803b7ec4ac14": {
     "model_module": "@jupyter-widgets/base",
     "model_name": "LayoutModel",
     "state": {
      "_model_module": "@jupyter-widgets/base",
      "_model_module_version": "1.2.0",
      "_model_name": "LayoutModel",
      "_view_count": null,
      "_view_module": "@jupyter-widgets/base",
      "_view_module_version": "1.2.0",
      "_view_name": "LayoutView",
      "align_content": null,
      "align_items": null,
      "align_self": null,
      "border": null,
      "bottom": null,
      "display": null,
      "flex": null,
      "flex_flow": null,
      "grid_area": null,
      "grid_auto_columns": null,
      "grid_auto_flow": null,
      "grid_auto_rows": null,
      "grid_column": null,
      "grid_gap": null,
      "grid_row": null,
      "grid_template_areas": null,
      "grid_template_columns": null,
      "grid_template_rows": null,
      "height": null,
      "justify_content": null,
      "justify_items": null,
      "left": null,
      "margin": null,
      "max_height": null,
      "max_width": null,
      "min_height": null,
      "min_width": null,
      "object_fit": null,
      "object_position": null,
      "order": null,
      "overflow": null,
      "overflow_x": null,
      "overflow_y": null,
      "padding": null,
      "right": null,
      "top": null,
      "visibility": null,
      "width": null
     }
    },
    "b4797b1fa0f24e179790636bd44ae2f0": {
     "model_module": "@jupyter-widgets/base",
     "model_name": "LayoutModel",
     "state": {
      "_model_module": "@jupyter-widgets/base",
      "_model_module_version": "1.2.0",
      "_model_name": "LayoutModel",
      "_view_count": null,
      "_view_module": "@jupyter-widgets/base",
      "_view_module_version": "1.2.0",
      "_view_name": "LayoutView",
      "align_content": null,
      "align_items": null,
      "align_self": null,
      "border": null,
      "bottom": null,
      "display": null,
      "flex": null,
      "flex_flow": null,
      "grid_area": null,
      "grid_auto_columns": null,
      "grid_auto_flow": null,
      "grid_auto_rows": null,
      "grid_column": null,
      "grid_gap": null,
      "grid_row": null,
      "grid_template_areas": null,
      "grid_template_columns": null,
      "grid_template_rows": null,
      "height": null,
      "justify_content": null,
      "justify_items": null,
      "left": null,
      "margin": null,
      "max_height": null,
      "max_width": null,
      "min_height": null,
      "min_width": null,
      "object_fit": null,
      "object_position": null,
      "order": null,
      "overflow": null,
      "overflow_x": null,
      "overflow_y": null,
      "padding": null,
      "right": null,
      "top": null,
      "visibility": null,
      "width": null
     }
    },
    "b6bc2612d5194b469e7007aedbed390e": {
     "model_module": "@jupyter-widgets/controls",
     "model_name": "DescriptionStyleModel",
     "state": {
      "_model_module": "@jupyter-widgets/controls",
      "_model_module_version": "1.5.0",
      "_model_name": "DescriptionStyleModel",
      "_view_count": null,
      "_view_module": "@jupyter-widgets/base",
      "_view_module_version": "1.2.0",
      "_view_name": "StyleView",
      "description_width": ""
     }
    },
    "bd3ca28ea5434e09b1c03d5f6ae2bc65": {
     "model_module": "@jupyter-widgets/controls",
     "model_name": "FloatProgressModel",
     "state": {
      "_dom_classes": [],
      "_model_module": "@jupyter-widgets/controls",
      "_model_module_version": "1.5.0",
      "_model_name": "FloatProgressModel",
      "_view_count": null,
      "_view_module": "@jupyter-widgets/controls",
      "_view_module_version": "1.5.0",
      "_view_name": "ProgressView",
      "bar_style": "success",
      "description": "100%",
      "description_tooltip": null,
      "layout": "IPY_MODEL_052d210ecb174a709c4e231bb8f924e9",
      "max": 821,
      "min": 0,
      "orientation": "horizontal",
      "style": "IPY_MODEL_1f5a6229335d4dd18100061e43ba2a5d",
      "value": 821
     }
    },
    "bdd635268de34eaba5f1fde72141c80f": {
     "model_module": "@jupyter-widgets/controls",
     "model_name": "FloatProgressModel",
     "state": {
      "_dom_classes": [],
      "_model_module": "@jupyter-widgets/controls",
      "_model_module_version": "1.5.0",
      "_model_name": "FloatProgressModel",
      "_view_count": null,
      "_view_module": "@jupyter-widgets/controls",
      "_view_module_version": "1.5.0",
      "_view_name": "ProgressView",
      "bar_style": "success",
      "description": "100%",
      "description_tooltip": null,
      "layout": "IPY_MODEL_520ce9c4f33145d48cba1ac0c8189e61",
      "max": 4534,
      "min": 0,
      "orientation": "horizontal",
      "style": "IPY_MODEL_dfc085d318cf478088792d19d4be8929",
      "value": 4534
     }
    },
    "bdf60a39c23f4e6683131e97318e1f06": {
     "model_module": "@jupyter-widgets/controls",
     "model_name": "FloatProgressModel",
     "state": {
      "_dom_classes": [],
      "_model_module": "@jupyter-widgets/controls",
      "_model_module_version": "1.5.0",
      "_model_name": "FloatProgressModel",
      "_view_count": null,
      "_view_module": "@jupyter-widgets/controls",
      "_view_module_version": "1.5.0",
      "_view_name": "ProgressView",
      "bar_style": "success",
      "description": "100%",
      "description_tooltip": null,
      "layout": "IPY_MODEL_021b2e69f8f64efb962f9f3065056a1b",
      "max": 4533,
      "min": 0,
      "orientation": "horizontal",
      "style": "IPY_MODEL_5b55d2a08f1f42b98410103eab2c3c35",
      "value": 4533
     }
    },
    "c07b842ddfd34d2a87b33e578d634ca9": {
     "model_module": "@jupyter-widgets/controls",
     "model_name": "HBoxModel",
     "state": {
      "_dom_classes": [],
      "_model_module": "@jupyter-widgets/controls",
      "_model_module_version": "1.5.0",
      "_model_name": "HBoxModel",
      "_view_count": null,
      "_view_module": "@jupyter-widgets/controls",
      "_view_module_version": "1.5.0",
      "_view_name": "HBoxView",
      "box_style": "",
      "children": [
       "IPY_MODEL_7a0d8db0057c4745a1bdfc755a6b7a3c",
       "IPY_MODEL_de1c675681b44238af51bca8d43dc2c2"
      ],
      "layout": "IPY_MODEL_2139448318e94f21bc3dd4661fad3977"
     }
    },
    "c807a8902ba645e2897e4092417c4703": {
     "model_module": "@jupyter-widgets/controls",
     "model_name": "HBoxModel",
     "state": {
      "_dom_classes": [],
      "_model_module": "@jupyter-widgets/controls",
      "_model_module_version": "1.5.0",
      "_model_name": "HBoxModel",
      "_view_count": null,
      "_view_module": "@jupyter-widgets/controls",
      "_view_module_version": "1.5.0",
      "_view_name": "HBoxView",
      "box_style": "",
      "children": [
       "IPY_MODEL_bdf60a39c23f4e6683131e97318e1f06",
       "IPY_MODEL_9a5f83d2eb234eb2bec6b7e5a6888187"
      ],
      "layout": "IPY_MODEL_9e055c28413240828bfd94b9fa12888b"
     }
    },
    "ca3b146a578e440b9661a83935388038": {
     "model_module": "@jupyter-widgets/controls",
     "model_name": "ProgressStyleModel",
     "state": {
      "_model_module": "@jupyter-widgets/controls",
      "_model_module_version": "1.5.0",
      "_model_name": "ProgressStyleModel",
      "_view_count": null,
      "_view_module": "@jupyter-widgets/base",
      "_view_module_version": "1.2.0",
      "_view_name": "StyleView",
      "bar_color": null,
      "description_width": "initial"
     }
    },
    "cc6b0d164c1c4df5a6996558c7ad7757": {
     "model_module": "@jupyter-widgets/controls",
     "model_name": "HBoxModel",
     "state": {
      "_dom_classes": [],
      "_model_module": "@jupyter-widgets/controls",
      "_model_module_version": "1.5.0",
      "_model_name": "HBoxModel",
      "_view_count": null,
      "_view_module": "@jupyter-widgets/controls",
      "_view_module_version": "1.5.0",
      "_view_name": "HBoxView",
      "box_style": "",
      "children": [
       "IPY_MODEL_7004211ed8e542c98c5b4fd04a5f3964",
       "IPY_MODEL_1690f4b7f2d94d6e95c71eeab9bac0f6"
      ],
      "layout": "IPY_MODEL_b0025c3c93d24f01a49f64bde54c461f"
     }
    },
    "cf5bff910a57462184bb461510341854": {
     "model_module": "@jupyter-widgets/controls",
     "model_name": "FloatProgressModel",
     "state": {
      "_dom_classes": [],
      "_model_module": "@jupyter-widgets/controls",
      "_model_module_version": "1.5.0",
      "_model_name": "FloatProgressModel",
      "_view_count": null,
      "_view_module": "@jupyter-widgets/controls",
      "_view_module_version": "1.5.0",
      "_view_name": "ProgressView",
      "bar_style": "success",
      "description": "100%",
      "description_tooltip": null,
      "layout": "IPY_MODEL_094318aa976945cfb1b9b3244957c93b",
      "max": 821,
      "min": 0,
      "orientation": "horizontal",
      "style": "IPY_MODEL_5ee7abca30e04a41953a9526f731e226",
      "value": 821
     }
    },
    "cf73c3896c614a0bba70d0c55792edb5": {
     "model_module": "@jupyter-widgets/base",
     "model_name": "LayoutModel",
     "state": {
      "_model_module": "@jupyter-widgets/base",
      "_model_module_version": "1.2.0",
      "_model_name": "LayoutModel",
      "_view_count": null,
      "_view_module": "@jupyter-widgets/base",
      "_view_module_version": "1.2.0",
      "_view_name": "LayoutView",
      "align_content": null,
      "align_items": null,
      "align_self": null,
      "border": null,
      "bottom": null,
      "display": null,
      "flex": null,
      "flex_flow": null,
      "grid_area": null,
      "grid_auto_columns": null,
      "grid_auto_flow": null,
      "grid_auto_rows": null,
      "grid_column": null,
      "grid_gap": null,
      "grid_row": null,
      "grid_template_areas": null,
      "grid_template_columns": null,
      "grid_template_rows": null,
      "height": null,
      "justify_content": null,
      "justify_items": null,
      "left": null,
      "margin": null,
      "max_height": null,
      "max_width": null,
      "min_height": null,
      "min_width": null,
      "object_fit": null,
      "object_position": null,
      "order": null,
      "overflow": null,
      "overflow_x": null,
      "overflow_y": null,
      "padding": null,
      "right": null,
      "top": null,
      "visibility": null,
      "width": null
     }
    },
    "d335bc2372ce43f6adaa935f14b9a013": {
     "model_module": "@jupyter-widgets/base",
     "model_name": "LayoutModel",
     "state": {
      "_model_module": "@jupyter-widgets/base",
      "_model_module_version": "1.2.0",
      "_model_name": "LayoutModel",
      "_view_count": null,
      "_view_module": "@jupyter-widgets/base",
      "_view_module_version": "1.2.0",
      "_view_name": "LayoutView",
      "align_content": null,
      "align_items": null,
      "align_self": null,
      "border": null,
      "bottom": null,
      "display": null,
      "flex": null,
      "flex_flow": null,
      "grid_area": null,
      "grid_auto_columns": null,
      "grid_auto_flow": null,
      "grid_auto_rows": null,
      "grid_column": null,
      "grid_gap": null,
      "grid_row": null,
      "grid_template_areas": null,
      "grid_template_columns": null,
      "grid_template_rows": null,
      "height": null,
      "justify_content": null,
      "justify_items": null,
      "left": null,
      "margin": null,
      "max_height": null,
      "max_width": null,
      "min_height": null,
      "min_width": null,
      "object_fit": null,
      "object_position": null,
      "order": null,
      "overflow": null,
      "overflow_x": null,
      "overflow_y": null,
      "padding": null,
      "right": null,
      "top": null,
      "visibility": null,
      "width": null
     }
    },
    "d5678d639930438e95882c94825ea14b": {
     "model_module": "@jupyter-widgets/controls",
     "model_name": "DescriptionStyleModel",
     "state": {
      "_model_module": "@jupyter-widgets/controls",
      "_model_module_version": "1.5.0",
      "_model_name": "DescriptionStyleModel",
      "_view_count": null,
      "_view_module": "@jupyter-widgets/base",
      "_view_module_version": "1.2.0",
      "_view_name": "StyleView",
      "description_width": ""
     }
    },
    "dc419456e76346dfb858e20c8cb144a0": {
     "model_module": "@jupyter-widgets/controls",
     "model_name": "HTMLModel",
     "state": {
      "_dom_classes": [],
      "_model_module": "@jupyter-widgets/controls",
      "_model_module_version": "1.5.0",
      "_model_name": "HTMLModel",
      "_view_count": null,
      "_view_module": "@jupyter-widgets/controls",
      "_view_module_version": "1.5.0",
      "_view_name": "HTMLView",
      "description": "",
      "description_tooltip": null,
      "layout": "IPY_MODEL_b1902ab8c2ed47219983a1f45a6d83f7",
      "placeholder": "​",
      "style": "IPY_MODEL_2f889b2e4eb746809b8da1e4175f6108",
      "value": " 821/821 [00:02&lt;00:00, 337.40it/s]"
     }
    },
    "ddbc6067332b4ebea1bf587558b3f343": {
     "model_module": "@jupyter-widgets/base",
     "model_name": "LayoutModel",
     "state": {
      "_model_module": "@jupyter-widgets/base",
      "_model_module_version": "1.2.0",
      "_model_name": "LayoutModel",
      "_view_count": null,
      "_view_module": "@jupyter-widgets/base",
      "_view_module_version": "1.2.0",
      "_view_name": "LayoutView",
      "align_content": null,
      "align_items": null,
      "align_self": null,
      "border": null,
      "bottom": null,
      "display": null,
      "flex": null,
      "flex_flow": null,
      "grid_area": null,
      "grid_auto_columns": null,
      "grid_auto_flow": null,
      "grid_auto_rows": null,
      "grid_column": null,
      "grid_gap": null,
      "grid_row": null,
      "grid_template_areas": null,
      "grid_template_columns": null,
      "grid_template_rows": null,
      "height": null,
      "justify_content": null,
      "justify_items": null,
      "left": null,
      "margin": null,
      "max_height": null,
      "max_width": null,
      "min_height": null,
      "min_width": null,
      "object_fit": null,
      "object_position": null,
      "order": null,
      "overflow": null,
      "overflow_x": null,
      "overflow_y": null,
      "padding": null,
      "right": null,
      "top": null,
      "visibility": null,
      "width": null
     }
    },
    "de1c675681b44238af51bca8d43dc2c2": {
     "model_module": "@jupyter-widgets/controls",
     "model_name": "HTMLModel",
     "state": {
      "_dom_classes": [],
      "_model_module": "@jupyter-widgets/controls",
      "_model_module_version": "1.5.0",
      "_model_name": "HTMLModel",
      "_view_count": null,
      "_view_module": "@jupyter-widgets/controls",
      "_view_module_version": "1.5.0",
      "_view_name": "HTMLView",
      "description": "",
      "description_tooltip": null,
      "layout": "IPY_MODEL_b394665975fe49f6986d9833ee8699f4",
      "placeholder": "​",
      "style": "IPY_MODEL_1fd5f7fbf10448359f01153e71fbb416",
      "value": " 4873/4873 [20:24&lt;00:00,  3.98it/s]"
     }
    },
    "def789319d564351983606e059858370": {
     "model_module": "@jupyter-widgets/controls",
     "model_name": "ProgressStyleModel",
     "state": {
      "_model_module": "@jupyter-widgets/controls",
      "_model_module_version": "1.5.0",
      "_model_name": "ProgressStyleModel",
      "_view_count": null,
      "_view_module": "@jupyter-widgets/base",
      "_view_module_version": "1.2.0",
      "_view_name": "StyleView",
      "bar_color": null,
      "description_width": "initial"
     }
    },
    "df1fc2aaebe74a33bad6b92717df3eba": {
     "model_module": "@jupyter-widgets/controls",
     "model_name": "HTMLModel",
     "state": {
      "_dom_classes": [],
      "_model_module": "@jupyter-widgets/controls",
      "_model_module_version": "1.5.0",
      "_model_name": "HTMLModel",
      "_view_count": null,
      "_view_module": "@jupyter-widgets/controls",
      "_view_module_version": "1.5.0",
      "_view_name": "HTMLView",
      "description": "",
      "description_tooltip": null,
      "layout": "IPY_MODEL_a44007c72d234e4fb76493dc482f73ea",
      "placeholder": "​",
      "style": "IPY_MODEL_5adb3336e8b240c7adb37c285d953920",
      "value": " 4873/4873 [05:25&lt;00:00, 14.95it/s]"
     }
    },
    "dfc085d318cf478088792d19d4be8929": {
     "model_module": "@jupyter-widgets/controls",
     "model_name": "ProgressStyleModel",
     "state": {
      "_model_module": "@jupyter-widgets/controls",
      "_model_module_version": "1.5.0",
      "_model_name": "ProgressStyleModel",
      "_view_count": null,
      "_view_module": "@jupyter-widgets/base",
      "_view_module_version": "1.2.0",
      "_view_name": "StyleView",
      "bar_color": null,
      "description_width": "initial"
     }
    },
    "e11a4e1779e24179808c8be2099460b2": {
     "model_module": "@jupyter-widgets/base",
     "model_name": "LayoutModel",
     "state": {
      "_model_module": "@jupyter-widgets/base",
      "_model_module_version": "1.2.0",
      "_model_name": "LayoutModel",
      "_view_count": null,
      "_view_module": "@jupyter-widgets/base",
      "_view_module_version": "1.2.0",
      "_view_name": "LayoutView",
      "align_content": null,
      "align_items": null,
      "align_self": null,
      "border": null,
      "bottom": null,
      "display": null,
      "flex": null,
      "flex_flow": null,
      "grid_area": null,
      "grid_auto_columns": null,
      "grid_auto_flow": null,
      "grid_auto_rows": null,
      "grid_column": null,
      "grid_gap": null,
      "grid_row": null,
      "grid_template_areas": null,
      "grid_template_columns": null,
      "grid_template_rows": null,
      "height": null,
      "justify_content": null,
      "justify_items": null,
      "left": null,
      "margin": null,
      "max_height": null,
      "max_width": null,
      "min_height": null,
      "min_width": null,
      "object_fit": null,
      "object_position": null,
      "order": null,
      "overflow": null,
      "overflow_x": null,
      "overflow_y": null,
      "padding": null,
      "right": null,
      "top": null,
      "visibility": null,
      "width": null
     }
    },
    "e1c7a3988d974b0c96837d13740e5d9f": {
     "model_module": "@jupyter-widgets/base",
     "model_name": "LayoutModel",
     "state": {
      "_model_module": "@jupyter-widgets/base",
      "_model_module_version": "1.2.0",
      "_model_name": "LayoutModel",
      "_view_count": null,
      "_view_module": "@jupyter-widgets/base",
      "_view_module_version": "1.2.0",
      "_view_name": "LayoutView",
      "align_content": null,
      "align_items": null,
      "align_self": null,
      "border": null,
      "bottom": null,
      "display": null,
      "flex": null,
      "flex_flow": null,
      "grid_area": null,
      "grid_auto_columns": null,
      "grid_auto_flow": null,
      "grid_auto_rows": null,
      "grid_column": null,
      "grid_gap": null,
      "grid_row": null,
      "grid_template_areas": null,
      "grid_template_columns": null,
      "grid_template_rows": null,
      "height": null,
      "justify_content": null,
      "justify_items": null,
      "left": null,
      "margin": null,
      "max_height": null,
      "max_width": null,
      "min_height": null,
      "min_width": null,
      "object_fit": null,
      "object_position": null,
      "order": null,
      "overflow": null,
      "overflow_x": null,
      "overflow_y": null,
      "padding": null,
      "right": null,
      "top": null,
      "visibility": null,
      "width": null
     }
    },
    "ec07c2ef4353469ca8d8ca72523f3a96": {
     "model_module": "@jupyter-widgets/controls",
     "model_name": "FloatProgressModel",
     "state": {
      "_dom_classes": [],
      "_model_module": "@jupyter-widgets/controls",
      "_model_module_version": "1.5.0",
      "_model_name": "FloatProgressModel",
      "_view_count": null,
      "_view_module": "@jupyter-widgets/controls",
      "_view_module_version": "1.5.0",
      "_view_name": "ProgressView",
      "bar_style": "success",
      "description": "100%",
      "description_tooltip": null,
      "layout": "IPY_MODEL_ddbc6067332b4ebea1bf587558b3f343",
      "max": 4069,
      "min": 0,
      "orientation": "horizontal",
      "style": "IPY_MODEL_18c6594363d54cd29d5837d0a9ad34f6",
      "value": 4069
     }
    },
    "eea415a4e1b249048c2ebd06cebd65fe": {
     "model_module": "@jupyter-widgets/base",
     "model_name": "LayoutModel",
     "state": {
      "_model_module": "@jupyter-widgets/base",
      "_model_module_version": "1.2.0",
      "_model_name": "LayoutModel",
      "_view_count": null,
      "_view_module": "@jupyter-widgets/base",
      "_view_module_version": "1.2.0",
      "_view_name": "LayoutView",
      "align_content": null,
      "align_items": null,
      "align_self": null,
      "border": null,
      "bottom": null,
      "display": null,
      "flex": null,
      "flex_flow": null,
      "grid_area": null,
      "grid_auto_columns": null,
      "grid_auto_flow": null,
      "grid_auto_rows": null,
      "grid_column": null,
      "grid_gap": null,
      "grid_row": null,
      "grid_template_areas": null,
      "grid_template_columns": null,
      "grid_template_rows": null,
      "height": null,
      "justify_content": null,
      "justify_items": null,
      "left": null,
      "margin": null,
      "max_height": null,
      "max_width": null,
      "min_height": null,
      "min_width": null,
      "object_fit": null,
      "object_position": null,
      "order": null,
      "overflow": null,
      "overflow_x": null,
      "overflow_y": null,
      "padding": null,
      "right": null,
      "top": null,
      "visibility": null,
      "width": null
     }
    },
    "efec440c5c2345d09f1ce050fb4d86a2": {
     "model_module": "@jupyter-widgets/controls",
     "model_name": "HTMLModel",
     "state": {
      "_dom_classes": [],
      "_model_module": "@jupyter-widgets/controls",
      "_model_module_version": "1.5.0",
      "_model_name": "HTMLModel",
      "_view_count": null,
      "_view_module": "@jupyter-widgets/controls",
      "_view_module_version": "1.5.0",
      "_view_name": "HTMLView",
      "description": "",
      "description_tooltip": null,
      "layout": "IPY_MODEL_f4bbce0560064ab7afc15a1e3b6ef83f",
      "placeholder": "​",
      "style": "IPY_MODEL_41c3def37a99445491c5f1ca69257014",
      "value": " 4534/4534 [01:23&lt;00:00, 54.51it/s]"
     }
    },
    "f006a9e6974940b29b981350fa030757": {
     "model_module": "@jupyter-widgets/controls",
     "model_name": "FloatProgressModel",
     "state": {
      "_dom_classes": [],
      "_model_module": "@jupyter-widgets/controls",
      "_model_module_version": "1.5.0",
      "_model_name": "FloatProgressModel",
      "_view_count": null,
      "_view_module": "@jupyter-widgets/controls",
      "_view_module_version": "1.5.0",
      "_view_name": "ProgressView",
      "bar_style": "success",
      "description": "100%",
      "description_tooltip": null,
      "layout": "IPY_MODEL_adb308e311724bc599a97ab9de500dc3",
      "max": 39,
      "min": 0,
      "orientation": "horizontal",
      "style": "IPY_MODEL_55934887b4bd4710bb0c7cf44a9d07e3",
      "value": 39
     }
    },
    "f0ca4912a2c944c18ebb004ca8a77d47": {
     "model_module": "@jupyter-widgets/controls",
     "model_name": "HBoxModel",
     "state": {
      "_dom_classes": [],
      "_model_module": "@jupyter-widgets/controls",
      "_model_module_version": "1.5.0",
      "_model_name": "HBoxModel",
      "_view_count": null,
      "_view_module": "@jupyter-widgets/controls",
      "_view_module_version": "1.5.0",
      "_view_name": "HBoxView",
      "box_style": "",
      "children": [
       "IPY_MODEL_bdd635268de34eaba5f1fde72141c80f",
       "IPY_MODEL_efec440c5c2345d09f1ce050fb4d86a2"
      ],
      "layout": "IPY_MODEL_8e110cd5fd084219ae07444dc6b61636"
     }
    },
    "f355ba254c1745418b25fb844dca9f2c": {
     "model_module": "@jupyter-widgets/base",
     "model_name": "LayoutModel",
     "state": {
      "_model_module": "@jupyter-widgets/base",
      "_model_module_version": "1.2.0",
      "_model_name": "LayoutModel",
      "_view_count": null,
      "_view_module": "@jupyter-widgets/base",
      "_view_module_version": "1.2.0",
      "_view_name": "LayoutView",
      "align_content": null,
      "align_items": null,
      "align_self": null,
      "border": null,
      "bottom": null,
      "display": null,
      "flex": null,
      "flex_flow": null,
      "grid_area": null,
      "grid_auto_columns": null,
      "grid_auto_flow": null,
      "grid_auto_rows": null,
      "grid_column": null,
      "grid_gap": null,
      "grid_row": null,
      "grid_template_areas": null,
      "grid_template_columns": null,
      "grid_template_rows": null,
      "height": null,
      "justify_content": null,
      "justify_items": null,
      "left": null,
      "margin": null,
      "max_height": null,
      "max_width": null,
      "min_height": null,
      "min_width": null,
      "object_fit": null,
      "object_position": null,
      "order": null,
      "overflow": null,
      "overflow_x": null,
      "overflow_y": null,
      "padding": null,
      "right": null,
      "top": null,
      "visibility": null,
      "width": null
     }
    },
    "f4bbce0560064ab7afc15a1e3b6ef83f": {
     "model_module": "@jupyter-widgets/base",
     "model_name": "LayoutModel",
     "state": {
      "_model_module": "@jupyter-widgets/base",
      "_model_module_version": "1.2.0",
      "_model_name": "LayoutModel",
      "_view_count": null,
      "_view_module": "@jupyter-widgets/base",
      "_view_module_version": "1.2.0",
      "_view_name": "LayoutView",
      "align_content": null,
      "align_items": null,
      "align_self": null,
      "border": null,
      "bottom": null,
      "display": null,
      "flex": null,
      "flex_flow": null,
      "grid_area": null,
      "grid_auto_columns": null,
      "grid_auto_flow": null,
      "grid_auto_rows": null,
      "grid_column": null,
      "grid_gap": null,
      "grid_row": null,
      "grid_template_areas": null,
      "grid_template_columns": null,
      "grid_template_rows": null,
      "height": null,
      "justify_content": null,
      "justify_items": null,
      "left": null,
      "margin": null,
      "max_height": null,
      "max_width": null,
      "min_height": null,
      "min_width": null,
      "object_fit": null,
      "object_position": null,
      "order": null,
      "overflow": null,
      "overflow_x": null,
      "overflow_y": null,
      "padding": null,
      "right": null,
      "top": null,
      "visibility": null,
      "width": null
     }
    },
    "f4bd0a38110d4a0c8b5426cca56fd1e4": {
     "model_module": "@jupyter-widgets/controls",
     "model_name": "FloatProgressModel",
     "state": {
      "_dom_classes": [],
      "_model_module": "@jupyter-widgets/controls",
      "_model_module_version": "1.5.0",
      "_model_name": "FloatProgressModel",
      "_view_count": null,
      "_view_module": "@jupyter-widgets/controls",
      "_view_module_version": "1.5.0",
      "_view_name": "ProgressView",
      "bar_style": "success",
      "description": "100%",
      "description_tooltip": null,
      "layout": "IPY_MODEL_e11a4e1779e24179808c8be2099460b2",
      "max": 1218,
      "min": 0,
      "orientation": "horizontal",
      "style": "IPY_MODEL_def789319d564351983606e059858370",
      "value": 1218
     }
    },
    "f7da93158b5c4a1f820263851f2b617f": {
     "model_module": "@jupyter-widgets/controls",
     "model_name": "HTMLModel",
     "state": {
      "_dom_classes": [],
      "_model_module": "@jupyter-widgets/controls",
      "_model_module_version": "1.5.0",
      "_model_name": "HTMLModel",
      "_view_count": null,
      "_view_module": "@jupyter-widgets/controls",
      "_view_module_version": "1.5.0",
      "_view_name": "HTMLView",
      "description": "",
      "description_tooltip": null,
      "layout": "IPY_MODEL_6529c78ca66548269914cf7e3691da2c",
      "placeholder": "​",
      "style": "IPY_MODEL_af51528bd1224906854c8a1b6e08a636",
      "value": " 39/39 [14:03&lt;00:00, 21.63s/it]"
     }
    },
    "fb232403bfda4ec5b2171a2b7169d8e3": {
     "model_module": "@jupyter-widgets/controls",
     "model_name": "DescriptionStyleModel",
     "state": {
      "_model_module": "@jupyter-widgets/controls",
      "_model_module_version": "1.5.0",
      "_model_name": "DescriptionStyleModel",
      "_view_count": null,
      "_view_module": "@jupyter-widgets/base",
      "_view_module_version": "1.2.0",
      "_view_name": "StyleView",
      "description_width": ""
     }
    },
    "fba619a001444a179738780f9ae449f3": {
     "model_module": "@jupyter-widgets/base",
     "model_name": "LayoutModel",
     "state": {
      "_model_module": "@jupyter-widgets/base",
      "_model_module_version": "1.2.0",
      "_model_name": "LayoutModel",
      "_view_count": null,
      "_view_module": "@jupyter-widgets/base",
      "_view_module_version": "1.2.0",
      "_view_name": "LayoutView",
      "align_content": null,
      "align_items": null,
      "align_self": null,
      "border": null,
      "bottom": null,
      "display": null,
      "flex": null,
      "flex_flow": null,
      "grid_area": null,
      "grid_auto_columns": null,
      "grid_auto_flow": null,
      "grid_auto_rows": null,
      "grid_column": null,
      "grid_gap": null,
      "grid_row": null,
      "grid_template_areas": null,
      "grid_template_columns": null,
      "grid_template_rows": null,
      "height": null,
      "justify_content": null,
      "justify_items": null,
      "left": null,
      "margin": null,
      "max_height": null,
      "max_width": null,
      "min_height": null,
      "min_width": null,
      "object_fit": null,
      "object_position": null,
      "order": null,
      "overflow": null,
      "overflow_x": null,
      "overflow_y": null,
      "padding": null,
      "right": null,
      "top": null,
      "visibility": null,
      "width": null
     }
    },
    "fbc76f28742b4a8eba49c7acdc79191b": {
     "model_module": "@jupyter-widgets/base",
     "model_name": "LayoutModel",
     "state": {
      "_model_module": "@jupyter-widgets/base",
      "_model_module_version": "1.2.0",
      "_model_name": "LayoutModel",
      "_view_count": null,
      "_view_module": "@jupyter-widgets/base",
      "_view_module_version": "1.2.0",
      "_view_name": "LayoutView",
      "align_content": null,
      "align_items": null,
      "align_self": null,
      "border": null,
      "bottom": null,
      "display": null,
      "flex": null,
      "flex_flow": null,
      "grid_area": null,
      "grid_auto_columns": null,
      "grid_auto_flow": null,
      "grid_auto_rows": null,
      "grid_column": null,
      "grid_gap": null,
      "grid_row": null,
      "grid_template_areas": null,
      "grid_template_columns": null,
      "grid_template_rows": null,
      "height": null,
      "justify_content": null,
      "justify_items": null,
      "left": null,
      "margin": null,
      "max_height": null,
      "max_width": null,
      "min_height": null,
      "min_width": null,
      "object_fit": null,
      "object_position": null,
      "order": null,
      "overflow": null,
      "overflow_x": null,
      "overflow_y": null,
      "padding": null,
      "right": null,
      "top": null,
      "visibility": null,
      "width": null
     }
    },
    "fbf2abc06b234b0ea34a14c5573a9072": {
     "model_module": "@jupyter-widgets/controls",
     "model_name": "DescriptionStyleModel",
     "state": {
      "_model_module": "@jupyter-widgets/controls",
      "_model_module_version": "1.5.0",
      "_model_name": "DescriptionStyleModel",
      "_view_count": null,
      "_view_module": "@jupyter-widgets/base",
      "_view_module_version": "1.2.0",
      "_view_name": "StyleView",
      "description_width": ""
     }
    },
    "ffcf947f901c48c18f071c9e149c80c8": {
     "model_module": "@jupyter-widgets/controls",
     "model_name": "FloatProgressModel",
     "state": {
      "_dom_classes": [],
      "_model_module": "@jupyter-widgets/controls",
      "_model_module_version": "1.5.0",
      "_model_name": "FloatProgressModel",
      "_view_count": null,
      "_view_module": "@jupyter-widgets/controls",
      "_view_module_version": "1.5.0",
      "_view_name": "ProgressView",
      "bar_style": "success",
      "description": "100%",
      "description_tooltip": null,
      "layout": "IPY_MODEL_d335bc2372ce43f6adaa935f14b9a013",
      "max": 1218,
      "min": 0,
      "orientation": "horizontal",
      "style": "IPY_MODEL_ca3b146a578e440b9661a83935388038",
      "value": 1218
     }
    }
   }
  }
 },
 "nbformat": 4,
 "nbformat_minor": 4
}
